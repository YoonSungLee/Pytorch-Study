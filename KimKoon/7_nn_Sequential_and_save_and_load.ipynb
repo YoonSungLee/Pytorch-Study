{
  "nbformat": 4,
  "nbformat_minor": 0,
  "metadata": {
    "colab": {
      "name": "7. nn.Sequential and save and load.ipynb",
      "provenance": [],
      "collapsed_sections": [],
      "authorship_tag": "ABX9TyO9N3crACaRc6PsEg2nm/xB"
    },
    "kernelspec": {
      "name": "python3",
      "display_name": "Python 3"
    },
    "accelerator": "GPU",
    "widgets": {
      "application/vnd.jupyter.widget-state+json": {
        "ce2b7db3e5db4bbb9cc2d4f823bd43f1": {
          "model_module": "@jupyter-widgets/controls",
          "model_name": "HBoxModel",
          "state": {
            "_view_name": "HBoxView",
            "_dom_classes": [],
            "_model_name": "HBoxModel",
            "_view_module": "@jupyter-widgets/controls",
            "_model_module_version": "1.5.0",
            "_view_count": null,
            "_view_module_version": "1.5.0",
            "box_style": "",
            "layout": "IPY_MODEL_da815a1003454786b2e2fc93392544ab",
            "_model_module": "@jupyter-widgets/controls",
            "children": [
              "IPY_MODEL_ae746c601be1482bab2dc074ed8d9781",
              "IPY_MODEL_ebda97d6bfe140978e6f8448b1200507"
            ]
          }
        },
        "da815a1003454786b2e2fc93392544ab": {
          "model_module": "@jupyter-widgets/base",
          "model_name": "LayoutModel",
          "state": {
            "_view_name": "LayoutView",
            "grid_template_rows": null,
            "right": null,
            "justify_content": null,
            "_view_module": "@jupyter-widgets/base",
            "overflow": null,
            "_model_module_version": "1.2.0",
            "_view_count": null,
            "flex_flow": null,
            "width": null,
            "min_width": null,
            "border": null,
            "align_items": null,
            "bottom": null,
            "_model_module": "@jupyter-widgets/base",
            "top": null,
            "grid_column": null,
            "overflow_y": null,
            "overflow_x": null,
            "grid_auto_flow": null,
            "grid_area": null,
            "grid_template_columns": null,
            "flex": null,
            "_model_name": "LayoutModel",
            "justify_items": null,
            "grid_row": null,
            "max_height": null,
            "align_content": null,
            "visibility": null,
            "align_self": null,
            "height": null,
            "min_height": null,
            "padding": null,
            "grid_auto_rows": null,
            "grid_gap": null,
            "max_width": null,
            "order": null,
            "_view_module_version": "1.2.0",
            "grid_template_areas": null,
            "object_position": null,
            "object_fit": null,
            "grid_auto_columns": null,
            "margin": null,
            "display": null,
            "left": null
          }
        },
        "ae746c601be1482bab2dc074ed8d9781": {
          "model_module": "@jupyter-widgets/controls",
          "model_name": "FloatProgressModel",
          "state": {
            "_view_name": "ProgressView",
            "style": "IPY_MODEL_dec67af7beb645a2b9ca8093aea89acf",
            "_dom_classes": [],
            "description": "",
            "_model_name": "FloatProgressModel",
            "bar_style": "info",
            "max": 1,
            "_view_module": "@jupyter-widgets/controls",
            "_model_module_version": "1.5.0",
            "value": 1,
            "_view_count": null,
            "_view_module_version": "1.5.0",
            "orientation": "horizontal",
            "min": 0,
            "description_tooltip": null,
            "_model_module": "@jupyter-widgets/controls",
            "layout": "IPY_MODEL_97374b65b25c44e69e253a945a9594c1"
          }
        },
        "ebda97d6bfe140978e6f8448b1200507": {
          "model_module": "@jupyter-widgets/controls",
          "model_name": "HTMLModel",
          "state": {
            "_view_name": "HTMLView",
            "style": "IPY_MODEL_d4c5bcc4121d4b36bd88d5b3553048ca",
            "_dom_classes": [],
            "description": "",
            "_model_name": "HTMLModel",
            "placeholder": "​",
            "_view_module": "@jupyter-widgets/controls",
            "_model_module_version": "1.5.0",
            "value": " 170500096/? [00:20&lt;00:00, 30460789.25it/s]",
            "_view_count": null,
            "_view_module_version": "1.5.0",
            "description_tooltip": null,
            "_model_module": "@jupyter-widgets/controls",
            "layout": "IPY_MODEL_426b788a7b4d45e49e2cc93c6cc5afd7"
          }
        },
        "dec67af7beb645a2b9ca8093aea89acf": {
          "model_module": "@jupyter-widgets/controls",
          "model_name": "ProgressStyleModel",
          "state": {
            "_view_name": "StyleView",
            "_model_name": "ProgressStyleModel",
            "description_width": "initial",
            "_view_module": "@jupyter-widgets/base",
            "_model_module_version": "1.5.0",
            "_view_count": null,
            "_view_module_version": "1.2.0",
            "bar_color": null,
            "_model_module": "@jupyter-widgets/controls"
          }
        },
        "97374b65b25c44e69e253a945a9594c1": {
          "model_module": "@jupyter-widgets/base",
          "model_name": "LayoutModel",
          "state": {
            "_view_name": "LayoutView",
            "grid_template_rows": null,
            "right": null,
            "justify_content": null,
            "_view_module": "@jupyter-widgets/base",
            "overflow": null,
            "_model_module_version": "1.2.0",
            "_view_count": null,
            "flex_flow": null,
            "width": null,
            "min_width": null,
            "border": null,
            "align_items": null,
            "bottom": null,
            "_model_module": "@jupyter-widgets/base",
            "top": null,
            "grid_column": null,
            "overflow_y": null,
            "overflow_x": null,
            "grid_auto_flow": null,
            "grid_area": null,
            "grid_template_columns": null,
            "flex": null,
            "_model_name": "LayoutModel",
            "justify_items": null,
            "grid_row": null,
            "max_height": null,
            "align_content": null,
            "visibility": null,
            "align_self": null,
            "height": null,
            "min_height": null,
            "padding": null,
            "grid_auto_rows": null,
            "grid_gap": null,
            "max_width": null,
            "order": null,
            "_view_module_version": "1.2.0",
            "grid_template_areas": null,
            "object_position": null,
            "object_fit": null,
            "grid_auto_columns": null,
            "margin": null,
            "display": null,
            "left": null
          }
        },
        "d4c5bcc4121d4b36bd88d5b3553048ca": {
          "model_module": "@jupyter-widgets/controls",
          "model_name": "DescriptionStyleModel",
          "state": {
            "_view_name": "StyleView",
            "_model_name": "DescriptionStyleModel",
            "description_width": "",
            "_view_module": "@jupyter-widgets/base",
            "_model_module_version": "1.5.0",
            "_view_count": null,
            "_view_module_version": "1.2.0",
            "_model_module": "@jupyter-widgets/controls"
          }
        },
        "426b788a7b4d45e49e2cc93c6cc5afd7": {
          "model_module": "@jupyter-widgets/base",
          "model_name": "LayoutModel",
          "state": {
            "_view_name": "LayoutView",
            "grid_template_rows": null,
            "right": null,
            "justify_content": null,
            "_view_module": "@jupyter-widgets/base",
            "overflow": null,
            "_model_module_version": "1.2.0",
            "_view_count": null,
            "flex_flow": null,
            "width": null,
            "min_width": null,
            "border": null,
            "align_items": null,
            "bottom": null,
            "_model_module": "@jupyter-widgets/base",
            "top": null,
            "grid_column": null,
            "overflow_y": null,
            "overflow_x": null,
            "grid_auto_flow": null,
            "grid_area": null,
            "grid_template_columns": null,
            "flex": null,
            "_model_name": "LayoutModel",
            "justify_items": null,
            "grid_row": null,
            "max_height": null,
            "align_content": null,
            "visibility": null,
            "align_self": null,
            "height": null,
            "min_height": null,
            "padding": null,
            "grid_auto_rows": null,
            "grid_gap": null,
            "max_width": null,
            "order": null,
            "_view_module_version": "1.2.0",
            "grid_template_areas": null,
            "object_position": null,
            "object_fit": null,
            "grid_auto_columns": null,
            "margin": null,
            "display": null,
            "left": null
          }
        }
      }
    }
  },
  "cells": [
    {
      "cell_type": "markdown",
      "metadata": {
        "id": "p1rIVSoI3e6L",
        "colab_type": "text"
      },
      "source": [
        "https://www.youtube.com/watch?v=n_Pg-wSRGyI"
      ]
    },
    {
      "cell_type": "code",
      "metadata": {
        "id": "tN8sPpk9rPt7",
        "colab_type": "code",
        "colab": {
          "base_uri": "https://localhost:8080/",
          "height": 618
        },
        "outputId": "12f78ee9-7bce-49ea-f864-735631756ca2"
      },
      "source": [
        "!pip install visdom"
      ],
      "execution_count": null,
      "outputs": [
        {
          "output_type": "stream",
          "text": [
            "Collecting visdom\n",
            "\u001b[?25l  Downloading https://files.pythonhosted.org/packages/c9/75/e078f5a2e1df7e0d3044749089fc2823e62d029cc027ed8ae5d71fafcbdc/visdom-0.1.8.9.tar.gz (676kB)\n",
            "\r\u001b[K     |▌                               | 10kB 21.3MB/s eta 0:00:01\r\u001b[K     |█                               | 20kB 5.9MB/s eta 0:00:01\r\u001b[K     |█▌                              | 30kB 7.4MB/s eta 0:00:01\r\u001b[K     |██                              | 40kB 8.2MB/s eta 0:00:01\r\u001b[K     |██▍                             | 51kB 6.9MB/s eta 0:00:01\r\u001b[K     |███                             | 61kB 7.8MB/s eta 0:00:01\r\u001b[K     |███▍                            | 71kB 8.1MB/s eta 0:00:01\r\u001b[K     |███▉                            | 81kB 8.0MB/s eta 0:00:01\r\u001b[K     |████▍                           | 92kB 7.5MB/s eta 0:00:01\r\u001b[K     |████▉                           | 102kB 7.8MB/s eta 0:00:01\r\u001b[K     |█████▎                          | 112kB 7.8MB/s eta 0:00:01\r\u001b[K     |█████▉                          | 122kB 7.8MB/s eta 0:00:01\r\u001b[K     |██████▎                         | 133kB 7.8MB/s eta 0:00:01\r\u001b[K     |██████▉                         | 143kB 7.8MB/s eta 0:00:01\r\u001b[K     |███████▎                        | 153kB 7.8MB/s eta 0:00:01\r\u001b[K     |███████▊                        | 163kB 7.8MB/s eta 0:00:01\r\u001b[K     |████████▎                       | 174kB 7.8MB/s eta 0:00:01\r\u001b[K     |████████▊                       | 184kB 7.8MB/s eta 0:00:01\r\u001b[K     |█████████▏                      | 194kB 7.8MB/s eta 0:00:01\r\u001b[K     |█████████▊                      | 204kB 7.8MB/s eta 0:00:01\r\u001b[K     |██████████▏                     | 215kB 7.8MB/s eta 0:00:01\r\u001b[K     |██████████▋                     | 225kB 7.8MB/s eta 0:00:01\r\u001b[K     |███████████▏                    | 235kB 7.8MB/s eta 0:00:01\r\u001b[K     |███████████▋                    | 245kB 7.8MB/s eta 0:00:01\r\u001b[K     |████████████                    | 256kB 7.8MB/s eta 0:00:01\r\u001b[K     |████████████▋                   | 266kB 7.8MB/s eta 0:00:01\r\u001b[K     |█████████████                   | 276kB 7.8MB/s eta 0:00:01\r\u001b[K     |█████████████▋                  | 286kB 7.8MB/s eta 0:00:01\r\u001b[K     |██████████████                  | 296kB 7.8MB/s eta 0:00:01\r\u001b[K     |██████████████▌                 | 307kB 7.8MB/s eta 0:00:01\r\u001b[K     |███████████████                 | 317kB 7.8MB/s eta 0:00:01\r\u001b[K     |███████████████▌                | 327kB 7.8MB/s eta 0:00:01\r\u001b[K     |████████████████                | 337kB 7.8MB/s eta 0:00:01\r\u001b[K     |████████████████▌               | 348kB 7.8MB/s eta 0:00:01\r\u001b[K     |█████████████████               | 358kB 7.8MB/s eta 0:00:01\r\u001b[K     |█████████████████▍              | 368kB 7.8MB/s eta 0:00:01\r\u001b[K     |██████████████████              | 378kB 7.8MB/s eta 0:00:01\r\u001b[K     |██████████████████▍             | 389kB 7.8MB/s eta 0:00:01\r\u001b[K     |███████████████████             | 399kB 7.8MB/s eta 0:00:01\r\u001b[K     |███████████████████▍            | 409kB 7.8MB/s eta 0:00:01\r\u001b[K     |███████████████████▉            | 419kB 7.8MB/s eta 0:00:01\r\u001b[K     |████████████████████▍           | 430kB 7.8MB/s eta 0:00:01\r\u001b[K     |████████████████████▉           | 440kB 7.8MB/s eta 0:00:01\r\u001b[K     |█████████████████████▎          | 450kB 7.8MB/s eta 0:00:01\r\u001b[K     |█████████████████████▉          | 460kB 7.8MB/s eta 0:00:01\r\u001b[K     |██████████████████████▎         | 471kB 7.8MB/s eta 0:00:01\r\u001b[K     |██████████████████████▊         | 481kB 7.8MB/s eta 0:00:01\r\u001b[K     |███████████████████████▎        | 491kB 7.8MB/s eta 0:00:01\r\u001b[K     |███████████████████████▊        | 501kB 7.8MB/s eta 0:00:01\r\u001b[K     |████████████████████████▏       | 512kB 7.8MB/s eta 0:00:01\r\u001b[K     |████████████████████████▊       | 522kB 7.8MB/s eta 0:00:01\r\u001b[K     |█████████████████████████▏      | 532kB 7.8MB/s eta 0:00:01\r\u001b[K     |█████████████████████████▊      | 542kB 7.8MB/s eta 0:00:01\r\u001b[K     |██████████████████████████▏     | 552kB 7.8MB/s eta 0:00:01\r\u001b[K     |██████████████████████████▋     | 563kB 7.8MB/s eta 0:00:01\r\u001b[K     |███████████████████████████▏    | 573kB 7.8MB/s eta 0:00:01\r\u001b[K     |███████████████████████████▋    | 583kB 7.8MB/s eta 0:00:01\r\u001b[K     |████████████████████████████    | 593kB 7.8MB/s eta 0:00:01\r\u001b[K     |████████████████████████████▋   | 604kB 7.8MB/s eta 0:00:01\r\u001b[K     |█████████████████████████████   | 614kB 7.8MB/s eta 0:00:01\r\u001b[K     |█████████████████████████████▌  | 624kB 7.8MB/s eta 0:00:01\r\u001b[K     |██████████████████████████████  | 634kB 7.8MB/s eta 0:00:01\r\u001b[K     |██████████████████████████████▌ | 645kB 7.8MB/s eta 0:00:01\r\u001b[K     |███████████████████████████████ | 655kB 7.8MB/s eta 0:00:01\r\u001b[K     |███████████████████████████████▌| 665kB 7.8MB/s eta 0:00:01\r\u001b[K     |████████████████████████████████| 675kB 7.8MB/s eta 0:00:01\r\u001b[K     |████████████████████████████████| 686kB 7.8MB/s \n",
            "\u001b[?25hRequirement already satisfied: numpy>=1.8 in /usr/local/lib/python3.6/dist-packages (from visdom) (1.18.5)\n",
            "Requirement already satisfied: scipy in /usr/local/lib/python3.6/dist-packages (from visdom) (1.4.1)\n",
            "Requirement already satisfied: requests in /usr/local/lib/python3.6/dist-packages (from visdom) (2.23.0)\n",
            "Requirement already satisfied: tornado in /usr/local/lib/python3.6/dist-packages (from visdom) (5.1.1)\n",
            "Requirement already satisfied: pyzmq in /usr/local/lib/python3.6/dist-packages (from visdom) (19.0.1)\n",
            "Requirement already satisfied: six in /usr/local/lib/python3.6/dist-packages (from visdom) (1.15.0)\n",
            "Collecting jsonpatch\n",
            "  Downloading https://files.pythonhosted.org/packages/4f/d0/34b0f59ac08de9c1e07876cfecd80aec650600177b4bd445124c755499a7/jsonpatch-1.26-py2.py3-none-any.whl\n",
            "Collecting torchfile\n",
            "  Downloading https://files.pythonhosted.org/packages/91/af/5b305f86f2d218091af657ddb53f984ecbd9518ca9fe8ef4103a007252c9/torchfile-0.1.0.tar.gz\n",
            "Collecting websocket-client\n",
            "\u001b[?25l  Downloading https://files.pythonhosted.org/packages/4c/5f/f61b420143ed1c8dc69f9eaec5ff1ac36109d52c80de49d66e0c36c3dfdf/websocket_client-0.57.0-py2.py3-none-any.whl (200kB)\n",
            "\u001b[K     |████████████████████████████████| 204kB 23.0MB/s \n",
            "\u001b[?25hRequirement already satisfied: pillow in /usr/local/lib/python3.6/dist-packages (from visdom) (7.0.0)\n",
            "Requirement already satisfied: chardet<4,>=3.0.2 in /usr/local/lib/python3.6/dist-packages (from requests->visdom) (3.0.4)\n",
            "Requirement already satisfied: urllib3!=1.25.0,!=1.25.1,<1.26,>=1.21.1 in /usr/local/lib/python3.6/dist-packages (from requests->visdom) (1.24.3)\n",
            "Requirement already satisfied: idna<3,>=2.5 in /usr/local/lib/python3.6/dist-packages (from requests->visdom) (2.10)\n",
            "Requirement already satisfied: certifi>=2017.4.17 in /usr/local/lib/python3.6/dist-packages (from requests->visdom) (2020.6.20)\n",
            "Collecting jsonpointer>=1.9\n",
            "  Downloading https://files.pythonhosted.org/packages/18/b0/a80d29577c08eea401659254dfaed87f1af45272899e1812d7e01b679bc5/jsonpointer-2.0-py2.py3-none-any.whl\n",
            "Building wheels for collected packages: visdom, torchfile\n",
            "  Building wheel for visdom (setup.py) ... \u001b[?25l\u001b[?25hdone\n",
            "  Created wheel for visdom: filename=visdom-0.1.8.9-cp36-none-any.whl size=655250 sha256=b6c3c43cd6bca17ed8b72ac25bbaf90101b523916076b22281283b329e7e8f4c\n",
            "  Stored in directory: /root/.cache/pip/wheels/70/19/a7/6d589ed967f4dfefd33bc166d081257bd4ed0cb618dccfd62a\n",
            "  Building wheel for torchfile (setup.py) ... \u001b[?25l\u001b[?25hdone\n",
            "  Created wheel for torchfile: filename=torchfile-0.1.0-cp36-none-any.whl size=5712 sha256=10af7a4a439b7f12867cc9d28a4c62e4a8b9f473bb48957c76ebf4297c9326f3\n",
            "  Stored in directory: /root/.cache/pip/wheels/b1/c3/d6/9a1cc8f3a99a0fc1124cae20153f36af59a6e683daca0a0814\n",
            "Successfully built visdom torchfile\n",
            "Installing collected packages: jsonpointer, jsonpatch, torchfile, websocket-client, visdom\n",
            "Successfully installed jsonpatch-1.26 jsonpointer-2.0 torchfile-0.1.0 visdom-0.1.8.9 websocket-client-0.57.0\n"
          ],
          "name": "stdout"
        }
      ]
    },
    {
      "cell_type": "code",
      "metadata": {
        "id": "OLovyoMCqHXq",
        "colab_type": "code",
        "colab": {}
      },
      "source": [
        "import torch\n",
        "import torch.nn as nn\n",
        "import torch.nn.functional as F\n",
        "from torch.utils.data import DataLoader\n",
        "import torchvision.datasets as datasets\n",
        "from torch.autograd import Variable\n",
        "import visdom\n",
        "import torch.optim as optim\n",
        "import torchvision.transforms as transforms"
      ],
      "execution_count": null,
      "outputs": []
    },
    {
      "cell_type": "code",
      "metadata": {
        "id": "W0en4erzrNXc",
        "colab_type": "code",
        "colab": {
          "base_uri": "https://localhost:8080/",
          "height": 102,
          "referenced_widgets": [
            "ce2b7db3e5db4bbb9cc2d4f823bd43f1",
            "da815a1003454786b2e2fc93392544ab",
            "ae746c601be1482bab2dc074ed8d9781",
            "ebda97d6bfe140978e6f8448b1200507",
            "dec67af7beb645a2b9ca8093aea89acf",
            "97374b65b25c44e69e253a945a9594c1",
            "d4c5bcc4121d4b36bd88d5b3553048ca",
            "426b788a7b4d45e49e2cc93c6cc5afd7"
          ]
        },
        "outputId": "6d2084f6-f918-4c8d-84d2-523530a767fd"
      },
      "source": [
        "transform = transforms.Compose([transforms.ToTensor(),\n",
        "                                transforms.Normalize((0.5, 0.5, 0.5), (0.5, 0.5, 0.5))])\n",
        "trainset = datasets.CIFAR10(root='./data',\n",
        "                            train=True,\n",
        "                            download=True,\n",
        "                            transform=transform)\n",
        "testset = datasets.CIFAR10(root='./data',\n",
        "                           train=False,\n",
        "                           download=True,\n",
        "                           transform=transform)"
      ],
      "execution_count": null,
      "outputs": [
        {
          "output_type": "stream",
          "text": [
            "Downloading https://www.cs.toronto.edu/~kriz/cifar-10-python.tar.gz to ./data/cifar-10-python.tar.gz\n"
          ],
          "name": "stdout"
        },
        {
          "output_type": "display_data",
          "data": {
            "application/vnd.jupyter.widget-view+json": {
              "model_id": "ce2b7db3e5db4bbb9cc2d4f823bd43f1",
              "version_minor": 0,
              "version_major": 2
            },
            "text/plain": [
              "HBox(children=(FloatProgress(value=1.0, bar_style='info', max=1.0), HTML(value='')))"
            ]
          },
          "metadata": {
            "tags": []
          }
        },
        {
          "output_type": "stream",
          "text": [
            "Extracting ./data/cifar-10-python.tar.gz to ./data\n",
            "Files already downloaded and verified\n"
          ],
          "name": "stdout"
        }
      ]
    },
    {
      "cell_type": "code",
      "metadata": {
        "id": "lOmk0c-xrpWj",
        "colab_type": "code",
        "colab": {}
      },
      "source": [
        "class Net(nn.Module):\n",
        "    def __init__(self):\n",
        "        super(Net, self).__init__()\n",
        "\n",
        "        self.layer1 = nn.Sequential(\n",
        "            nn.Conv2d(3, 32, 5),\n",
        "            nn.ReLU(inplace=True),\n",
        "            nn.Conv2d(32, 64, 3),\n",
        "            nn.ReLU(inplace=True),\n",
        "            nn.Conv2d(64, 128, 3),\n",
        "            nn.Conv2d(128, 128, 3),\n",
        "            nn.ReLU(inplace=True),\n",
        "            nn.Conv2d(128, 256, 3),\n",
        "            nn.MaxPool2d(2)\n",
        "        )\n",
        "        self.layer2_1 = nn.Sequential(\n",
        "            nn.Conv2d(256, 512, 7, 1, 2),   # nn.Conv2d(in_channels, out_channels, kernel_size, stride, padding)\n",
        "            nn.Conv2d(512, 64, 1),\n",
        "            nn.MaxPool2d(2)\n",
        "        )\n",
        "        self.layer2_2 = nn.Sequential(\n",
        "            nn.Conv2d(256, 512, 5, 1, 1),\n",
        "            nn.Conv2d(512, 64, 1),\n",
        "            nn.MaxPool2d(2)\n",
        "        )\n",
        "        self.layer2_3 = nn.Sequential(\n",
        "            nn.Conv2d(256, 512, 3),\n",
        "            nn.Conv2d(512, 64, 1),\n",
        "            nn.MaxPool2d(2)\n",
        "        )\n",
        "        self.fc = nn.Sequential(\n",
        "            nn.Linear(3*64*4*4, 1024),\n",
        "            nn.ReLU(True),\n",
        "            nn.Linear(1024, 10)\n",
        "        )\n",
        "\n",
        "    def forward(self, x):\n",
        "        print(x.data.shape)\n",
        "        x = self.layer1(x)\n",
        "        x1 = self.layer2_1(x)\n",
        "        x2 = self.layer2_2(x)\n",
        "        x3 = self.layer2_3(x)\n",
        "        x = torch.cat((x1,x2,x3), dim=1)    # BxCxHxW --> dim=1 --> C를 기준으로 concat\n",
        "        x = x.view(x.shape[0], -1)\n",
        "        x = self.fc(x)\n",
        "        return x"
      ],
      "execution_count": null,
      "outputs": []
    },
    {
      "cell_type": "code",
      "metadata": {
        "id": "nAJtIuhJvMAy",
        "colab_type": "code",
        "colab": {
          "base_uri": "https://localhost:8080/",
          "height": 34
        },
        "outputId": "9b5d11df-4251-49ae-ba7b-ee12fcaadb8a"
      },
      "source": [
        "a = torch.rand(1, 3, 32, 32)\n",
        "print(a.shape)"
      ],
      "execution_count": null,
      "outputs": [
        {
          "output_type": "stream",
          "text": [
            "torch.Size([1, 3, 32, 32])\n"
          ],
          "name": "stdout"
        }
      ]
    },
    {
      "cell_type": "code",
      "metadata": {
        "id": "Hbn0SzhOvUjB",
        "colab_type": "code",
        "colab": {
          "base_uri": "https://localhost:8080/",
          "height": 52
        },
        "outputId": "856af152-0930-4ca7-cf18-0de56f649eee"
      },
      "source": [
        "network = Net()\n",
        "out = network(a)\n",
        "print(out.shape)"
      ],
      "execution_count": null,
      "outputs": [
        {
          "output_type": "stream",
          "text": [
            "torch.Size([1, 3, 32, 32])\n",
            "torch.Size([1, 10])\n"
          ],
          "name": "stdout"
        }
      ]
    },
    {
      "cell_type": "code",
      "metadata": {
        "id": "nYLv4b5bvab5",
        "colab_type": "code",
        "colab": {
          "base_uri": "https://localhost:8080/",
          "height": 52
        },
        "outputId": "4147a8ae-e86d-477b-8742-5ffc0e068df6"
      },
      "source": [
        "print(out)"
      ],
      "execution_count": null,
      "outputs": [
        {
          "output_type": "stream",
          "text": [
            "tensor([[-0.0092, -0.0131, -0.0228,  0.0121,  0.0174, -0.0039,  0.0230,  0.0303,\n",
            "         -0.0070,  0.0248]], grad_fn=<AddmmBackward>)\n"
          ],
          "name": "stdout"
        }
      ]
    },
    {
      "cell_type": "code",
      "metadata": {
        "id": "IHUt19-kxBnr",
        "colab_type": "code",
        "colab": {}
      },
      "source": [
        "torch.save(network.state_dict(), './cnn.pth')"
      ],
      "execution_count": null,
      "outputs": []
    },
    {
      "cell_type": "code",
      "metadata": {
        "id": "dsuH-e73xSoK",
        "colab_type": "code",
        "colab": {}
      },
      "source": [
        "model = Net()"
      ],
      "execution_count": null,
      "outputs": []
    },
    {
      "cell_type": "code",
      "metadata": {
        "id": "8glGvmqKxVw5",
        "colab_type": "code",
        "colab": {
          "base_uri": "https://localhost:8080/",
          "height": 34
        },
        "outputId": "212ef0c1-7be4-417f-d20b-388c470168da"
      },
      "source": [
        "model.load_state_dict(torch.load('./cnn.pth'))"
      ],
      "execution_count": null,
      "outputs": [
        {
          "output_type": "execute_result",
          "data": {
            "text/plain": [
              "<All keys matched successfully>"
            ]
          },
          "metadata": {
            "tags": []
          },
          "execution_count": 27
        }
      ]
    },
    {
      "cell_type": "code",
      "metadata": {
        "id": "JRaf8Pwkxb6i",
        "colab_type": "code",
        "colab": {
          "base_uri": "https://localhost:8080/",
          "height": 70
        },
        "outputId": "2d587a02-4397-4127-efbf-2b6c98d5bd5f"
      },
      "source": [
        "out = model(a)\n",
        "print(out)"
      ],
      "execution_count": null,
      "outputs": [
        {
          "output_type": "stream",
          "text": [
            "torch.Size([1, 3, 32, 32])\n",
            "tensor([[-0.0092, -0.0131, -0.0228,  0.0121,  0.0174, -0.0039,  0.0230,  0.0303,\n",
            "         -0.0070,  0.0248]], grad_fn=<AddmmBackward>)\n"
          ],
          "name": "stdout"
        }
      ]
    }
  ]
}