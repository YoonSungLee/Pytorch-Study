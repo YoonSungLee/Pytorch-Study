{
  "nbformat": 4,
  "nbformat_minor": 0,
  "metadata": {
    "colab": {
      "name": "03. Linear Regression.ipynb",
      "provenance": [],
      "collapsed_sections": [],
      "authorship_tag": "ABX9TyPUp0DFxHK/EfQfUb0DUuoH"
    },
    "kernelspec": {
      "name": "python3",
      "display_name": "Python 3"
    }
  },
  "cells": [
    {
      "cell_type": "markdown",
      "metadata": {
        "id": "m095_h8txIRD",
        "colab_type": "text"
      },
      "source": [
        "# Linear Regression"
      ]
    },
    {
      "cell_type": "markdown",
      "metadata": {
        "id": "bfQRjd-IxceM",
        "colab_type": "text"
      },
      "source": [
        "해당 repository 및 code들은 wikidocs에서 제공하는 'Pytorch로 시작하는 딥 러닝 입문'을 참고하였음을 밝힙니다. 해당 자료를 바탕으로 숙지한 개념과 추가적인 저의 생각을 기록할 계획입니다. 출처는 다음 사이트와 같습니다.<br><br>\n",
        "* https://wikidocs.net/book/2788"
      ]
    },
    {
      "cell_type": "markdown",
      "metadata": {
        "id": "1rGsXT-LxpUU",
        "colab_type": "text"
      },
      "source": [
        "# 01. 선형 회귀(Linear Regression)"
      ]
    },
    {
      "cell_type": "markdown",
      "metadata": {
        "id": "z7kyTMUoxxdn",
        "colab_type": "text"
      },
      "source": [
        "비용 함수(cost function) = 손실 함수(loss function) = 오차 함수(error function) = 목적 함수(objective function)"
      ]
    },
    {
      "cell_type": "markdown",
      "metadata": {
        "id": "rE4B0ia11hvZ",
        "colab_type": "text"
      },
      "source": [
        "### 1. 기본 셋팅"
      ]
    },
    {
      "cell_type": "code",
      "metadata": {
        "id": "AI4_rfjFyf-n",
        "colab_type": "code",
        "colab": {}
      },
      "source": [
        "import torch\n",
        "import torch.nn as nn\n",
        "import torch.nn.functional as F\n",
        "import torch.optim as optim"
      ],
      "execution_count": null,
      "outputs": []
    },
    {
      "cell_type": "code",
      "metadata": {
        "id": "3VpPhvTZ0bWa",
        "colab_type": "code",
        "colab": {
          "base_uri": "https://localhost:8080/",
          "height": 35
        },
        "outputId": "6b17113c-74f6-4157-ef0d-61f6b315e7dd"
      },
      "source": [
        "# 현재 실습하고 있는 파이썬 코드를 재실행해도 다음에도 같은 결과가 나오도록 랜덤 시드(random seed)를 줍니다.\n",
        "\n",
        "torch.manual_seed(1)"
      ],
      "execution_count": null,
      "outputs": [
        {
          "output_type": "execute_result",
          "data": {
            "text/plain": [
              "<torch._C.Generator at 0x7fc974738df0>"
            ]
          },
          "metadata": {
            "tags": []
          },
          "execution_count": 2
        }
      ]
    },
    {
      "cell_type": "markdown",
      "metadata": {
        "id": "e5JUuOpC1kfp",
        "colab_type": "text"
      },
      "source": [
        "### 2. 변수 선언"
      ]
    },
    {
      "cell_type": "code",
      "metadata": {
        "id": "iW1n1vqf0iW4",
        "colab_type": "code",
        "colab": {}
      },
      "source": [
        "x_train = torch.FloatTensor([[1], [2], [3]])\n",
        "y_train = torch.FloatTensor([[2], [4], [6]])"
      ],
      "execution_count": null,
      "outputs": []
    },
    {
      "cell_type": "code",
      "metadata": {
        "id": "7mlPgxCm0yXh",
        "colab_type": "code",
        "colab": {
          "base_uri": "https://localhost:8080/",
          "height": 89
        },
        "outputId": "50beb901-81b6-4d5b-b332-535ae2bf6968"
      },
      "source": [
        "print(x_train)\n",
        "print(x_train.shape)"
      ],
      "execution_count": null,
      "outputs": [
        {
          "output_type": "stream",
          "text": [
            "tensor([[1.],\n",
            "        [2.],\n",
            "        [3.]])\n",
            "torch.Size([3, 1])\n"
          ],
          "name": "stdout"
        }
      ]
    },
    {
      "cell_type": "code",
      "metadata": {
        "id": "QJHrfTHs03gq",
        "colab_type": "code",
        "colab": {
          "base_uri": "https://localhost:8080/",
          "height": 89
        },
        "outputId": "a8708e63-e14f-4940-a3e6-db42442287a4"
      },
      "source": [
        "print(y_train)\n",
        "print(y_train.shape)"
      ],
      "execution_count": null,
      "outputs": [
        {
          "output_type": "stream",
          "text": [
            "tensor([[2.],\n",
            "        [4.],\n",
            "        [6.]])\n",
            "torch.Size([3, 1])\n"
          ],
          "name": "stdout"
        }
      ]
    },
    {
      "cell_type": "markdown",
      "metadata": {
        "id": "X1YnExUG1nR2",
        "colab_type": "text"
      },
      "source": [
        "### 3. 가중치와 편향의 초기화"
      ]
    },
    {
      "cell_type": "code",
      "metadata": {
        "id": "hu-DrO0w0-BC",
        "colab_type": "code",
        "colab": {
          "base_uri": "https://localhost:8080/",
          "height": 35
        },
        "outputId": "12408129-54ff-4679-a8e5-3cf145b67abb"
      },
      "source": [
        "# 가중치 W를 0으로 초기화하고 학습을 통해 값이 변경되는 변수임을 명시함\n",
        "W = torch.zeros(1, requires_grad=True)\n",
        "# 가중치 W를 출력\n",
        "print(W)"
      ],
      "execution_count": null,
      "outputs": [
        {
          "output_type": "stream",
          "text": [
            "tensor([0.], requires_grad=True)\n"
          ],
          "name": "stdout"
        }
      ]
    },
    {
      "cell_type": "markdown",
      "metadata": {
        "id": "IjFCYVA27CqP",
        "colab_type": "text"
      },
      "source": [
        "텐서에는 requries_grad라는 속성이 있습니다. 이것을 True로 설정하면 자동 미분 기능이 적용됩니다. requires_grad=True가 적용된 텐서에서 연산을 하면, 계산 그래프가 생성되며 backward 함수를 호출하면 그래프로부터 자동으로 미분이 계산됩니다."
      ]
    },
    {
      "cell_type": "code",
      "metadata": {
        "id": "_38SPow61J95",
        "colab_type": "code",
        "colab": {
          "base_uri": "https://localhost:8080/",
          "height": 35
        },
        "outputId": "4e4884b0-7f81-435b-d998-6b0f0b54aa56"
      },
      "source": [
        "b = torch.zeros(1, requires_grad=True)\n",
        "print(b)"
      ],
      "execution_count": null,
      "outputs": [
        {
          "output_type": "stream",
          "text": [
            "tensor([0.], requires_grad=True)\n"
          ],
          "name": "stdout"
        }
      ]
    },
    {
      "cell_type": "markdown",
      "metadata": {
        "id": "nu-579lz1t19",
        "colab_type": "text"
      },
      "source": [
        "### 4. 가설 세우기"
      ]
    },
    {
      "cell_type": "code",
      "metadata": {
        "id": "6UHFnFwT1R_K",
        "colab_type": "code",
        "colab": {
          "base_uri": "https://localhost:8080/",
          "height": 71
        },
        "outputId": "c80249bb-e72f-46e5-f17f-d349eade215f"
      },
      "source": [
        "hypothesis = x_train * W + b\n",
        "print(hypothesis)"
      ],
      "execution_count": null,
      "outputs": [
        {
          "output_type": "stream",
          "text": [
            "tensor([[0.],\n",
            "        [0.],\n",
            "        [0.]], grad_fn=<AddBackward0>)\n"
          ],
          "name": "stdout"
        }
      ]
    },
    {
      "cell_type": "markdown",
      "metadata": {
        "id": "o2FYUE2y1b6n",
        "colab_type": "text"
      },
      "source": [
        "### 5. 비용 함수 선언하기"
      ]
    },
    {
      "cell_type": "code",
      "metadata": {
        "id": "JxWdL_bB1rIn",
        "colab_type": "code",
        "colab": {
          "base_uri": "https://localhost:8080/",
          "height": 35
        },
        "outputId": "375f4649-04b6-4545-f368-a4442e670152"
      },
      "source": [
        "# 앞서 배운 torch.mean으로 평균을 구한다.\n",
        "cost = torch.mean((hypothesis - y_train)**2)\n",
        "print(cost)"
      ],
      "execution_count": null,
      "outputs": [
        {
          "output_type": "stream",
          "text": [
            "tensor(18.6667, grad_fn=<MeanBackward0>)\n"
          ],
          "name": "stdout"
        }
      ]
    },
    {
      "cell_type": "markdown",
      "metadata": {
        "id": "zsuNWUbm13qV",
        "colab_type": "text"
      },
      "source": [
        "### 6. 경사 하강법 구현하기"
      ]
    },
    {
      "cell_type": "code",
      "metadata": {
        "id": "mgma7n_s17iR",
        "colab_type": "code",
        "colab": {}
      },
      "source": [
        "optimizer = optim.SGD([W, b], lr=0.01)"
      ],
      "execution_count": null,
      "outputs": []
    },
    {
      "cell_type": "code",
      "metadata": {
        "id": "-j7u43jt2BZO",
        "colab_type": "code",
        "colab": {}
      },
      "source": [
        "# gradient를 0으로 초기화\n",
        "optimizer.zero_grad()\n",
        "# 비용 함수를 미분하여 gradient 계산\n",
        "cost.backward()\n",
        "# W와 b를 업데이트\n",
        "optimizer.step()"
      ],
      "execution_count": null,
      "outputs": []
    },
    {
      "cell_type": "markdown",
      "metadata": {
        "id": "Lh92_KEa2yGv",
        "colab_type": "text"
      },
      "source": [
        "### 7. 전체 코드"
      ]
    },
    {
      "cell_type": "code",
      "metadata": {
        "id": "HZ6zAxkF22XG",
        "colab_type": "code",
        "colab": {
          "base_uri": "https://localhost:8080/",
          "height": 395
        },
        "outputId": "c08709c8-6a12-4e9d-e485-2d2a954dd3c2"
      },
      "source": [
        "# 데이터\n",
        "x_train = torch.FloatTensor([[1], [2], [3]])\n",
        "y_train = torch.FloatTensor([[2], [4], [6]])\n",
        "\n",
        "# 모델 초기화\n",
        "W = torch.zeros(1, requires_grad=True)\n",
        "b = torch.zeros(1, requires_grad=True)\n",
        "\n",
        "# optimizer 설정\n",
        "optimizer = optim.SGD([W, b], lr=0.01)\n",
        "\n",
        "nb_epochs = 2000 # 원하는만큼 경사 하강법을 반복\n",
        "for epoch in range(nb_epochs+1):\n",
        "\n",
        "    # H(x) 계산\n",
        "    hypothesis = x_train * W + b\n",
        "\n",
        "    # cost 계산\n",
        "    cost = torch.mean((hypothesis - y_train)**2)\n",
        "\n",
        "    # cost로 H(x) 계산\n",
        "    optimizer.zero_grad()\n",
        "    cost.backward()\n",
        "    optimizer.step()\n",
        "\n",
        "    # 100번마다 로그 출력\n",
        "    # W와 b tensor의 원소값 확인 방법: W.item(), b.item()\n",
        "    # cost 확인 방법: cost.item()\n",
        "    if epoch % 100 == 0:\n",
        "        print('Epoch {:4d}/{} W: {:.3f}, b: {:.3f} Cost: {:.6f}'.format(epoch, nb_epochs, W.item(), b.item(), cost.item()))"
      ],
      "execution_count": null,
      "outputs": [
        {
          "output_type": "stream",
          "text": [
            "Epoch    0/2000 W: 0.187, b: 0.080 Cost: 18.666666\n",
            "Epoch  100/2000 W: 1.746, b: 0.578 Cost: 0.048171\n",
            "Epoch  200/2000 W: 1.800, b: 0.454 Cost: 0.029767\n",
            "Epoch  300/2000 W: 1.843, b: 0.357 Cost: 0.018394\n",
            "Epoch  400/2000 W: 1.876, b: 0.281 Cost: 0.011366\n",
            "Epoch  500/2000 W: 1.903, b: 0.221 Cost: 0.007024\n",
            "Epoch  600/2000 W: 1.924, b: 0.174 Cost: 0.004340\n",
            "Epoch  700/2000 W: 1.940, b: 0.136 Cost: 0.002682\n",
            "Epoch  800/2000 W: 1.953, b: 0.107 Cost: 0.001657\n",
            "Epoch  900/2000 W: 1.963, b: 0.084 Cost: 0.001024\n",
            "Epoch 1000/2000 W: 1.971, b: 0.066 Cost: 0.000633\n",
            "Epoch 1100/2000 W: 1.977, b: 0.052 Cost: 0.000391\n",
            "Epoch 1200/2000 W: 1.982, b: 0.041 Cost: 0.000242\n",
            "Epoch 1300/2000 W: 1.986, b: 0.032 Cost: 0.000149\n",
            "Epoch 1400/2000 W: 1.989, b: 0.025 Cost: 0.000092\n",
            "Epoch 1500/2000 W: 1.991, b: 0.020 Cost: 0.000057\n",
            "Epoch 1600/2000 W: 1.993, b: 0.016 Cost: 0.000035\n",
            "Epoch 1700/2000 W: 1.995, b: 0.012 Cost: 0.000022\n",
            "Epoch 1800/2000 W: 1.996, b: 0.010 Cost: 0.000013\n",
            "Epoch 1900/2000 W: 1.997, b: 0.008 Cost: 0.000008\n",
            "Epoch 2000/2000 W: 1.997, b: 0.006 Cost: 0.000005\n"
          ],
          "name": "stdout"
        }
      ]
    },
    {
      "cell_type": "markdown",
      "metadata": {
        "id": "Gm6DPCRo42Ev",
        "colab_type": "text"
      },
      "source": [
        "### optimizer.zero_grad()가 필요한 이유"
      ]
    },
    {
      "cell_type": "markdown",
      "metadata": {
        "id": "YESh_1Rk5P4K",
        "colab_type": "text"
      },
      "source": [
        "파이토치는 미분을 통해 얻은 기울기를 이전에 계산된 기울기값에 누적시키는 특징이 있습니다."
      ]
    },
    {
      "cell_type": "code",
      "metadata": {
        "id": "oBRdMBXg5Yif",
        "colab_type": "code",
        "colab": {
          "base_uri": "https://localhost:8080/",
          "height": 395
        },
        "outputId": "9024efb6-f1e4-4a15-b12e-4caa2809844c"
      },
      "source": [
        "import torch\n",
        "W = torch.tensor(2.0, requires_grad=True)\n",
        "\n",
        "nb_epochs = 20\n",
        "for epoch in range(nb_epochs+1):\n",
        "\n",
        "    Z = 2*W\n",
        "    \n",
        "    # optimizer.zero_grad()\n",
        "    Z.backward()\n",
        "    print('수식을 w로 미분한 값: {}'.format(W.grad))"
      ],
      "execution_count": null,
      "outputs": [
        {
          "output_type": "stream",
          "text": [
            "수식을 w로 미분한 값: 2.0\n",
            "수식을 w로 미분한 값: 4.0\n",
            "수식을 w로 미분한 값: 6.0\n",
            "수식을 w로 미분한 값: 8.0\n",
            "수식을 w로 미분한 값: 10.0\n",
            "수식을 w로 미분한 값: 12.0\n",
            "수식을 w로 미분한 값: 14.0\n",
            "수식을 w로 미분한 값: 16.0\n",
            "수식을 w로 미분한 값: 18.0\n",
            "수식을 w로 미분한 값: 20.0\n",
            "수식을 w로 미분한 값: 22.0\n",
            "수식을 w로 미분한 값: 24.0\n",
            "수식을 w로 미분한 값: 26.0\n",
            "수식을 w로 미분한 값: 28.0\n",
            "수식을 w로 미분한 값: 30.0\n",
            "수식을 w로 미분한 값: 32.0\n",
            "수식을 w로 미분한 값: 34.0\n",
            "수식을 w로 미분한 값: 36.0\n",
            "수식을 w로 미분한 값: 38.0\n",
            "수식을 w로 미분한 값: 40.0\n",
            "수식을 w로 미분한 값: 42.0\n"
          ],
          "name": "stdout"
        }
      ]
    },
    {
      "cell_type": "markdown",
      "metadata": {
        "id": "1bRLc_G75nsJ",
        "colab_type": "text"
      },
      "source": [
        "### torch.manual_seed()를 하는 이유"
      ]
    },
    {
      "cell_type": "markdown",
      "metadata": {
        "id": "mhqDKeYP6gSU",
        "colab_type": "text"
      },
      "source": [
        "torch.manual_seed()를 사용한 프로그램의 결과는 다른 컴퓨터에서 실행시켜도 동일한 결과를 얻을 수 있습니다. 그 이유는 torch.manual_seed()는 난수 발생 순서와 값을 동일하게 보장해준다는 특징때문입니다."
      ]
    },
    {
      "cell_type": "code",
      "metadata": {
        "id": "pHnfd7Ft6sMB",
        "colab_type": "code",
        "colab": {}
      },
      "source": [
        "import torch"
      ],
      "execution_count": null,
      "outputs": []
    },
    {
      "cell_type": "code",
      "metadata": {
        "id": "S2OMR4hH6tSg",
        "colab_type": "code",
        "colab": {
          "base_uri": "https://localhost:8080/",
          "height": 71
        },
        "outputId": "850cc71a-49dd-4802-f89a-be449f8a0358"
      },
      "source": [
        "torch.manual_seed(3)\n",
        "print('랜덤 시드가 3일 때')\n",
        "for i in range(1,3):\n",
        "    print(torch.rand(1))"
      ],
      "execution_count": null,
      "outputs": [
        {
          "output_type": "stream",
          "text": [
            "랜덤 시드가 3일 때\n",
            "tensor([0.0043])\n",
            "tensor([0.1056])\n"
          ],
          "name": "stdout"
        }
      ]
    },
    {
      "cell_type": "code",
      "metadata": {
        "id": "FnQb01bI60z2",
        "colab_type": "code",
        "colab": {
          "base_uri": "https://localhost:8080/",
          "height": 71
        },
        "outputId": "9b74d980-1182-4832-d5b4-ac62d4f901a8"
      },
      "source": [
        "torch.manual_seed(5)\n",
        "print('랜덤 시드가 5일 때')\n",
        "for i in range(1,3):\n",
        "  print(torch.rand(1))"
      ],
      "execution_count": null,
      "outputs": [
        {
          "output_type": "stream",
          "text": [
            "랜덤 시드가 5일 때\n",
            "tensor([0.8303])\n",
            "tensor([0.1261])\n"
          ],
          "name": "stdout"
        }
      ]
    },
    {
      "cell_type": "code",
      "metadata": {
        "id": "izkYmdUJ63VG",
        "colab_type": "code",
        "colab": {
          "base_uri": "https://localhost:8080/",
          "height": 71
        },
        "outputId": "b4b1ad19-5a50-4699-8d5d-48863ee169b0"
      },
      "source": [
        "torch.manual_seed(3)\n",
        "print('랜덤 시드가 다시 3일 때')\n",
        "for i in range(1,3):\n",
        "  print(torch.rand(1))"
      ],
      "execution_count": null,
      "outputs": [
        {
          "output_type": "stream",
          "text": [
            "랜덤 시드가 다시 3일 때\n",
            "tensor([0.0043])\n",
            "tensor([0.1056])\n"
          ],
          "name": "stdout"
        }
      ]
    },
    {
      "cell_type": "markdown",
      "metadata": {
        "id": "gOka3vzU65rW",
        "colab_type": "text"
      },
      "source": [
        "# 02. 자동 미분(Autograd)"
      ]
    },
    {
      "cell_type": "code",
      "metadata": {
        "id": "1s7h9LryGg_I",
        "colab_type": "code",
        "colab": {}
      },
      "source": [
        "import torch"
      ],
      "execution_count": null,
      "outputs": []
    },
    {
      "cell_type": "code",
      "metadata": {
        "id": "Ut1i1M1fHApb",
        "colab_type": "code",
        "colab": {}
      },
      "source": [
        "# requires_grad=True: 이 텐서에 대한 기울기를 저장하겠다는 의미, w.grad에 w에 대한 미분값이 저장\n",
        "\n",
        "W = torch.tensor(2.0, requires_grad=True)"
      ],
      "execution_count": null,
      "outputs": []
    },
    {
      "cell_type": "code",
      "metadata": {
        "id": "KdPAal3fHZ33",
        "colab_type": "code",
        "colab": {}
      },
      "source": [
        "y = W**2\n",
        "z = 2*y + 5"
      ],
      "execution_count": null,
      "outputs": []
    },
    {
      "cell_type": "code",
      "metadata": {
        "id": "PBhjw5BBHy8L",
        "colab_type": "code",
        "colab": {}
      },
      "source": [
        "# 해당 수식의 w에 대한 기울기 계산\n",
        "\n",
        "z.backward()"
      ],
      "execution_count": null,
      "outputs": []
    },
    {
      "cell_type": "code",
      "metadata": {
        "id": "ur35uit-H64p",
        "colab_type": "code",
        "colab": {
          "base_uri": "https://localhost:8080/",
          "height": 35
        },
        "outputId": "fff519cf-c3d1-4e71-d2aa-d0b1f799dc51"
      },
      "source": [
        "print('수식을 w로 미분한 값: {}'.format(W.grad))"
      ],
      "execution_count": null,
      "outputs": [
        {
          "output_type": "stream",
          "text": [
            "수식을 w로 미분한 값: 8.0\n"
          ],
          "name": "stdout"
        }
      ]
    },
    {
      "cell_type": "markdown",
      "metadata": {
        "id": "68shpQkZI4Fi",
        "colab_type": "text"
      },
      "source": [
        "# 03. 다중 선형 회귀(Multivariable Linear Regression)"
      ]
    },
    {
      "cell_type": "code",
      "metadata": {
        "id": "kLT-RHOnLuC3",
        "colab_type": "code",
        "colab": {}
      },
      "source": [
        "import torch\n",
        "import torch.nn as nn\n",
        "import torch.nn.functional as F\n",
        "import torch.optim as optim"
      ],
      "execution_count": null,
      "outputs": []
    },
    {
      "cell_type": "code",
      "metadata": {
        "id": "djDWP2q3L-kl",
        "colab_type": "code",
        "colab": {
          "base_uri": "https://localhost:8080/",
          "height": 35
        },
        "outputId": "685641df-7b52-4ffe-a5ff-5cb5e905e59c"
      },
      "source": [
        "torch.manual_seed(1)"
      ],
      "execution_count": null,
      "outputs": [
        {
          "output_type": "execute_result",
          "data": {
            "text/plain": [
              "<torch._C.Generator at 0x7fc974738df0>"
            ]
          },
          "metadata": {
            "tags": []
          },
          "execution_count": 33
        }
      ]
    },
    {
      "cell_type": "code",
      "metadata": {
        "id": "zfQyriQwMAJp",
        "colab_type": "code",
        "colab": {}
      },
      "source": [
        "# 훈련 데이터\n",
        "x1_train = torch.FloatTensor([[73], [93], [89], [96], [73]])\n",
        "x2_train = torch.FloatTensor([[80], [88], [91], [98], [66]])\n",
        "x3_train = torch.FloatTensor([[75], [93], [90], [100], [70]])\n",
        "y_train = torch.FloatTensor([[152], [185], [180], [196], [142]])"
      ],
      "execution_count": null,
      "outputs": []
    },
    {
      "cell_type": "code",
      "metadata": {
        "id": "q6pEHI3sMHO1",
        "colab_type": "code",
        "colab": {}
      },
      "source": [
        "# 가중치 w와 편향 b 초기화\n",
        "w1 = torch.zeros(1, requires_grad=True)\n",
        "w2 = torch.zeros(1, requires_grad=True)\n",
        "w3 = torch.zeros(1, requires_grad=True)\n",
        "b = torch.zeros(1, requires_grad=True)"
      ],
      "execution_count": null,
      "outputs": []
    },
    {
      "cell_type": "code",
      "metadata": {
        "id": "jgvLL7oZMMSZ",
        "colab_type": "code",
        "colab": {
          "base_uri": "https://localhost:8080/",
          "height": 215
        },
        "outputId": "a380375c-c6a2-4b22-db86-7f2cf079c5fc"
      },
      "source": [
        "# optimizer 설정\n",
        "optimizer = optim.SGD([w1, w2, w3, b], lr=1e-5)\n",
        "\n",
        "nb_epochs = 1000\n",
        "for epoch in range(nb_epochs + 1):\n",
        "\n",
        "    # H(x) 계산\n",
        "    hypothesis = x1_train * w1 + x2_train * w2 + x3_train * w3 + b\n",
        "\n",
        "    # cost 계산\n",
        "    cost = torch.mean((hypothesis - y_train) ** 2)\n",
        "\n",
        "    # cost로 H(x) 개선\n",
        "    optimizer.zero_grad()\n",
        "    cost.backward()\n",
        "    optimizer.step()\n",
        "\n",
        "    # 100번마다 로그 출력\n",
        "    if epoch % 100 == 0:\n",
        "        print('Epoch {:4d}/{} w1: {:.3f} w2: {:.3f} w3: {:.3f} b: {:.3f} Cost: {:.6f}'.format(\n",
        "            epoch, nb_epochs, w1.item(), w2.item(), w3.item(), b.item(), cost.item()\n",
        "        ))"
      ],
      "execution_count": null,
      "outputs": [
        {
          "output_type": "stream",
          "text": [
            "Epoch    0/1000 w1: 0.294 w2: 0.294 w3: 0.297 b: 0.003 Cost: 29661.800781\n",
            "Epoch  100/1000 w1: 0.674 w2: 0.661 w3: 0.676 b: 0.008 Cost: 1.563628\n",
            "Epoch  200/1000 w1: 0.679 w2: 0.655 w3: 0.677 b: 0.008 Cost: 1.497595\n",
            "Epoch  300/1000 w1: 0.684 w2: 0.649 w3: 0.677 b: 0.008 Cost: 1.435044\n",
            "Epoch  400/1000 w1: 0.689 w2: 0.643 w3: 0.678 b: 0.008 Cost: 1.375726\n",
            "Epoch  500/1000 w1: 0.694 w2: 0.638 w3: 0.678 b: 0.009 Cost: 1.319497\n",
            "Epoch  600/1000 w1: 0.699 w2: 0.633 w3: 0.679 b: 0.009 Cost: 1.266215\n",
            "Epoch  700/1000 w1: 0.704 w2: 0.627 w3: 0.679 b: 0.009 Cost: 1.215703\n",
            "Epoch  800/1000 w1: 0.709 w2: 0.622 w3: 0.679 b: 0.009 Cost: 1.167810\n",
            "Epoch  900/1000 w1: 0.713 w2: 0.617 w3: 0.680 b: 0.009 Cost: 1.122429\n",
            "Epoch 1000/1000 w1: 0.718 w2: 0.613 w3: 0.680 b: 0.009 Cost: 1.079390\n"
          ],
          "name": "stdout"
        }
      ]
    },
    {
      "cell_type": "markdown",
      "metadata": {
        "id": "TStFzhq3N3yy",
        "colab_type": "text"
      },
      "source": [
        "### 행렬 연산을 고려하여 파이토치로 구현하기"
      ]
    },
    {
      "cell_type": "code",
      "metadata": {
        "id": "Gt3Mai-_Mz9M",
        "colab_type": "code",
        "colab": {}
      },
      "source": [
        "x_train  =  torch.FloatTensor([[73,  80,  75], \n",
        "                               [93,  88,  93], \n",
        "                               [89,  91,  90], \n",
        "                               [96,  98,  100],   \n",
        "                               [73,  66,  70]])\n",
        "y_train  =  torch.FloatTensor([[152],  [185],  [180],  [196],  [142]])"
      ],
      "execution_count": null,
      "outputs": []
    },
    {
      "cell_type": "code",
      "metadata": {
        "id": "nRInmQQuN7GE",
        "colab_type": "code",
        "colab": {
          "base_uri": "https://localhost:8080/",
          "height": 52
        },
        "outputId": "e215c9b2-aca9-48d8-ddfc-a0eaf2a592f6"
      },
      "source": [
        "print(x_train.shape)\n",
        "print(y_train.shape)"
      ],
      "execution_count": null,
      "outputs": [
        {
          "output_type": "stream",
          "text": [
            "torch.Size([5, 3])\n",
            "torch.Size([5, 1])\n"
          ],
          "name": "stdout"
        }
      ]
    },
    {
      "cell_type": "code",
      "metadata": {
        "id": "eIeVuI81N9Fk",
        "colab_type": "code",
        "colab": {}
      },
      "source": [
        "# 가중치와 편향 선언\n",
        "W = torch.zeros((3, 1), requires_grad=True)\n",
        "b = torch.zeros(1, requires_grad=True)"
      ],
      "execution_count": null,
      "outputs": []
    },
    {
      "cell_type": "code",
      "metadata": {
        "id": "pKF7CDfIOK73",
        "colab_type": "code",
        "colab": {}
      },
      "source": [
        "hypothesis = x_train.matmul(W) + b"
      ],
      "execution_count": null,
      "outputs": []
    },
    {
      "cell_type": "code",
      "metadata": {
        "id": "4fx7tUomOP-F",
        "colab_type": "code",
        "colab": {
          "base_uri": "https://localhost:8080/",
          "height": 406
        },
        "outputId": "e6c6befe-fed1-4ee0-8e28-d31a7fbd2070"
      },
      "source": [
        "# The full code\n",
        "\n",
        "x_train  =  torch.FloatTensor([[73,  80,  75], \n",
        "                               [93,  88,  93], \n",
        "                               [89,  91,  90], \n",
        "                               [96,  98,  100],   \n",
        "                               [73,  66,  70]])  \n",
        "y_train  =  torch.FloatTensor([[152],  [185],  [180],  [196],  [142]])\n",
        "\n",
        "# 모델 초기화\n",
        "W = torch.zeros((3, 1), requires_grad=True)\n",
        "b = torch.zeros(1, requires_grad=True)      # broadcasting\n",
        "# optimizer 설정\n",
        "optimizer = optim.SGD([W, b], lr=1e-5)\n",
        "\n",
        "nb_epochs = 20\n",
        "for epoch in range(nb_epochs + 1):\n",
        "\n",
        "    # H(x) 계산\n",
        "    # 편향 b는 브로드 캐스팅되어 각 샘플에 더해집니다.\n",
        "    hypothesis = x_train.matmul(W) + b      # (5,1) = (5,3) * (3,1) + (1,1)\n",
        "\n",
        "    # cost 계산\n",
        "    cost = torch.mean((hypothesis - y_train) ** 2)\n",
        "\n",
        "    # cost로 H(x) 개선\n",
        "    optimizer.zero_grad()\n",
        "    cost.backward()\n",
        "    optimizer.step()\n",
        "\n",
        "    # 100번마다 로그 출력\n",
        "    print('Epoch {:4d}/{} hypothesis: {} Cost: {:.6f}'.format(\n",
        "        epoch, nb_epochs, hypothesis.squeeze().detach(), cost.item()\n",
        "    ))"
      ],
      "execution_count": null,
      "outputs": [
        {
          "output_type": "stream",
          "text": [
            "Epoch    0/20 hypothesis: tensor([0., 0., 0., 0., 0.]) Cost: 29661.800781\n",
            "Epoch    1/20 hypothesis: tensor([67.2578, 80.8397, 79.6523, 86.7394, 61.6605]) Cost: 9298.520508\n",
            "Epoch    2/20 hypothesis: tensor([104.9128, 126.0990, 124.2466, 135.3015,  96.1821]) Cost: 2915.712402\n",
            "Epoch    3/20 hypothesis: tensor([125.9942, 151.4381, 149.2133, 162.4896, 115.5097]) Cost: 915.040527\n",
            "Epoch    4/20 hypothesis: tensor([137.7967, 165.6247, 163.1911, 177.7112, 126.3307]) Cost: 287.936096\n",
            "Epoch    5/20 hypothesis: tensor([144.4044, 173.5674, 171.0168, 186.2332, 132.3891]) Cost: 91.371071\n",
            "Epoch    6/20 hypothesis: tensor([148.1035, 178.0143, 175.3980, 191.0042, 135.7812]) Cost: 29.758249\n",
            "Epoch    7/20 hypothesis: tensor([150.1744, 180.5042, 177.8509, 193.6753, 137.6805]) Cost: 10.445267\n",
            "Epoch    8/20 hypothesis: tensor([151.3336, 181.8983, 179.2240, 195.1707, 138.7440]) Cost: 4.391237\n",
            "Epoch    9/20 hypothesis: tensor([151.9824, 182.6789, 179.9928, 196.0079, 139.3396]) Cost: 2.493121\n",
            "Epoch   10/20 hypothesis: tensor([152.3454, 183.1161, 180.4231, 196.4765, 139.6732]) Cost: 1.897688\n",
            "Epoch   11/20 hypothesis: tensor([152.5485, 183.3609, 180.6640, 196.7389, 139.8602]) Cost: 1.710552\n",
            "Epoch   12/20 hypothesis: tensor([152.6620, 183.4982, 180.7988, 196.8857, 139.9651]) Cost: 1.651416\n",
            "Epoch   13/20 hypothesis: tensor([152.7253, 183.5752, 180.8742, 196.9678, 140.0240]) Cost: 1.632369\n",
            "Epoch   14/20 hypothesis: tensor([152.7606, 183.6184, 180.9164, 197.0138, 140.0571]) Cost: 1.625924\n",
            "Epoch   15/20 hypothesis: tensor([152.7802, 183.6427, 180.9399, 197.0395, 140.0759]) Cost: 1.623420\n",
            "Epoch   16/20 hypothesis: tensor([152.7909, 183.6565, 180.9530, 197.0538, 140.0865]) Cost: 1.622152\n",
            "Epoch   17/20 hypothesis: tensor([152.7968, 183.6643, 180.9603, 197.0618, 140.0927]) Cost: 1.621261\n",
            "Epoch   18/20 hypothesis: tensor([152.7999, 183.6688, 180.9644, 197.0661, 140.0963]) Cost: 1.620501\n",
            "Epoch   19/20 hypothesis: tensor([152.8014, 183.6715, 180.9665, 197.0686, 140.0985]) Cost: 1.619757\n",
            "Epoch   20/20 hypothesis: tensor([152.8020, 183.6731, 180.9677, 197.0699, 140.0999]) Cost: 1.619046\n"
          ],
          "name": "stdout"
        }
      ]
    },
    {
      "cell_type": "markdown",
      "metadata": {
        "id": "sK3dnbK0PAUm",
        "colab_type": "text"
      },
      "source": [
        "위와 같은 행렬 연산을 기반으로 하는 구현은 행렬의 shape을 중요하게 생각해야 한다. 위 예시를 기반으로 설명하겠다. 최종적으로 생각해야 할 부분을 먼저 언급하자면, 행렬 연산의 결과인 hypothesis의 shape이 적절하게 구성되었는지를 봐야 한다. 이 문제는 3개의 column을 가진 데이터를 바탕으로 1개의 값을 예측하는 것을 목표로 한다. 또한 그 데이터의 row는 5개, 즉 데이터의 갯수는 5개이다. 즉, hypothesis는 (5,1)의 shape을 가져야 한다는 것을 의미한다. 이를 바탕으로 W와 b의 shape을 생각해본다면 다음과 같다.<br>\n",
        "<br>\n",
        "hypothesis = x_train.matmul(W) + b<br>\n",
        "(5,1) = (5,3) * (3,1) + (1,1)<br>\n",
        "<br>\n",
        "이 때 b는 broadcasting을 통해 연산이 수행되기 때문에 (1,1)의 행렬이 (5,1)의 행렬과 같은 연산을 수행한다."
      ]
    },
    {
      "cell_type": "markdown",
      "metadata": {
        "id": "NwyQALicHN8a",
        "colab_type": "text"
      },
      "source": [
        "# 04. nn.Module로 구현하는 선형 회귀"
      ]
    },
    {
      "cell_type": "markdown",
      "metadata": {
        "id": "NsYZW-oUS3KE",
        "colab_type": "text"
      },
      "source": [
        "~~~python\n",
        "import torch.nn as nn\n",
        "model = nn.Linear(input_dim, output_dim)\n",
        "\n",
        "import torch.nn.functional as F\n",
        "cost = F.mse_loss(prediction, y_train)\n",
        "~~~"
      ]
    },
    {
      "cell_type": "markdown",
      "metadata": {
        "id": "vl70r7i4TVZx",
        "colab_type": "text"
      },
      "source": [
        "### 1. 단순 선형 회귀 구현하기"
      ]
    },
    {
      "cell_type": "code",
      "metadata": {
        "id": "FdZnZmSeT9wB",
        "colab_type": "code",
        "colab": {}
      },
      "source": [
        "import torch\n",
        "import torch.nn as nn\n",
        "import torch.nn.functional as F"
      ],
      "execution_count": null,
      "outputs": []
    },
    {
      "cell_type": "code",
      "metadata": {
        "id": "UBdW3L1bUCTK",
        "colab_type": "code",
        "colab": {
          "base_uri": "https://localhost:8080/",
          "height": 34
        },
        "outputId": "7df0ba59-3ec2-4645-a9a3-13974bf9fc29"
      },
      "source": [
        "torch.manual_seed(1)"
      ],
      "execution_count": null,
      "outputs": [
        {
          "output_type": "execute_result",
          "data": {
            "text/plain": [
              "<torch._C.Generator at 0x7f08ab64d1b0>"
            ]
          },
          "metadata": {
            "tags": []
          },
          "execution_count": 3
        }
      ]
    },
    {
      "cell_type": "code",
      "metadata": {
        "id": "8eTBVxv4UDfK",
        "colab_type": "code",
        "colab": {}
      },
      "source": [
        "# 데이터: y=2x를 가정된 상태에서 만들어진 데이터\n",
        "# 목표: W=2, b=0의 값을 제대로 찾아내도록 하는 것\n",
        "\n",
        "x_train = torch.FloatTensor([[1],[2],[3]])\n",
        "y_train = torch.FloatTensor([[2],[4],[6]])"
      ],
      "execution_count": null,
      "outputs": []
    },
    {
      "cell_type": "code",
      "metadata": {
        "id": "AjSwSQPRUMFS",
        "colab_type": "code",
        "colab": {}
      },
      "source": [
        "# 모델을 선언 및 초기화. 단순 선형 회귀이므로 input_dim=1, output_dim=1.\n",
        "model = nn.Linear(1,1)"
      ],
      "execution_count": null,
      "outputs": []
    },
    {
      "cell_type": "markdown",
      "metadata": {
        "id": "k-ZnJbNwV42V",
        "colab_type": "text"
      },
      "source": [
        "model에는 가중치 W와 편향 b가 저장되어져 있습니다. 이 값은 model.parameters()라는 함수를 사용하여 불러올 수 있는데, 한 번 출력해보겠습니다."
      ]
    },
    {
      "cell_type": "code",
      "metadata": {
        "id": "yD4TxUnWWDTy",
        "colab_type": "code",
        "colab": {
          "base_uri": "https://localhost:8080/",
          "height": 70
        },
        "outputId": "c5a0b654-c9b1-4c2d-d8f6-d62077ab2b06"
      },
      "source": [
        "# type을 list로 변경하여 출력\n",
        "print(list(model.parameters()))"
      ],
      "execution_count": null,
      "outputs": [
        {
          "output_type": "stream",
          "text": [
            "[Parameter containing:\n",
            "tensor([[0.5153]], requires_grad=True), Parameter containing:\n",
            "tensor([-0.4414], requires_grad=True)]\n"
          ],
          "name": "stdout"
        }
      ]
    },
    {
      "cell_type": "code",
      "metadata": {
        "id": "ESzR4BSDYhuy",
        "colab_type": "code",
        "colab": {
          "base_uri": "https://localhost:8080/",
          "height": 34
        },
        "outputId": "a1a70c81-32ee-4c02-b206-596e6f74ce1f"
      },
      "source": [
        "print(model.parameters())"
      ],
      "execution_count": null,
      "outputs": [
        {
          "output_type": "stream",
          "text": [
            "<generator object Module.parameters at 0x7f08aac77c50>\n"
          ],
          "name": "stdout"
        }
      ]
    },
    {
      "cell_type": "markdown",
      "metadata": {
        "id": "S6yrDzGJWFKK",
        "colab_type": "text"
      },
      "source": [
        "2개의 값이 출력되는데 첫번째 값이 W고, 두번째 값이 b에 해당됩니다. 두 값 모두 현재는 랜덤 초기화가 되어져 있습니다. 그리고 두 값 모두 학습의 대상이므로 requires_grad=True가 되어져 있는 것을 볼 수 있습니다."
      ]
    },
    {
      "cell_type": "code",
      "metadata": {
        "id": "Edihf5CEWWuf",
        "colab_type": "code",
        "colab": {}
      },
      "source": [
        "# optimizer 설정. 경사 하강법 SGD를 사용하고 learing rate를 의미하는 lr은 0.01\n",
        "optimizer = torch.optim.SGD(model.parameters(), lr=0.01)"
      ],
      "execution_count": null,
      "outputs": []
    },
    {
      "cell_type": "code",
      "metadata": {
        "id": "81ZiltPuWgOi",
        "colab_type": "code",
        "colab": {
          "base_uri": "https://localhost:8080/",
          "height": 386
        },
        "outputId": "d153de20-c58a-4815-98f7-072a99fa233a"
      },
      "source": [
        "# 전체 훈련 데이터에 대해 경사 하강법을 2,000회 반복\n",
        "nb_epochs = 2000\n",
        "for epoch in range(nb_epochs+1):\n",
        "\n",
        "    # H(x) 계산\n",
        "    prediction = model(x_train)\n",
        "\n",
        "    # cost 계산\n",
        "    cost = F.mse_loss(prediction, y_train)  # <== 파이토치에서 제공하는 평균 제곱 오차 함수\n",
        "\n",
        "    # cost로 H(x) 개선하는 부분\n",
        "    # gradient를 0으로 초기화\n",
        "    optimizer.zero_grad()\n",
        "    # 비용 함수를 미분하여 gradient 계산\n",
        "    cost.backward() # backward 연산\n",
        "    # W와 b를 업데이트\n",
        "    optimizer.step()\n",
        "\n",
        "    if epoch % 100 == 0:\n",
        "    # 100번마다 로그 출력\n",
        "        print('Epoch {:4d}/{} Cost: {:.6f}'.format(\n",
        "            epoch, nb_epochs, cost.item()\n",
        "        ))"
      ],
      "execution_count": null,
      "outputs": [
        {
          "output_type": "stream",
          "text": [
            "Epoch    0/2000 Cost: 13.103541\n",
            "Epoch  100/2000 Cost: 0.002791\n",
            "Epoch  200/2000 Cost: 0.001724\n",
            "Epoch  300/2000 Cost: 0.001066\n",
            "Epoch  400/2000 Cost: 0.000658\n",
            "Epoch  500/2000 Cost: 0.000407\n",
            "Epoch  600/2000 Cost: 0.000251\n",
            "Epoch  700/2000 Cost: 0.000155\n",
            "Epoch  800/2000 Cost: 0.000096\n",
            "Epoch  900/2000 Cost: 0.000059\n",
            "Epoch 1000/2000 Cost: 0.000037\n",
            "Epoch 1100/2000 Cost: 0.000023\n",
            "Epoch 1200/2000 Cost: 0.000014\n",
            "Epoch 1300/2000 Cost: 0.000009\n",
            "Epoch 1400/2000 Cost: 0.000005\n",
            "Epoch 1500/2000 Cost: 0.000003\n",
            "Epoch 1600/2000 Cost: 0.000002\n",
            "Epoch 1700/2000 Cost: 0.000001\n",
            "Epoch 1800/2000 Cost: 0.000001\n",
            "Epoch 1900/2000 Cost: 0.000000\n",
            "Epoch 2000/2000 Cost: 0.000000\n"
          ],
          "name": "stdout"
        }
      ]
    },
    {
      "cell_type": "code",
      "metadata": {
        "id": "2rnrCPgmXfUl",
        "colab_type": "code",
        "colab": {
          "base_uri": "https://localhost:8080/",
          "height": 34
        },
        "outputId": "b4d405e4-7f97-45b9-8ddb-b4c1a62f6a13"
      },
      "source": [
        "# 임의의 입력 4를 선언\n",
        "new_var = torch.FloatTensor([[4.0]])\n",
        "# 입력한 값 4에 대해서 예측값 y를 리턴받아서 pred_y에 저장\n",
        "pred_y = model(new_var) # forward 연산\n",
        "# y = 2x 이므로 입력이 4라면 y가 8에 가까운 값이 나와야 제대로 학습이 된 것\n",
        "print('훈련 후 입력이 4일 때의 예측값 :', pred_y)"
      ],
      "execution_count": null,
      "outputs": [
        {
          "output_type": "stream",
          "text": [
            "훈련 후 입력이 4일 때의 예측값 : tensor([[7.9989]], grad_fn=<AddmmBackward>)\n"
          ],
          "name": "stdout"
        }
      ]
    },
    {
      "cell_type": "code",
      "metadata": {
        "id": "aXspiXSvYSxC",
        "colab_type": "code",
        "colab": {
          "base_uri": "https://localhost:8080/",
          "height": 70
        },
        "outputId": "9e7f76c8-5483-48a3-f4a2-6d1d3cd1156e"
      },
      "source": [
        "print(list(model.parameters()))"
      ],
      "execution_count": null,
      "outputs": [
        {
          "output_type": "stream",
          "text": [
            "[Parameter containing:\n",
            "tensor([[1.9994]], requires_grad=True), Parameter containing:\n",
            "tensor([0.0014], requires_grad=True)]\n"
          ],
          "name": "stdout"
        }
      ]
    },
    {
      "cell_type": "markdown",
      "metadata": {
        "id": "Y3lzKnxrYc8D",
        "colab_type": "text"
      },
      "source": [
        "* H(x) 식에 입력 x로부터 예측된 y를 얻는 것을 forward 연산이라고 합니다.\n",
        "* 학습 전, prediction = model(x_train)은 x_train으로부터 예측값을 리턴하므로 forward 연산입니다.\n",
        "* 학습 후, pred_y = model(new_var)는 임의의 값 new_var로부터 예측값을 리턴하므로 forward 연산입니다.\n",
        "* 학습 과정에서 비용 함수를 미분하여 기울기를 구하는 것을 barward 연산이라고 합니다.\n",
        "* cost.backward()는 비용 함수로부터 기울기를 구하라는 의미이며 backward 연산입니다."
      ]
    },
    {
      "cell_type": "markdown",
      "metadata": {
        "id": "tmGI_T22ZK4B",
        "colab_type": "text"
      },
      "source": [
        "### 2. 다중 선형 회귀 구현하기"
      ]
    },
    {
      "cell_type": "code",
      "metadata": {
        "id": "Vo_OwdrFZPTa",
        "colab_type": "code",
        "colab": {}
      },
      "source": [
        "import torch\n",
        "import torch.nn as nn\n",
        "import torch.nn.functional as F"
      ],
      "execution_count": null,
      "outputs": []
    },
    {
      "cell_type": "code",
      "metadata": {
        "id": "G1nSEGbvZVgl",
        "colab_type": "code",
        "colab": {
          "base_uri": "https://localhost:8080/",
          "height": 34
        },
        "outputId": "cb2cfa94-e296-462c-ca1a-d0eaa8baf36d"
      },
      "source": [
        "torch.manual_seed(1)"
      ],
      "execution_count": null,
      "outputs": [
        {
          "output_type": "execute_result",
          "data": {
            "text/plain": [
              "<torch._C.Generator at 0x7f08ab64d1b0>"
            ]
          },
          "metadata": {
            "tags": []
          },
          "execution_count": 17
        }
      ]
    },
    {
      "cell_type": "code",
      "metadata": {
        "id": "HCBnXVFJZXAz",
        "colab_type": "code",
        "colab": {}
      },
      "source": [
        "# 3개의 x로부터 하나의 y를 예측하는 문제\n",
        "# H(x) = w1x1 + w2x2 + w3x3 + b\n",
        "\n",
        "# 데이터\n",
        "x_train = torch.FloatTensor([[73, 80, 75],\n",
        "                             [93, 88, 93],\n",
        "                             [89, 91, 90],\n",
        "                             [96, 98, 100],\n",
        "                             [73, 66, 70]])\n",
        "y_train = torch.FloatTensor([[152], [185], [180], [196], [142]])"
      ],
      "execution_count": null,
      "outputs": []
    },
    {
      "cell_type": "code",
      "metadata": {
        "id": "NAuPTYr5Z9YX",
        "colab_type": "code",
        "colab": {}
      },
      "source": [
        "# 모델을 선언 및 초기화. 다중 선형 회귀이므로 input_dim=3, output_dim=1.\n",
        "model = nn.Linear(3,1)"
      ],
      "execution_count": null,
      "outputs": []
    },
    {
      "cell_type": "code",
      "metadata": {
        "id": "uh-tqRfraE9C",
        "colab_type": "code",
        "colab": {
          "base_uri": "https://localhost:8080/",
          "height": 70
        },
        "outputId": "829e632a-55b1-4b6d-ca13-c8abd4c99f75"
      },
      "source": [
        "print(list(model.parameters()))"
      ],
      "execution_count": null,
      "outputs": [
        {
          "output_type": "stream",
          "text": [
            "[Parameter containing:\n",
            "tensor([[ 0.2975, -0.2548, -0.1119]], requires_grad=True), Parameter containing:\n",
            "tensor([0.2710], requires_grad=True)]\n"
          ],
          "name": "stdout"
        }
      ]
    },
    {
      "cell_type": "code",
      "metadata": {
        "id": "kbDm0NZ-aIpq",
        "colab_type": "code",
        "colab": {}
      },
      "source": [
        "optimizer = torch.optim.SGD(model.parameters(), lr=1e-5)"
      ],
      "execution_count": null,
      "outputs": []
    },
    {
      "cell_type": "code",
      "metadata": {
        "id": "s5ux9-OBbWqv",
        "colab_type": "code",
        "colab": {
          "base_uri": "https://localhost:8080/",
          "height": 386
        },
        "outputId": "9b0f7d03-5d41-413e-9d6c-a153d509ba2a"
      },
      "source": [
        "nb_epochs = 2000\n",
        "for epoch in range(nb_epochs+1):\n",
        "\n",
        "    # H(x) 계산\n",
        "    prediction = model(x_train)\n",
        "    # model(x_train)은 model.forward(x_train)와 동일함.\n",
        "\n",
        "    # cost 계산\n",
        "    cost = F.mse_loss(prediction, y_train) # <== 파이토치에서 제공하는 평균 제곱 오차 함수\n",
        "\n",
        "    # cost로 H(x) 개선하는 부분\n",
        "    # gradient를 0으로 초기화\n",
        "    optimizer.zero_grad()\n",
        "    # 비용 함수를 미분하여 gradient 계산\n",
        "    cost.backward()\n",
        "    # W와 b를 업데이트\n",
        "    optimizer.step()\n",
        "\n",
        "    if epoch % 100 == 0:\n",
        "    # 100번마다 로그 출력\n",
        "      print('Epoch {:4d}/{} Cost: {:.6f}'.format(\n",
        "          epoch, nb_epochs, cost.item()\n",
        "      ))"
      ],
      "execution_count": null,
      "outputs": [
        {
          "output_type": "stream",
          "text": [
            "Epoch    0/2000 Cost: 31667.597656\n",
            "Epoch  100/2000 Cost: 0.225988\n",
            "Epoch  200/2000 Cost: 0.223910\n",
            "Epoch  300/2000 Cost: 0.221930\n",
            "Epoch  400/2000 Cost: 0.220059\n",
            "Epoch  500/2000 Cost: 0.218271\n",
            "Epoch  600/2000 Cost: 0.216572\n",
            "Epoch  700/2000 Cost: 0.214955\n",
            "Epoch  800/2000 Cost: 0.213415\n",
            "Epoch  900/2000 Cost: 0.211952\n",
            "Epoch 1000/2000 Cost: 0.210554\n",
            "Epoch 1100/2000 Cost: 0.209230\n",
            "Epoch 1200/2000 Cost: 0.207966\n",
            "Epoch 1300/2000 Cost: 0.206768\n",
            "Epoch 1400/2000 Cost: 0.205618\n",
            "Epoch 1500/2000 Cost: 0.204526\n",
            "Epoch 1600/2000 Cost: 0.203479\n",
            "Epoch 1700/2000 Cost: 0.202486\n",
            "Epoch 1800/2000 Cost: 0.201539\n",
            "Epoch 1900/2000 Cost: 0.200637\n",
            "Epoch 2000/2000 Cost: 0.199769\n"
          ],
          "name": "stdout"
        }
      ]
    },
    {
      "cell_type": "code",
      "metadata": {
        "id": "RgoMfJkhbgwK",
        "colab_type": "code",
        "colab": {
          "base_uri": "https://localhost:8080/",
          "height": 34
        },
        "outputId": "083d6538-0977-4296-b9a7-2dd8b18a1530"
      },
      "source": [
        "# 임의의 입력 [73, 80, 75]를 선언\n",
        "new_var =  torch.FloatTensor([[73, 80, 75]]) \n",
        "# 입력한 값 [73, 80, 75]에 대해서 예측값 y를 리턴받아서 pred_y에 저장\n",
        "pred_y = model(new_var) \n",
        "print(\"훈련 후 입력이 73, 80, 75일 때의 예측값 :\", pred_y) "
      ],
      "execution_count": null,
      "outputs": [
        {
          "output_type": "stream",
          "text": [
            "훈련 후 입력이 73, 80, 75일 때의 예측값 : tensor([[151.2305]], grad_fn=<AddmmBackward>)\n"
          ],
          "name": "stdout"
        }
      ]
    },
    {
      "cell_type": "code",
      "metadata": {
        "id": "8v6NNMTCbpgD",
        "colab_type": "code",
        "colab": {
          "base_uri": "https://localhost:8080/",
          "height": 70
        },
        "outputId": "35f63836-f32a-4d5d-919e-23d7878b94a5"
      },
      "source": [
        "print(list(model.parameters()))"
      ],
      "execution_count": null,
      "outputs": [
        {
          "output_type": "stream",
          "text": [
            "[Parameter containing:\n",
            "tensor([[0.9778, 0.4539, 0.5768]], requires_grad=True), Parameter containing:\n",
            "tensor([0.2802], requires_grad=True)]\n"
          ],
          "name": "stdout"
        }
      ]
    },
    {
      "cell_type": "code",
      "metadata": {
        "id": "BKEsd4YfbwQr",
        "colab_type": "code",
        "colab": {}
      },
      "source": [
        "# 발산하는 경우\n",
        "\n",
        "# 모델을 선언 및 초기화.\n",
        "model = nn.Linear(3,1)\n",
        "optimizer = torch.optim.SGD(model.parameters(), lr=1e-3)"
      ],
      "execution_count": null,
      "outputs": []
    },
    {
      "cell_type": "code",
      "metadata": {
        "id": "nVQO8YIab6kL",
        "colab_type": "code",
        "colab": {
          "base_uri": "https://localhost:8080/",
          "height": 386
        },
        "outputId": "c5f4fe12-c14b-44c8-99d9-ddfc8039e2d8"
      },
      "source": [
        "nb_epochs = 2000\n",
        "for epoch in range(nb_epochs+1):\n",
        "\n",
        "    # H(x) 계산\n",
        "    prediction = model(x_train)\n",
        "    # model(x_train)은 model.forward(x_train)와 동일함.\n",
        "\n",
        "    # cost 계산\n",
        "    cost = F.mse_loss(prediction, y_train) # <== 파이토치에서 제공하는 평균 제곱 오차 함수\n",
        "\n",
        "    # cost로 H(x) 개선하는 부분\n",
        "    # gradient를 0으로 초기화\n",
        "    optimizer.zero_grad()\n",
        "    # 비용 함수를 미분하여 gradient 계산\n",
        "    cost.backward()\n",
        "    # W와 b를 업데이트\n",
        "    optimizer.step()\n",
        "\n",
        "    if epoch % 100 == 0:\n",
        "    # 100번마다 로그 출력\n",
        "      print('Epoch {:4d}/{} Cost: {:.6f}'.format(\n",
        "          epoch, nb_epochs, cost.item()\n",
        "      ))"
      ],
      "execution_count": null,
      "outputs": [
        {
          "output_type": "stream",
          "text": [
            "Epoch    0/2000 Cost: 39633.414062\n",
            "Epoch  100/2000 Cost: nan\n",
            "Epoch  200/2000 Cost: nan\n",
            "Epoch  300/2000 Cost: nan\n",
            "Epoch  400/2000 Cost: nan\n",
            "Epoch  500/2000 Cost: nan\n",
            "Epoch  600/2000 Cost: nan\n",
            "Epoch  700/2000 Cost: nan\n",
            "Epoch  800/2000 Cost: nan\n",
            "Epoch  900/2000 Cost: nan\n",
            "Epoch 1000/2000 Cost: nan\n",
            "Epoch 1100/2000 Cost: nan\n",
            "Epoch 1200/2000 Cost: nan\n",
            "Epoch 1300/2000 Cost: nan\n",
            "Epoch 1400/2000 Cost: nan\n",
            "Epoch 1500/2000 Cost: nan\n",
            "Epoch 1600/2000 Cost: nan\n",
            "Epoch 1700/2000 Cost: nan\n",
            "Epoch 1800/2000 Cost: nan\n",
            "Epoch 1900/2000 Cost: nan\n",
            "Epoch 2000/2000 Cost: nan\n"
          ],
          "name": "stdout"
        }
      ]
    },
    {
      "cell_type": "markdown",
      "metadata": {
        "id": "2NueKDe7cJND",
        "colab_type": "text"
      },
      "source": [
        "# 05. 클래스로 파이토치 모델 구현하기"
      ]
    },
    {
      "cell_type": "markdown",
      "metadata": {
        "id": "JhURIJdUcP_-",
        "colab_type": "text"
      },
      "source": [
        "파이토치로 구현한 대부분의 코드들을 보면 모델을 생성할 때 클래스(Class)를 사용한다. 이러한 방법이 파이토치의 장점과도 연결되기도 한다. 따라서 클래스로 파이토치 모델을 구현하는 과정을 눈여겨볼 필요가 있다."
      ]
    },
    {
      "cell_type": "markdown",
      "metadata": {
        "id": "YkX_sETAciMK",
        "colab_type": "text"
      },
      "source": [
        "### 1. 모델을 클래스로 구현하기"
      ]
    },
    {
      "cell_type": "markdown",
      "metadata": {
        "id": "i-0yWm_Pd5wb",
        "colab_type": "text"
      },
      "source": [
        "~~~python\n",
        "# 모델을 선언 및 초기화. 단순 선형 회귀이므로 input_dim=1, output_dim=1.\n",
        "model = nn.Linear(1,1)\n",
        "~~~"
      ]
    },
    {
      "cell_type": "code",
      "metadata": {
        "id": "bR2qgaPwcyS7",
        "colab_type": "code",
        "colab": {}
      },
      "source": [
        "class LinearRegressionModel(nn.Module):      # torch.nn.Module을 상속받는 파이썬 클래스\n",
        "    def __init__(self):\n",
        "        super().__init__()\n",
        "        self.linear = nn.Linear(1,1)    # 단순 선형 회귀이므로 input_dim=1, output_dim=1.\n",
        "\n",
        "    def forward(self, x):\n",
        "        return self.linear(x)"
      ],
      "execution_count": null,
      "outputs": []
    },
    {
      "cell_type": "code",
      "metadata": {
        "id": "W4hme-kEdLir",
        "colab_type": "code",
        "colab": {}
      },
      "source": [
        "model = LinearRegressionModel()"
      ],
      "execution_count": null,
      "outputs": []
    },
    {
      "cell_type": "markdown",
      "metadata": {
        "id": "Xp6A9bqEdPTL",
        "colab_type": "text"
      },
      "source": [
        "클래스(class) 형태의 모델은 nn.Module을 상속받습니다. 그리고 \\_\\_init\\_\\_()에서 모델의 구조와 동적을 정의하는 생성자를 정의합니다. 이는 파이썬에서 객체가 갖는 속성값을 초기화하는 역할로, 객체가 생성될 때 자동으로 호출됩니다. super() 함수를 부르면 여기서 만든 클래스는 nn.Module 클래스의 속성들을 가지고 초기화 됩니다. forward() 함수는 모델이 학습데이터를 입력받아서 forward 연산을 진행시키는 함수입니다. 이 forward() 함수는 model 객체를 데이터와 함께 호출하면 자동으로 실행이 됩니다. 예를 들어 model이란 이름의 객체를 생성 후, model(입력 데이터)와 같은 형식으로 객체를 호출하면 자동으로 forward 연산이 수행됩니다."
      ]
    },
    {
      "cell_type": "markdown",
      "metadata": {
        "id": "NOnXFJhKdwiC",
        "colab_type": "text"
      },
      "source": [
        "~~~python\n",
        "# 모델을 선언 및 초기화. 다중 선형 회귀이므로 input_dim=3, output_dim=1.\n",
        "model = nn.Linear(3,1)\n",
        "~~~"
      ]
    },
    {
      "cell_type": "code",
      "metadata": {
        "id": "i7DZU_DHeCwr",
        "colab_type": "code",
        "colab": {}
      },
      "source": [
        "class MultivariateLinearRegressionModule(nn.Module):\n",
        "    def __init__(self):\n",
        "        super().__init__()\n",
        "        self.linear = nn.Linear(3,1)    # 다중 선형 회귀이므로 input_dim=3, output_dim=1.\n",
        "\n",
        "    def forward(self, x):\n",
        "        return self.linear(x)"
      ],
      "execution_count": null,
      "outputs": []
    },
    {
      "cell_type": "code",
      "metadata": {
        "id": "uiwyxK_QeWTc",
        "colab_type": "code",
        "colab": {}
      },
      "source": [
        "mdoel = MultivariateLinearRegressionModule()"
      ],
      "execution_count": null,
      "outputs": []
    },
    {
      "cell_type": "markdown",
      "metadata": {
        "id": "wYUiF6q8eYgD",
        "colab_type": "text"
      },
      "source": [
        "### 2. 단순 선형 회귀 클래스로 구현하기"
      ]
    },
    {
      "cell_type": "code",
      "metadata": {
        "id": "IBLTP3ZNeaVm",
        "colab_type": "code",
        "colab": {}
      },
      "source": [
        "import torch\n",
        "import torch.nn as nn\n",
        "import torch.nn.functional as F"
      ],
      "execution_count": null,
      "outputs": []
    },
    {
      "cell_type": "code",
      "metadata": {
        "id": "waUZhZuJee67",
        "colab_type": "code",
        "colab": {
          "base_uri": "https://localhost:8080/",
          "height": 34
        },
        "outputId": "20045e27-28b2-4664-e20f-b3e3bdafc97a"
      },
      "source": [
        "torch.manual_seed(1)"
      ],
      "execution_count": null,
      "outputs": [
        {
          "output_type": "execute_result",
          "data": {
            "text/plain": [
              "<torch._C.Generator at 0x7f08ab64d1b0>"
            ]
          },
          "metadata": {
            "tags": []
          },
          "execution_count": 37
        }
      ]
    },
    {
      "cell_type": "code",
      "metadata": {
        "id": "Rb-CzbU8ei6o",
        "colab_type": "code",
        "colab": {}
      },
      "source": [
        "# 데이터\n",
        "x_train = torch.FloatTensor([[1], [2], [3]])\n",
        "y_train = torch.FloatTensor([[2], [4], [6]])"
      ],
      "execution_count": null,
      "outputs": []
    },
    {
      "cell_type": "code",
      "metadata": {
        "id": "BSdtSMnRejwg",
        "colab_type": "code",
        "colab": {}
      },
      "source": [
        "class LinearRegressionModel(nn.Module):\n",
        "    def __init__(self):\n",
        "        super().__init__()\n",
        "        self.linear = nn.Linear(1, 1)\n",
        "\n",
        "    def forward(self, x):\n",
        "        return self.linear(x)"
      ],
      "execution_count": null,
      "outputs": []
    },
    {
      "cell_type": "code",
      "metadata": {
        "id": "1tgH_cAjenBT",
        "colab_type": "code",
        "colab": {}
      },
      "source": [
        "model = LinearRegressionModel()"
      ],
      "execution_count": null,
      "outputs": []
    },
    {
      "cell_type": "code",
      "metadata": {
        "id": "P0bn-KqaeoQY",
        "colab_type": "code",
        "colab": {}
      },
      "source": [
        "# optimizer 설정. 경사 하강법 SGD를 사용하고 learning rate를 의미하는 lr은 0.01\n",
        "optimizer = torch.optim.SGD(model.parameters(), lr=0.01)"
      ],
      "execution_count": null,
      "outputs": []
    },
    {
      "cell_type": "code",
      "metadata": {
        "id": "CtsXbDJjet9T",
        "colab_type": "code",
        "colab": {
          "base_uri": "https://localhost:8080/",
          "height": 386
        },
        "outputId": "b304de60-dbee-41a8-81ba-afa046fd4ae1"
      },
      "source": [
        "# 전체 훈련 데이터에 대해 경사 하강법을 2,000회 반복\n",
        "nb_epochs = 2000\n",
        "for epoch in range(nb_epochs+1):\n",
        "\n",
        "    # H(x) 계산\n",
        "    prediction = model(x_train)\n",
        "\n",
        "    # cost 계산\n",
        "    cost = F.mse_loss(prediction, y_train) # <== 파이토치에서 제공하는 평균 제곱 오차 함수\n",
        "\n",
        "    # cost로 H(x) 개선하는 부분\n",
        "    # gradient를 0으로 초기화\n",
        "    optimizer.zero_grad()\n",
        "    # 비용 함수를 미분하여 gradient 계산\n",
        "    cost.backward() # backward 연산\n",
        "    # W와 b를 업데이트\n",
        "    optimizer.step()\n",
        "\n",
        "    if epoch % 100 == 0:\n",
        "    # 100번마다 로그 출력\n",
        "      print('Epoch {:4d}/{} Cost: {:.6f}'.format(\n",
        "          epoch, nb_epochs, cost.item()\n",
        "      ))"
      ],
      "execution_count": null,
      "outputs": [
        {
          "output_type": "stream",
          "text": [
            "Epoch    0/2000 Cost: 13.103541\n",
            "Epoch  100/2000 Cost: 0.002791\n",
            "Epoch  200/2000 Cost: 0.001724\n",
            "Epoch  300/2000 Cost: 0.001066\n",
            "Epoch  400/2000 Cost: 0.000658\n",
            "Epoch  500/2000 Cost: 0.000407\n",
            "Epoch  600/2000 Cost: 0.000251\n",
            "Epoch  700/2000 Cost: 0.000155\n",
            "Epoch  800/2000 Cost: 0.000096\n",
            "Epoch  900/2000 Cost: 0.000059\n",
            "Epoch 1000/2000 Cost: 0.000037\n",
            "Epoch 1100/2000 Cost: 0.000023\n",
            "Epoch 1200/2000 Cost: 0.000014\n",
            "Epoch 1300/2000 Cost: 0.000009\n",
            "Epoch 1400/2000 Cost: 0.000005\n",
            "Epoch 1500/2000 Cost: 0.000003\n",
            "Epoch 1600/2000 Cost: 0.000002\n",
            "Epoch 1700/2000 Cost: 0.000001\n",
            "Epoch 1800/2000 Cost: 0.000001\n",
            "Epoch 1900/2000 Cost: 0.000000\n",
            "Epoch 2000/2000 Cost: 0.000000\n"
          ],
          "name": "stdout"
        }
      ]
    },
    {
      "cell_type": "markdown",
      "metadata": {
        "id": "zyq1PshRe3_7",
        "colab_type": "text"
      },
      "source": [
        "### 3. 다중 선형 회귀 클래스로 구현하기"
      ]
    },
    {
      "cell_type": "code",
      "metadata": {
        "id": "ZNBZEzQ8e7gX",
        "colab_type": "code",
        "colab": {}
      },
      "source": [
        "import torch\n",
        "import torch.nn as nn\n",
        "import torch.nn.functional as F"
      ],
      "execution_count": null,
      "outputs": []
    },
    {
      "cell_type": "code",
      "metadata": {
        "id": "a-ZHMSyre8bB",
        "colab_type": "code",
        "colab": {
          "base_uri": "https://localhost:8080/",
          "height": 34
        },
        "outputId": "6cf1870a-62fc-4746-ea3b-4759fc30a145"
      },
      "source": [
        "torch.manual_seed(1)"
      ],
      "execution_count": null,
      "outputs": [
        {
          "output_type": "execute_result",
          "data": {
            "text/plain": [
              "<torch._C.Generator at 0x7f08ab64d1b0>"
            ]
          },
          "metadata": {
            "tags": []
          },
          "execution_count": 44
        }
      ]
    },
    {
      "cell_type": "code",
      "metadata": {
        "id": "hQU57Y32e9bD",
        "colab_type": "code",
        "colab": {}
      },
      "source": [
        "# 데이터\n",
        "x_train = torch.FloatTensor([[73, 80, 75],\n",
        "                             [93, 88, 93],\n",
        "                             [89, 91, 90],\n",
        "                             [96, 98, 100],\n",
        "                             [73, 66, 70]])\n",
        "y_train = torch.FloatTensor([[152], [185], [180], [196], [142]])"
      ],
      "execution_count": null,
      "outputs": []
    },
    {
      "cell_type": "code",
      "metadata": {
        "id": "MoNZwoE5e-g7",
        "colab_type": "code",
        "colab": {}
      },
      "source": [
        "class MultivariateLinearRegressionModel(nn.Module):\n",
        "    def __init__(self):\n",
        "        super().__init__()\n",
        "        self.linear = nn.Linear(3, 1) # 다중 선형 회귀이므로 input_dim=3, output_dim=1.\n",
        "\n",
        "    def forward(self, x):\n",
        "        return self.linear(x)"
      ],
      "execution_count": null,
      "outputs": []
    },
    {
      "cell_type": "code",
      "metadata": {
        "id": "7Eo_mBqVfBkY",
        "colab_type": "code",
        "colab": {}
      },
      "source": [
        "model = MultivariateLinearRegressionModel()"
      ],
      "execution_count": null,
      "outputs": []
    },
    {
      "cell_type": "code",
      "metadata": {
        "id": "7lGL111GfCd7",
        "colab_type": "code",
        "colab": {}
      },
      "source": [
        "optimizer = torch.optim.SGD(model.parameters(), lr=1e-5) "
      ],
      "execution_count": null,
      "outputs": []
    },
    {
      "cell_type": "code",
      "metadata": {
        "id": "VmORRBtLfDQA",
        "colab_type": "code",
        "colab": {
          "base_uri": "https://localhost:8080/",
          "height": 386
        },
        "outputId": "5f8a84e8-af05-4e54-9ec8-5fda01ec2214"
      },
      "source": [
        "nb_epochs = 2000\n",
        "for epoch in range(nb_epochs+1):\n",
        "\n",
        "    # H(x) 계산\n",
        "    # model(x_train)은 model.forward(x_train)와 동일함.\n",
        "    prediction = model(x_train)\n",
        "\n",
        "    # cost 계산\n",
        "    cost = F.mse_loss(prediction, y_train) # <== 파이토치에서 제공하는 평균 제곱 오차 함수\n",
        "\n",
        "    # cost로 H(x) 개선하는 부분\n",
        "    # gradient를 0으로 초기화\n",
        "    optimizer.zero_grad()\n",
        "    # 비용 함수를 미분하여 gradient 계산\n",
        "    cost.backward()\n",
        "    # W와 b를 업데이트\n",
        "    optimizer.step()\n",
        "\n",
        "    if epoch % 100 == 0:\n",
        "    # 100번마다 로그 출력\n",
        "      print('Epoch {:4d}/{} Cost: {:.6f}'.format(\n",
        "          epoch, nb_epochs, cost.item()\n",
        "      ))"
      ],
      "execution_count": null,
      "outputs": [
        {
          "output_type": "stream",
          "text": [
            "Epoch    0/2000 Cost: 31667.597656\n",
            "Epoch  100/2000 Cost: 0.225988\n",
            "Epoch  200/2000 Cost: 0.223910\n",
            "Epoch  300/2000 Cost: 0.221930\n",
            "Epoch  400/2000 Cost: 0.220059\n",
            "Epoch  500/2000 Cost: 0.218271\n",
            "Epoch  600/2000 Cost: 0.216572\n",
            "Epoch  700/2000 Cost: 0.214955\n",
            "Epoch  800/2000 Cost: 0.213415\n",
            "Epoch  900/2000 Cost: 0.211952\n",
            "Epoch 1000/2000 Cost: 0.210554\n",
            "Epoch 1100/2000 Cost: 0.209230\n",
            "Epoch 1200/2000 Cost: 0.207966\n",
            "Epoch 1300/2000 Cost: 0.206768\n",
            "Epoch 1400/2000 Cost: 0.205618\n",
            "Epoch 1500/2000 Cost: 0.204526\n",
            "Epoch 1600/2000 Cost: 0.203479\n",
            "Epoch 1700/2000 Cost: 0.202486\n",
            "Epoch 1800/2000 Cost: 0.201539\n",
            "Epoch 1900/2000 Cost: 0.200637\n",
            "Epoch 2000/2000 Cost: 0.199769\n"
          ],
          "name": "stdout"
        }
      ]
    },
    {
      "cell_type": "markdown",
      "metadata": {
        "id": "OscQ6RnffSLL",
        "colab_type": "text"
      },
      "source": [
        "# 06. 미니 배치와 데이터 로드(Mini Batch and Data Load)"
      ]
    },
    {
      "cell_type": "markdown",
      "metadata": {
        "id": "9UXB5HXNfa3Q",
        "colab_type": "text"
      },
      "source": [
        "* 전체 데이터에 대해서 한 번에 경사 하강법을 수행하는 방법을 '배치 경사 하강법' 이라고 부릅니다. 반면, 미니 배치 단위로 경사 하강법을 수행하는 방법을 '미니 배치 경사 하강법' 이라고 부릅니다.\n",
        "* 배치 경사 하강법은 경사 하강법을 할 때, 전체 데이터를 사용하므로 가중치 값이 최적값에 수렴하는 과정이 매우 안정적이지만, 계산량이 너무 많이 듭니다. 미니 배치 경사 하강법은 경사 하강법을 할 때, 전체 데이터의 일부만을 보고 수행하므로 최적값으로 수렴하는 과정에서 값이 조금 헤매기도 하지만 훈련 속도가 빠릅니다.\n",
        "* 배치 크기는 보통 2의 제곱수를 사용합니다. ex)2,4,8,16,32,64... 그 이유는 CPU와 GPU의 메모리가 2의 배수이므로 배치크기가 2의 제곱수일 경우에 데이터 송수신의 효율을 높일 수 있다고 합니다."
      ]
    },
    {
      "cell_type": "code",
      "metadata": {
        "id": "Q1RbaiU9gZ9L",
        "colab_type": "code",
        "colab": {}
      },
      "source": [
        "import torch\n",
        "import torch.nn as nn\n",
        "import torch.nn.functional as F"
      ],
      "execution_count": null,
      "outputs": []
    },
    {
      "cell_type": "code",
      "metadata": {
        "id": "sIAJQ6Dyg9lE",
        "colab_type": "code",
        "colab": {}
      },
      "source": [
        "from torch.utils.data import TensorDataset # 텐서데이터셋\n",
        "from torch.utils.data import DataLoader # 데이터로더"
      ],
      "execution_count": null,
      "outputs": []
    },
    {
      "cell_type": "code",
      "metadata": {
        "id": "LGxSdzeAhAqz",
        "colab_type": "code",
        "colab": {}
      },
      "source": [
        "x_train  =  torch.FloatTensor([[73,  80,  75], \n",
        "                               [93,  88,  93], \n",
        "                               [89,  91,  90], \n",
        "                               [96,  98,  100],   \n",
        "                               [73,  66,  70]])  \n",
        "y_train  =  torch.FloatTensor([[152],  [185],  [180],  [196],  [142]])"
      ],
      "execution_count": null,
      "outputs": []
    },
    {
      "cell_type": "markdown",
      "metadata": {
        "id": "vxwEz_lnkkF8",
        "colab_type": "text"
      },
      "source": [
        "파이토치에서는 데이터를 좀 더 쉽게 다룰 수 있도록 유용한 도구로써 데이터셋(Dataset)과 데이터로더(DataLoader)를 제공합니다. 이를 사용하면 미니 배치 학습, 데이터 셔플(shuffle), 병렬 처리까지 간단히 수행할 수 있습니다. 기본적인 사용 방법은 Dataset을 정의하고, 이를 DataLoader에 전달하는 것입니다."
      ]
    },
    {
      "cell_type": "code",
      "metadata": {
        "id": "FZyQn_tvhDsk",
        "colab_type": "code",
        "colab": {}
      },
      "source": [
        "dataset = TensorDataset(x_train, y_train)"
      ],
      "execution_count": null,
      "outputs": []
    },
    {
      "cell_type": "code",
      "metadata": {
        "id": "0jK6teCshFOU",
        "colab_type": "code",
        "colab": {}
      },
      "source": [
        "# 미니 배치의 크기(batch_size)는 통상적으로 2의 배수를 사용합니다.\n",
        "# shuffle=True를 선택하면 Epoch마다 데이터셋을 섞어서 데이터가 학습되는 순서를 바꿉니다.\n",
        "# 모델이 데이터셋의 순서에 익숙해지는 것을 방지하여 학습할 때는 이 옵션을 True를 주는 것을 권장합니다.\n",
        "\n",
        "dataloader = DataLoader(dataset, batch_size=2, shuffle=True)"
      ],
      "execution_count": null,
      "outputs": []
    },
    {
      "cell_type": "code",
      "metadata": {
        "id": "j0GsLRomhjoz",
        "colab_type": "code",
        "colab": {}
      },
      "source": [
        "model = nn.Linear(3,1)\n",
        "optimizer = torch.optim.SGD(model.parameters(), lr=1e-5) "
      ],
      "execution_count": null,
      "outputs": []
    },
    {
      "cell_type": "code",
      "metadata": {
        "id": "wasNZVYfhsqr",
        "colab_type": "code",
        "colab": {
          "base_uri": "https://localhost:8080/",
          "height": 1000
        },
        "outputId": "fdb30801-013e-4a9f-f09e-9d749695beac"
      },
      "source": [
        "nb_epochs = 20\n",
        "for epoch in range(nb_epochs + 1):                          # epoch 단위\n",
        "  for batch_idx, samples in enumerate(dataloader):          # batch 단위\n",
        "    # print(batch_idx)\n",
        "    # print(samples)\n",
        "    x_train, y_train = samples\n",
        "    # H(x) 계산\n",
        "    prediction = model(x_train)\n",
        "\n",
        "    # cost 계산\n",
        "    cost = F.mse_loss(prediction, y_train)\n",
        "\n",
        "    # cost로 H(x) 계산\n",
        "    optimizer.zero_grad()\n",
        "    cost.backward()\n",
        "    optimizer.step()\n",
        "\n",
        "    print('Epoch {:4d}/{} Batch {}/{} Cost: {:.6f}'.format(\n",
        "        epoch, nb_epochs, batch_idx+1, len(dataloader),\n",
        "        cost.item()\n",
        "        ))"
      ],
      "execution_count": null,
      "outputs": [
        {
          "output_type": "stream",
          "text": [
            "Epoch    0/20 Batch 1/3 Cost: 51817.808594\n",
            "Epoch    0/20 Batch 2/3 Cost: 12653.617188\n",
            "Epoch    0/20 Batch 3/3 Cost: 6224.733398\n",
            "Epoch    1/20 Batch 1/3 Cost: 1230.082275\n",
            "Epoch    1/20 Batch 2/3 Cost: 540.522339\n",
            "Epoch    1/20 Batch 3/3 Cost: 88.642670\n",
            "Epoch    2/20 Batch 1/3 Cost: 38.976562\n",
            "Epoch    2/20 Batch 2/3 Cost: 16.985460\n",
            "Epoch    2/20 Batch 3/3 Cost: 9.642894\n",
            "Epoch    3/20 Batch 1/3 Cost: 1.608261\n",
            "Epoch    3/20 Batch 2/3 Cost: 0.465206\n",
            "Epoch    3/20 Batch 3/3 Cost: 0.008624\n",
            "Epoch    4/20 Batch 1/3 Cost: 0.833656\n",
            "Epoch    4/20 Batch 2/3 Cost: 0.469592\n",
            "Epoch    4/20 Batch 3/3 Cost: 0.130757\n",
            "Epoch    5/20 Batch 1/3 Cost: 0.272926\n",
            "Epoch    5/20 Batch 2/3 Cost: 0.497130\n",
            "Epoch    5/20 Batch 3/3 Cost: 0.037129\n",
            "Epoch    6/20 Batch 1/3 Cost: 0.257865\n",
            "Epoch    6/20 Batch 2/3 Cost: 0.322190\n",
            "Epoch    6/20 Batch 3/3 Cost: 0.616135\n",
            "Epoch    7/20 Batch 1/3 Cost: 0.729212\n",
            "Epoch    7/20 Batch 2/3 Cost: 0.316328\n",
            "Epoch    7/20 Batch 3/3 Cost: 0.378833\n",
            "Epoch    8/20 Batch 1/3 Cost: 0.326609\n",
            "Epoch    8/20 Batch 2/3 Cost: 0.572399\n",
            "Epoch    8/20 Batch 3/3 Cost: 0.010804\n",
            "Epoch    9/20 Batch 1/3 Cost: 0.287247\n",
            "Epoch    9/20 Batch 2/3 Cost: 0.288185\n",
            "Epoch    9/20 Batch 3/3 Cost: 0.760533\n",
            "Epoch   10/20 Batch 1/3 Cost: 0.101335\n",
            "Epoch   10/20 Batch 2/3 Cost: 0.724748\n",
            "Epoch   10/20 Batch 3/3 Cost: 0.425413\n",
            "Epoch   11/20 Batch 1/3 Cost: 0.104171\n",
            "Epoch   11/20 Batch 2/3 Cost: 0.812354\n",
            "Epoch   11/20 Batch 3/3 Cost: 0.517699\n",
            "Epoch   12/20 Batch 1/3 Cost: 0.136081\n",
            "Epoch   12/20 Batch 2/3 Cost: 0.304731\n",
            "Epoch   12/20 Batch 3/3 Cost: 0.850838\n",
            "Epoch   13/20 Batch 1/3 Cost: 0.421618\n",
            "Epoch   13/20 Batch 2/3 Cost: 0.494866\n",
            "Epoch   13/20 Batch 3/3 Cost: 0.107106\n",
            "Epoch   14/20 Batch 1/3 Cost: 0.447255\n",
            "Epoch   14/20 Batch 2/3 Cost: 0.421417\n",
            "Epoch   14/20 Batch 3/3 Cost: 0.211648\n",
            "Epoch   15/20 Batch 1/3 Cost: 0.192100\n",
            "Epoch   15/20 Batch 2/3 Cost: 0.625850\n",
            "Epoch   15/20 Batch 3/3 Cost: 0.385113\n",
            "Epoch   16/20 Batch 1/3 Cost: 0.570633\n",
            "Epoch   16/20 Batch 2/3 Cost: 0.270513\n",
            "Epoch   16/20 Batch 3/3 Cost: 0.007260\n",
            "Epoch   17/20 Batch 1/3 Cost: 0.389209\n",
            "Epoch   17/20 Batch 2/3 Cost: 0.307766\n",
            "Epoch   17/20 Batch 3/3 Cost: 0.346711\n",
            "Epoch   18/20 Batch 1/3 Cost: 0.080753\n",
            "Epoch   18/20 Batch 2/3 Cost: 0.869598\n",
            "Epoch   18/20 Batch 3/3 Cost: 0.497049\n",
            "Epoch   19/20 Batch 1/3 Cost: 0.125675\n",
            "Epoch   19/20 Batch 2/3 Cost: 0.578518\n",
            "Epoch   19/20 Batch 3/3 Cost: 0.234737\n",
            "Epoch   20/20 Batch 1/3 Cost: 0.505143\n",
            "Epoch   20/20 Batch 2/3 Cost: 0.066088\n",
            "Epoch   20/20 Batch 3/3 Cost: 0.491236\n"
          ],
          "name": "stdout"
        }
      ]
    },
    {
      "cell_type": "code",
      "metadata": {
        "id": "KhwK3icbhy0j",
        "colab_type": "code",
        "colab": {
          "base_uri": "https://localhost:8080/",
          "height": 34
        },
        "outputId": "65a391b1-3b17-4e6f-c045-934aa9834aa6"
      },
      "source": [
        "# 임의의 입력 [73, 80, 75]를 선언\n",
        "new_var =  torch.FloatTensor([[73, 80, 75]]) \n",
        "# 입력한 값 [73, 80, 75]에 대해서 예측값 y를 리턴받아서 pred_y에 저장\n",
        "pred_y = model(new_var) \n",
        "print(\"훈련 후 입력이 73, 80, 75일 때의 예측값 :\", pred_y) "
      ],
      "execution_count": null,
      "outputs": [
        {
          "output_type": "stream",
          "text": [
            "훈련 후 입력이 73, 80, 75일 때의 예측값 : tensor([[151.9567]], grad_fn=<AddmmBackward>)\n"
          ],
          "name": "stdout"
        }
      ]
    },
    {
      "cell_type": "markdown",
      "metadata": {
        "id": "TlVlll2Mj3bY",
        "colab_type": "text"
      },
      "source": [
        "# 07. 커스텀 데이터셋(Custom Dataset)"
      ]
    },
    {
      "cell_type": "markdown",
      "metadata": {
        "id": "3uwS4rbzkYeR",
        "colab_type": "text"
      },
      "source": [
        "### 1. 커스텀 데이터셋(Custom Dataset)"
      ]
    },
    {
      "cell_type": "markdown",
      "metadata": {
        "id": "jp3JTMiPlBEA",
        "colab_type": "text"
      },
      "source": [
        "~~~python\n",
        "class CustomDataset(torch.utils.data.Dataset):\n",
        "    def __init__(self):\n",
        "    데이터셋의 전처리를 해주는 부분\n",
        "\n",
        "    def __len__(self):\n",
        "    데이터셋의 길이. 즉, 총 샘플의 수를 적어주는 부분\n",
        "\n",
        "    def __getitem__(self, idx):\n",
        "    데이터셋에서 특정 1개의 샘플을 가져오는 함수\n",
        "~~~"
      ]
    },
    {
      "cell_type": "markdown",
      "metadata": {
        "id": "3fDtyhRWlVqN",
        "colab_type": "text"
      },
      "source": [
        "* len(dataset)을 했을 때 데이터셋의 크기를 리턴할 len\n",
        "* dataset[i]을 했을 때 i번째 샘플을 가져오도록 하는 인덱싱을 위한 get_item"
      ]
    },
    {
      "cell_type": "markdown",
      "metadata": {
        "id": "kt4ItyTVl1dx",
        "colab_type": "text"
      },
      "source": [
        "### 2. 커스텀 데이터셋(Custom Dataset)으로 선형 회귀 구현하기"
      ]
    },
    {
      "cell_type": "code",
      "metadata": {
        "id": "YmveYJWwmTKk",
        "colab_type": "code",
        "colab": {}
      },
      "source": [
        "import torch\n",
        "import torch.nn.functional as F"
      ],
      "execution_count": null,
      "outputs": []
    },
    {
      "cell_type": "code",
      "metadata": {
        "id": "KvoCsJM-mUdt",
        "colab_type": "code",
        "colab": {}
      },
      "source": [
        "from torch.utils.data import Dataset\n",
        "from torch.utils.data import DataLoader"
      ],
      "execution_count": null,
      "outputs": []
    },
    {
      "cell_type": "code",
      "metadata": {
        "id": "GrdHTZYdmVLE",
        "colab_type": "code",
        "colab": {}
      },
      "source": [
        "# Dataset 상속\n",
        "class CustomDataset(Dataset): \n",
        "  def __init__(self):\n",
        "    self.x_data = [[73, 80, 75],\n",
        "                   [93, 88, 93],\n",
        "                   [89, 91, 90],\n",
        "                   [96, 98, 100],\n",
        "                   [73, 66, 70]]\n",
        "    self.y_data = [[152], [185], [180], [196], [142]]\n",
        "\n",
        "  # 총 데이터의 개수를 리턴\n",
        "  def __len__(self): \n",
        "    return len(self.x_data)\n",
        "\n",
        "  # 인덱스를 입력받아 그에 맵핑되는 입출력 데이터를 파이토치의 Tensor 형태로 리턴\n",
        "  def __getitem__(self, idx): \n",
        "    x = torch.FloatTensor(self.x_data[idx])\n",
        "    y = torch.FloatTensor(self.y_data[idx])\n",
        "    return x, y"
      ],
      "execution_count": null,
      "outputs": []
    },
    {
      "cell_type": "code",
      "metadata": {
        "id": "xY9qGlR-mnJy",
        "colab_type": "code",
        "colab": {}
      },
      "source": [
        "dataset = CustomDataset()\n",
        "dataloader = DataLoader(dataset, batch_size=2, shuffle=True)"
      ],
      "execution_count": null,
      "outputs": []
    },
    {
      "cell_type": "code",
      "metadata": {
        "id": "czptnqZsmn_k",
        "colab_type": "code",
        "colab": {}
      },
      "source": [
        "model = torch.nn.Linear(3,1)\n",
        "optimizer = torch.optim.SGD(model.parameters(), lr=1e-5) "
      ],
      "execution_count": null,
      "outputs": []
    },
    {
      "cell_type": "code",
      "metadata": {
        "id": "twS5z0iLm8fy",
        "colab_type": "code",
        "colab": {
          "base_uri": "https://localhost:8080/",
          "height": 1000
        },
        "outputId": "d7d3b722-f83a-42cd-84b2-ed3077dd5e7d"
      },
      "source": [
        "nb_epochs = 20\n",
        "for epoch in range(nb_epochs + 1):\n",
        "  for batch_idx, samples in enumerate(dataloader):\n",
        "    # print(batch_idx)\n",
        "    # print(samples)\n",
        "    x_train, y_train = samples\n",
        "    # H(x) 계산\n",
        "    prediction = model(x_train)\n",
        "\n",
        "    # cost 계산\n",
        "    cost = F.mse_loss(prediction, y_train)\n",
        "\n",
        "    # cost로 H(x) 계산\n",
        "    optimizer.zero_grad()\n",
        "    cost.backward()\n",
        "    optimizer.step()\n",
        "\n",
        "    print('Epoch {:4d}/{} Batch {}/{} Cost: {:.6f}'.format(\n",
        "        epoch, nb_epochs, batch_idx+1, len(dataloader),\n",
        "        cost.item()\n",
        "        ))"
      ],
      "execution_count": null,
      "outputs": [
        {
          "output_type": "stream",
          "text": [
            "Epoch    0/20 Batch 1/3 Cost: 63661.281250\n",
            "Epoch    0/20 Batch 2/3 Cost: 10067.084961\n",
            "Epoch    0/20 Batch 3/3 Cost: 2716.841553\n",
            "Epoch    1/20 Batch 1/3 Cost: 1348.486816\n",
            "Epoch    1/20 Batch 2/3 Cost: 1097.204102\n",
            "Epoch    1/20 Batch 3/3 Cost: 158.506470\n",
            "Epoch    2/20 Batch 1/3 Cost: 59.605232\n",
            "Epoch    2/20 Batch 2/3 Cost: 22.883549\n",
            "Epoch    2/20 Batch 3/3 Cost: 0.894626\n",
            "Epoch    3/20 Batch 1/3 Cost: 12.151095\n",
            "Epoch    3/20 Batch 2/3 Cost: 0.560245\n",
            "Epoch    3/20 Batch 3/3 Cost: 1.468366\n",
            "Epoch    4/20 Batch 1/3 Cost: 4.421027\n",
            "Epoch    4/20 Batch 2/3 Cost: 2.371263\n",
            "Epoch    4/20 Batch 3/3 Cost: 2.859255\n",
            "Epoch    5/20 Batch 1/3 Cost: 2.935665\n",
            "Epoch    5/20 Batch 2/3 Cost: 3.300919\n",
            "Epoch    5/20 Batch 3/3 Cost: 1.740164\n",
            "Epoch    6/20 Batch 1/3 Cost: 0.247510\n",
            "Epoch    6/20 Batch 2/3 Cost: 6.430074\n",
            "Epoch    6/20 Batch 3/3 Cost: 3.996827\n",
            "Epoch    7/20 Batch 1/3 Cost: 3.309131\n",
            "Epoch    7/20 Batch 2/3 Cost: 2.880211\n",
            "Epoch    7/20 Batch 3/3 Cost: 0.233025\n",
            "Epoch    8/20 Batch 1/3 Cost: 1.610294\n",
            "Epoch    8/20 Batch 2/3 Cost: 3.729307\n",
            "Epoch    8/20 Batch 3/3 Cost: 3.604181\n",
            "Epoch    9/20 Batch 1/3 Cost: 1.648448\n",
            "Epoch    9/20 Batch 2/3 Cost: 2.604639\n",
            "Epoch    9/20 Batch 3/3 Cost: 4.256991\n",
            "Epoch   10/20 Batch 1/3 Cost: 2.353384\n",
            "Epoch   10/20 Batch 2/3 Cost: 3.166917\n",
            "Epoch   10/20 Batch 3/3 Cost: 1.998322\n",
            "Epoch   11/20 Batch 1/3 Cost: 3.270343\n",
            "Epoch   11/20 Batch 2/3 Cost: 1.268371\n",
            "Epoch   11/20 Batch 3/3 Cost: 5.229334\n",
            "Epoch   12/20 Batch 1/3 Cost: 1.551485\n",
            "Epoch   12/20 Batch 2/3 Cost: 3.729781\n",
            "Epoch   12/20 Batch 3/3 Cost: 4.639746\n",
            "Epoch   13/20 Batch 1/3 Cost: 2.192470\n",
            "Epoch   13/20 Batch 2/3 Cost: 4.161692\n",
            "Epoch   13/20 Batch 3/3 Cost: 2.966966\n",
            "Epoch   14/20 Batch 1/3 Cost: 0.656708\n",
            "Epoch   14/20 Batch 2/3 Cost: 3.762284\n",
            "Epoch   14/20 Batch 3/3 Cost: 4.262093\n",
            "Epoch   15/20 Batch 1/3 Cost: 2.538074\n",
            "Epoch   15/20 Batch 2/3 Cost: 1.616272\n",
            "Epoch   15/20 Batch 3/3 Cost: 4.195321\n",
            "Epoch   16/20 Batch 1/3 Cost: 0.895877\n",
            "Epoch   16/20 Batch 2/3 Cost: 3.458519\n",
            "Epoch   16/20 Batch 3/3 Cost: 4.026533\n",
            "Epoch   17/20 Batch 1/3 Cost: 2.301704\n",
            "Epoch   17/20 Batch 2/3 Cost: 3.127468\n",
            "Epoch   17/20 Batch 3/3 Cost: 3.934777\n",
            "Epoch   18/20 Batch 1/3 Cost: 1.190051\n",
            "Epoch   18/20 Batch 2/3 Cost: 5.293279\n",
            "Epoch   18/20 Batch 3/3 Cost: 3.297392\n",
            "Epoch   19/20 Batch 1/3 Cost: 2.875242\n",
            "Epoch   19/20 Batch 2/3 Cost: 3.350824\n",
            "Epoch   19/20 Batch 3/3 Cost: 0.173132\n",
            "Epoch   20/20 Batch 1/3 Cost: 3.318165\n",
            "Epoch   20/20 Batch 2/3 Cost: 0.872289\n",
            "Epoch   20/20 Batch 3/3 Cost: 4.855373\n"
          ],
          "name": "stdout"
        }
      ]
    },
    {
      "cell_type": "code",
      "metadata": {
        "id": "eIO-tnHYnGDl",
        "colab_type": "code",
        "colab": {
          "base_uri": "https://localhost:8080/",
          "height": 34
        },
        "outputId": "6126cdd4-c268-4642-e8dc-52b4d625133b"
      },
      "source": [
        "# 임의의 입력 [73, 80, 75]를 선언\n",
        "new_var =  torch.FloatTensor([[73, 80, 75]]) \n",
        "# 입력한 값 [73, 80, 75]에 대해서 예측값 y를 리턴받아서 pred_y에 저장\n",
        "pred_y = model(new_var) \n",
        "print(\"훈련 후 입력이 73, 80, 75일 때의 예측값 :\", pred_y) "
      ],
      "execution_count": null,
      "outputs": [
        {
          "output_type": "stream",
          "text": [
            "훈련 후 입력이 73, 80, 75일 때의 예측값 : tensor([[153.9687]], grad_fn=<AddmmBackward>)\n"
          ],
          "name": "stdout"
        }
      ]
    },
    {
      "cell_type": "markdown",
      "metadata": {
        "id": "7qqEL9iRNf5K",
        "colab_type": "text"
      },
      "source": [
        "~~~python\n",
        "import torch\n",
        "import torch.nn.functional as F\n",
        "\n",
        "from torch.utils.data import Dataset\n",
        "from torch.utils.data import DataLoader\n",
        "\n",
        "# Dataset 상속\n",
        "class CustomDataset(Dataset): \n",
        "  def __init__(self):\n",
        "    self.x_data = [[73, 80, 75],\n",
        "                   [93, 88, 93],\n",
        "                   [89, 91, 90],\n",
        "                   [96, 98, 100],\n",
        "                   [73, 66, 70]]\n",
        "    self.y_data = [[152], [185], [180], [196], [142]]\n",
        "\n",
        "  # 총 데이터의 개수를 리턴\n",
        "  def __len__(self): \n",
        "    return len(self.x_data)\n",
        "\n",
        "  # 인덱스를 입력받아 그에 맵핑되는 입출력 데이터를 파이토치의 Tensor 형태로 리턴\n",
        "  def __getitem__(self, idx): \n",
        "    x = torch.FloatTensor(self.x_data[idx])\n",
        "    y = torch.FloatTensor(self.y_data[idx])\n",
        "    return x, y\n",
        "\n",
        "dataset = CustomDataset()\n",
        "dataloader = DataLoader(dataset, batch_size=2, shuffle=True)\n",
        "\n",
        "model = torch.nn.Linear(3,1)\n",
        "optimizer = torch.optim.SGD(model.parameters(), lr=1e-5) \n",
        "\n",
        "nb_epochs = 20\n",
        "for epoch in range(nb_epochs + 1):\n",
        "  for batch_idx, samples in enumerate(dataloader):\n",
        "    # print(batch_idx)\n",
        "    # print(samples)\n",
        "    x_train, y_train = samples\n",
        "    # H(x) 계산\n",
        "    prediction = model(x_train)\n",
        "\n",
        "    # cost 계산\n",
        "    cost = F.mse_loss(prediction, y_train)\n",
        "\n",
        "    # cost로 H(x) 계산\n",
        "    optimizer.zero_grad()\n",
        "    cost.backward()\n",
        "    optimizer.step()\n",
        "\n",
        "    print('Epoch {:4d}/{} Batch {}/{} Cost: {:.6f}'.format(\n",
        "        epoch, nb_epochs, batch_idx+1, len(dataloader),\n",
        "        cost.item()\n",
        "        ))\n",
        "~~~"
      ]
    },
    {
      "cell_type": "markdown",
      "metadata": {
        "id": "DPBF5sgtNsA4",
        "colab_type": "text"
      },
      "source": [
        "Keras로 구현된 github repository나 Kaggle을 보면서 custom dataset을 바탕으로 transfer learning을 적용할 때 CustomDataset이라는 클래스를 선언한 코드들을 종종 보곤 했다. 처음에는 관행이라고 생각했는데, (물론 진짜 관행일수도 있지만) 파이토치를 공부하면서 그 이유를 짐작할 수 있었다. 파이토치의 클래스 기반 구현 방식을 차용해왔다고 생각한다. 위의 코드 또한 CustomDataset이라는 클래스를 선언하여 custom dataset을 관리한다.<br>\n",
        "내가 사용해야 할 모델은 실력 좋으신 선배님들이 논문을 통해서 (지금 이 순간조차도) 꾸준히 연구하며 발표하고 있다. 현재로써 나의 역할은 발표된 모델을 내가 해결하고자 하는 문제에 적용할 수 있는 능력을 기르는 것인데, 그것을 위한 첫 번째 능력이 custom datset을 모델에 적합하게 전처리하는 능력이라고 생각한다. 따라서 해당 파트를 제대로 이해하고 응용하는 연습을 해야 할 것이다."
      ]
    }
  ]
}