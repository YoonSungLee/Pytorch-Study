{
  "nbformat": 4,
  "nbformat_minor": 0,
  "metadata": {
    "colab": {
      "name": "02. Pytorch Basic.ipynb",
      "provenance": [],
      "collapsed_sections": [],
      "authorship_tag": "ABX9TyOQBKElo8PVC/2bwJ8yOh+G"
    },
    "kernelspec": {
      "name": "python3",
      "display_name": "Python 3"
    }
  },
  "cells": [
    {
      "cell_type": "markdown",
      "metadata": {
        "id": "kJH6pKErpbwB",
        "colab_type": "text"
      },
      "source": [
        "# Pytorch Basic"
      ]
    },
    {
      "cell_type": "markdown",
      "metadata": {
        "id": "53iBmzNjoqky",
        "colab_type": "text"
      },
      "source": [
        "해당 repository 및 code들은 wikidocs에서 제공하는 'Pytorch로 시작하는 딥 러닝 입문'을 참고하였음을 밝힙니다. 해당 자료를 바탕으로 숙지한 개념과 추가적인 저의 생각을 기록할 계획입니다. 출처는 다음 사이트와 같습니다.<br><br>\n",
        "* https://wikidocs.net/book/2788"
      ]
    },
    {
      "cell_type": "markdown",
      "metadata": {
        "id": "hCKh45n6pR6j",
        "colab_type": "text"
      },
      "source": [
        "# 01. 파이토치 패키지의 기본 구성"
      ]
    },
    {
      "cell_type": "markdown",
      "metadata": {
        "id": "UDxEl3XNpr-y",
        "colab_type": "text"
      },
      "source": [
        "1. torch: 메인 네임스페이스. 텐서 등의 다양한 수학 함수가 포함되어져 있으며 Numpy와 유사한 구조를 가집니다.<br><br>\n",
        "2. torch.autograd: 자동 미분을 위한 함수들.<br>\n",
        "ex) 자동 미분의 on/off를 제어하는 콘텍스트 매니저(enable_grad/no_grad)나 자체 미분 가능 함수를 정의할 때 사용하는 기반 클래스인 'Function'<br><br>\n",
        "3. torch.nn: 신경망을 구축하기 위한 다양한 데이터 구조나 레이어 등이 정의<br>\n",
        "ex) RNN, LSTM과 같은 레이어, ReLU와 같은 활성화함수, MSELoss와 같은 손실 함수<br><br>\n",
        "4. torch.optim: 확률적 경사 하강법(Stochastic Gradient Descent, SGD)를 중심으로 한 파라미터 최적화 알고리즘이 구현<br><br>\n",
        "5. torch.utils.data: SGD의 반복 연산을 실행할 때 사용하는 미니 배치용 유틸리티 함수가 포함<br><br>\n",
        "6. torch.onnx: ONNX(Opne Neural Network Exchange)의 포맷으로 모델을 export 할 때 사용. 서로 다른 딥러닝 프레임워크간에 모델을 공유할 때 사용하는 포맷\n"
      ]
    },
    {
      "cell_type": "markdown",
      "metadata": {
        "id": "jw2Gi5TGp1jN",
        "colab_type": "text"
      },
      "source": [
        "# 02. 텐서 조작하기(Tensor Manipulation) 1"
      ]
    },
    {
      "cell_type": "markdown",
      "metadata": {
        "id": "dV5JR2ExrAL1",
        "colab_type": "text"
      },
      "source": [
        "### 3D Tensor(Typical Computer Vision) - 비전 분야에서의 3차원 텐서"
      ]
    },
    {
      "cell_type": "markdown",
      "metadata": {
        "id": "TkBKZxzstO5A",
        "colab_type": "text"
      },
      "source": [
        "|t| = (batch size, width, height)<br>\n",
        "<img src=\"https://i.imgur.com/SQh8YYS.png\">"
      ]
    },
    {
      "cell_type": "markdown",
      "metadata": {
        "id": "XzFEkcQWtOsV",
        "colab_type": "text"
      },
      "source": [
        "### 3D Tensor(Typical Natural Language Processing) - NLP 분야에서의 3차원 텐서"
      ]
    },
    {
      "cell_type": "markdown",
      "metadata": {
        "id": "aZJ0faSzr39e",
        "colab_type": "text"
      },
      "source": [
        "|t| = (batch size, length, dim)<br>\n",
        "|t| = (batch size, 문장 길이, 단어 벡터의 차원)<br>\n",
        "<img src=\"https://i.imgur.com/uSjPkhP.png\">"
      ]
    },
    {
      "cell_type": "markdown",
      "metadata": {
        "id": "A7DJql8Xsxo0",
        "colab_type": "text"
      },
      "source": [
        "이는 해결하고자 하는 문제에 따라 tensor가 가지고 있는 각 dimension의 정의를 다르게 해석할 수 있음을 의미한다."
      ]
    },
    {
      "cell_type": "markdown",
      "metadata": {
        "id": "EB1gbrsUuF4k",
        "colab_type": "text"
      },
      "source": [
        "### 넘파이로 텐서 만들기(벡터와 행렬 만들기)"
      ]
    },
    {
      "cell_type": "markdown",
      "metadata": {
        "id": "RhTJijTC6Y5I",
        "colab_type": "text"
      },
      "source": [
        "흔히 아래와 같이 numpy를 정의할 때 원소값들에 점(.)을 붙인다. 이는 각 원소값들의 type이 int가 아닌 float로 선언하여 부동소수점연산을 원활하게 하기 위함이다. 이러한 습관을 길러놓는것이 필요하다고 생각한다."
      ]
    },
    {
      "cell_type": "code",
      "metadata": {
        "id": "O9OZiysdusP6",
        "colab_type": "code",
        "outputId": "55fb493e-5eda-4e87-9f00-035a8564bbc0",
        "colab": {
          "base_uri": "https://localhost:8080/",
          "height": 36
        }
      },
      "source": [
        "import numpy as np\n",
        "\n",
        "t = np.array([0., 1., 2., 3., 4., 5., 6.,])\n",
        "# 파이썬으로 설명하면 list를 생성해서 np.array로 1차원 array로 변환함\n",
        "print(t)"
      ],
      "execution_count": 0,
      "outputs": [
        {
          "output_type": "stream",
          "text": [
            "[0. 1. 2. 3. 4. 5. 6.]\n"
          ],
          "name": "stdout"
        }
      ]
    },
    {
      "cell_type": "code",
      "metadata": {
        "id": "wHOTk9glu3xA",
        "colab_type": "code",
        "outputId": "97d328ce-32b4-4fb4-a310-aa88db6183e9",
        "colab": {
          "base_uri": "https://localhost:8080/",
          "height": 55
        }
      },
      "source": [
        "print('Rank of t: ', t.ndim)\n",
        "print('Shape of t: ', t.shape)"
      ],
      "execution_count": 0,
      "outputs": [
        {
          "output_type": "stream",
          "text": [
            "Rank of t:  1\n",
            "Shape of t:  (7,)\n"
          ],
          "name": "stdout"
        }
      ]
    },
    {
      "cell_type": "code",
      "metadata": {
        "id": "vudF5Ea6u-5p",
        "colab_type": "code",
        "outputId": "f4089ca8-cb8a-49d0-b84a-1832a2b418fe",
        "colab": {
          "base_uri": "https://localhost:8080/",
          "height": 36
        }
      },
      "source": [
        "print('t[0] t[1] t[-1] =', t[0],t[1],t[-1]) # 인덱스를 통한 원소 접근"
      ],
      "execution_count": 0,
      "outputs": [
        {
          "output_type": "stream",
          "text": [
            "t[0] t[1] t[-1] = 0.0 1.0 6.0\n"
          ],
          "name": "stdout"
        }
      ]
    },
    {
      "cell_type": "code",
      "metadata": {
        "id": "jikfSvaPvZRd",
        "colab_type": "code",
        "outputId": "f49d0bbd-0348-49c7-9739-15550e05c6fc",
        "colab": {
          "base_uri": "https://localhost:8080/",
          "height": 36
        }
      },
      "source": [
        "print('t[2:5] t[4:-1] =',t[2:5], t[4:-1]) # [시작 번호 : 끝 번호]로 범위 지정을 통해 가져온다."
      ],
      "execution_count": 0,
      "outputs": [
        {
          "output_type": "stream",
          "text": [
            "t[2:5] t[4:-1] = [2. 3. 4.] [4. 5.]\n"
          ],
          "name": "stdout"
        }
      ]
    },
    {
      "cell_type": "code",
      "metadata": {
        "id": "2-J7E0-9vl7P",
        "colab_type": "code",
        "outputId": "a5d90b07-65fb-4ca8-876f-0aa3afc1e922",
        "colab": {
          "base_uri": "https://localhost:8080/",
          "height": 36
        }
      },
      "source": [
        "print('t[:2] t[3:] = ', t[:2], t[3:]) # 시작 번호를 생략한 경우와 끝 번호를 생략한 경우"
      ],
      "execution_count": 0,
      "outputs": [
        {
          "output_type": "stream",
          "text": [
            "t[:2] t[3:] =  [0. 1.] [3. 4. 5. 6.]\n"
          ],
          "name": "stdout"
        }
      ]
    },
    {
      "cell_type": "code",
      "metadata": {
        "id": "8RIqkfa86ImB",
        "colab_type": "code",
        "outputId": "4b64b6f8-cb5f-49bd-c457-eb7e6e7c48c6",
        "colab": {
          "base_uri": "https://localhost:8080/",
          "height": 92
        }
      },
      "source": [
        "t = np.array([[1., 2., 3.], [4., 5., 6.], [7., 8., 9.], [10., 11., 12.]])\n",
        "print(t)"
      ],
      "execution_count": 0,
      "outputs": [
        {
          "output_type": "stream",
          "text": [
            "[[ 1.  2.  3.]\n",
            " [ 4.  5.  6.]\n",
            " [ 7.  8.  9.]\n",
            " [10. 11. 12.]]\n"
          ],
          "name": "stdout"
        }
      ]
    },
    {
      "cell_type": "code",
      "metadata": {
        "id": "RYrCkI6d9slw",
        "colab_type": "code",
        "outputId": "d0137d8e-4572-4150-80e9-ebbdde4e05b4",
        "colab": {
          "base_uri": "https://localhost:8080/",
          "height": 55
        }
      },
      "source": [
        "print('Rank  of t: ', t.ndim)\n",
        "print('Shape of t: ', t.shape)"
      ],
      "execution_count": 0,
      "outputs": [
        {
          "output_type": "stream",
          "text": [
            "Rank  of t:  2\n",
            "Shape of t:  (4, 3)\n"
          ],
          "name": "stdout"
        }
      ]
    },
    {
      "cell_type": "markdown",
      "metadata": {
        "id": "cNXQiMwqIoP2",
        "colab_type": "text"
      },
      "source": [
        "### 파이토치 텐서 선언하기(Pytorch Tensor Allocation)"
      ]
    },
    {
      "cell_type": "code",
      "metadata": {
        "id": "hxAgalBqCNG2",
        "colab_type": "code",
        "colab": {}
      },
      "source": [
        "import torch"
      ],
      "execution_count": 0,
      "outputs": []
    },
    {
      "cell_type": "code",
      "metadata": {
        "id": "bmfhZnzvIums",
        "colab_type": "code",
        "outputId": "c32d0601-33bd-43c9-8d95-82dc02c077fd",
        "colab": {
          "base_uri": "https://localhost:8080/",
          "height": 36
        }
      },
      "source": [
        "# FloatTensor이다. 대문자에 유의하도록 하자.\n",
        "\n",
        "t = torch.FloatTensor([0., 1., 2., 3., 4., 5., 6.])\n",
        "print(t)"
      ],
      "execution_count": 0,
      "outputs": [
        {
          "output_type": "stream",
          "text": [
            "tensor([0., 1., 2., 3., 4., 5., 6.])\n"
          ],
          "name": "stdout"
        }
      ]
    },
    {
      "cell_type": "code",
      "metadata": {
        "id": "5RNtQtA_I2JG",
        "colab_type": "code",
        "outputId": "80012a8a-e275-4a84-8d00-99946dbf4dbf",
        "colab": {
          "base_uri": "https://localhost:8080/",
          "height": 73
        }
      },
      "source": [
        "print(t.dim())      # rank. 즉, 차원\n",
        "print(t.shape)      # shape\n",
        "print(t.size())     # shape"
      ],
      "execution_count": 0,
      "outputs": [
        {
          "output_type": "stream",
          "text": [
            "1\n",
            "torch.Size([7])\n",
            "torch.Size([7])\n"
          ],
          "name": "stdout"
        }
      ]
    },
    {
      "cell_type": "code",
      "metadata": {
        "id": "Zfg5AVWeI9ez",
        "colab_type": "code",
        "outputId": "080abd39-c68b-49fc-840e-7c1dd6d670d2",
        "colab": {
          "base_uri": "https://localhost:8080/",
          "height": 73
        }
      },
      "source": [
        "print(t[0], t[1], t[-1])        # 인덱스로 접근\n",
        "print(t[2:5], t[4:-1])          # 슬라이싱\n",
        "print(t[:2], t[3:])             # 슬라이싱"
      ],
      "execution_count": 0,
      "outputs": [
        {
          "output_type": "stream",
          "text": [
            "tensor(0.) tensor(1.) tensor(6.)\n",
            "tensor([2., 3., 4.]) tensor([4., 5.])\n",
            "tensor([0., 1.]) tensor([3., 4., 5., 6.])\n"
          ],
          "name": "stdout"
        }
      ]
    },
    {
      "cell_type": "code",
      "metadata": {
        "id": "u-B5eQg2JL4Q",
        "colab_type": "code",
        "outputId": "e213637d-5888-4ae6-c2f0-b91f27623105",
        "colab": {
          "base_uri": "https://localhost:8080/",
          "height": 92
        }
      },
      "source": [
        "t = torch.FloatTensor([[1., 2., 3.],\n",
        "                       [4., 5., 6.],\n",
        "                       [7., 8., 9.],\n",
        "                       [10., 11., 12.]\n",
        "                      ])\n",
        "print(t)"
      ],
      "execution_count": 0,
      "outputs": [
        {
          "output_type": "stream",
          "text": [
            "tensor([[ 1.,  2.,  3.],\n",
            "        [ 4.,  5.,  6.],\n",
            "        [ 7.,  8.,  9.],\n",
            "        [10., 11., 12.]])\n"
          ],
          "name": "stdout"
        }
      ]
    },
    {
      "cell_type": "code",
      "metadata": {
        "id": "E5HNxzWfJYbT",
        "colab_type": "code",
        "outputId": "b1353bd0-5570-4a73-ba43-a32611896771",
        "colab": {
          "base_uri": "https://localhost:8080/",
          "height": 55
        }
      },
      "source": [
        "print(t.dim())  # rank. 즉, 차원\n",
        "print(t.size()) # shape"
      ],
      "execution_count": 0,
      "outputs": [
        {
          "output_type": "stream",
          "text": [
            "2\n",
            "torch.Size([4, 3])\n"
          ],
          "name": "stdout"
        }
      ]
    },
    {
      "cell_type": "code",
      "metadata": {
        "id": "5iWJbIdHJiaH",
        "colab_type": "code",
        "outputId": "b5bff5de-f57b-4af7-9b19-2d57d73c37b7",
        "colab": {
          "base_uri": "https://localhost:8080/",
          "height": 55
        }
      },
      "source": [
        "print(t[:,1])   # 첫번째 차원을 전체 선택한 상황에서 두번째 차원의 첫번째 것만 가져온다.\n",
        "print(t[:,1].size())    # shape"
      ],
      "execution_count": 0,
      "outputs": [
        {
          "output_type": "stream",
          "text": [
            "tensor([ 2.,  5.,  8., 11.])\n",
            "torch.Size([4])\n"
          ],
          "name": "stdout"
        }
      ]
    },
    {
      "cell_type": "code",
      "metadata": {
        "id": "icekNGNcJzYk",
        "colab_type": "code",
        "outputId": "b7ee2eb4-0bcc-4f84-9c39-661236c780c9",
        "colab": {
          "base_uri": "https://localhost:8080/",
          "height": 92
        }
      },
      "source": [
        "print(t[:, :-1])    # 첫번째 차원을 전체 선택한 상황에서 두번째 차원에서는 맨 마지막에서 첫번째를 제외하고 다 가져온다."
      ],
      "execution_count": 0,
      "outputs": [
        {
          "output_type": "stream",
          "text": [
            "tensor([[ 1.,  2.],\n",
            "        [ 4.,  5.],\n",
            "        [ 7.,  8.],\n",
            "        [10., 11.]])\n"
          ],
          "name": "stdout"
        }
      ]
    },
    {
      "cell_type": "markdown",
      "metadata": {
        "id": "UrHrx1OWKBUi",
        "colab_type": "text"
      },
      "source": [
        "### 브로드캐스팅(Broadcasting)"
      ]
    },
    {
      "cell_type": "code",
      "metadata": {
        "id": "FxnBpJHPKLBB",
        "colab_type": "code",
        "outputId": "96baa2e7-0c57-4ed4-abf2-20ed34a06c17",
        "colab": {
          "base_uri": "https://localhost:8080/",
          "height": 36
        }
      },
      "source": [
        "m1 = torch.FloatTensor([[3,3]])\n",
        "m2 = torch.FloatTensor([[2,2]])\n",
        "print(m1 + m2)"
      ],
      "execution_count": 0,
      "outputs": [
        {
          "output_type": "stream",
          "text": [
            "tensor([[5., 5.]])\n"
          ],
          "name": "stdout"
        }
      ]
    },
    {
      "cell_type": "code",
      "metadata": {
        "id": "CczCr6qPKSsn",
        "colab_type": "code",
        "outputId": "c2d4012c-7dae-422c-b92f-f668f0404125",
        "colab": {
          "base_uri": "https://localhost:8080/",
          "height": 36
        }
      },
      "source": [
        "# Vector + scalar\n",
        "m1 = torch.FloatTensor([[1, 2]])\n",
        "m2 = torch.FloatTensor([3]) # [3] -> [3, 3]\n",
        "print(m1 + m2)"
      ],
      "execution_count": 0,
      "outputs": [
        {
          "output_type": "stream",
          "text": [
            "tensor([[4., 5.]])\n"
          ],
          "name": "stdout"
        }
      ]
    },
    {
      "cell_type": "code",
      "metadata": {
        "id": "DW2ClS3YKXa9",
        "colab_type": "code",
        "outputId": "7b498a28-fc3e-4d3d-e5c5-d95af1698262",
        "colab": {
          "base_uri": "https://localhost:8080/",
          "height": 55
        }
      },
      "source": [
        "# 2 x 1 Vector + 1 x 2 Vector\n",
        "m1 = torch.FloatTensor([[1, 2]])\n",
        "m2 = torch.FloatTensor([[3], [4]])\n",
        "print(m1 + m2)"
      ],
      "execution_count": 0,
      "outputs": [
        {
          "output_type": "stream",
          "text": [
            "tensor([[4., 5.],\n",
            "        [5., 6.]])\n"
          ],
          "name": "stdout"
        }
      ]
    },
    {
      "cell_type": "markdown",
      "metadata": {
        "id": "IJk8JuwqKk7j",
        "colab_type": "text"
      },
      "source": [
        "브로드캐스팅은 딥러닝 연산에서 불가피하게 다른 행렬 또는 텐서에 대해서 사칙 연산을 수행할 필요가 있는 경우 필요한 기능이라고 한다. 하지만 자신이 설계한 텐서들이 다른 shape이지만 같다고 착각할 때 코드는 오류를 출력하지 않으므로 수정이 어렵다. 즉, 사용자 입장에서 굉장히 조심스럽게 사용해야 하는 기능이라고 생각한다."
      ]
    },
    {
      "cell_type": "code",
      "metadata": {
        "id": "ETmX6C9GLKYx",
        "colab_type": "code",
        "outputId": "36c45408-b31a-48e5-be08-fbe8a87c7af8",
        "colab": {
          "base_uri": "https://localhost:8080/",
          "height": 92
        }
      },
      "source": [
        "m1 = torch.FloatTensor([[1,2],[3,4]])\n",
        "m2 = torch.FloatTensor([[1],[2]])\n",
        "print('Shape of Matrix 1: ', m1.shape) # 2 x 2\n",
        "print('Shape of Matrix 2: ', m2.shape) # 2 x 1\n",
        "print(m1.matmul(m2)) # 2 x 1"
      ],
      "execution_count": 0,
      "outputs": [
        {
          "output_type": "stream",
          "text": [
            "Shape of Matrix 1:  torch.Size([2, 2])\n",
            "Shape of Matrix 2:  torch.Size([2, 1])\n",
            "tensor([[ 5.],\n",
            "        [11.]])\n"
          ],
          "name": "stdout"
        }
      ]
    },
    {
      "cell_type": "markdown",
      "metadata": {
        "id": "MNAzwV_9LeHO",
        "colab_type": "text"
      },
      "source": [
        "행렬 곱셈이 아니라 element-wise 곱셈이라는 것이 존재합니다. 이는 동일한 크기의 행렬이 동일한 위치에 있는 원소끼리 곱하는 것을 말합니다. 아래는 서로 다른 크기의 행렬이 브로드캐스팅이 된 후에 element-wise 곱셈이 수행되는 것을 보여줍니다. 이는 * 또는 mul()을 통해 수행합니다."
      ]
    },
    {
      "cell_type": "code",
      "metadata": {
        "id": "yqjvaqkRMD7v",
        "colab_type": "code",
        "outputId": "697217d2-9eac-49fa-efa9-217fbb6fd9f8",
        "colab": {
          "base_uri": "https://localhost:8080/",
          "height": 129
        }
      },
      "source": [
        "m1 = torch.FloatTensor([[1, 2], [3, 4]])\n",
        "m2 = torch.FloatTensor([[1], [2]])\n",
        "print('Shape of Matrix 1: ', m1.shape) # 2 x 2\n",
        "print('Shape of Matrix 2: ', m2.shape) # 2 x 1\n",
        "print(m1 * m2) # 2 x 2\n",
        "print(m1.mul(m2))"
      ],
      "execution_count": 0,
      "outputs": [
        {
          "output_type": "stream",
          "text": [
            "Shape of Matrix 1:  torch.Size([2, 2])\n",
            "Shape of Matrix 2:  torch.Size([2, 1])\n",
            "tensor([[1., 2.],\n",
            "        [6., 8.]])\n",
            "tensor([[1., 2.],\n",
            "        [6., 8.]])\n"
          ],
          "name": "stdout"
        }
      ]
    },
    {
      "cell_type": "markdown",
      "metadata": {
        "id": "MEg2diziMLFL",
        "colab_type": "text"
      },
      "source": [
        "m1 행렬의 크기는 (2,2)이었습니다. m2 행렬의 크기는 (2,1)였습니다. 이 때 element-wise 곱셈을 수행하면, 두 행렬의 크기는 브로드캐스팅이 된 후에 곱셈이 수행됩니다. 더 정확히는 여기서 m2의 크기가 변환됩니다."
      ]
    },
    {
      "cell_type": "code",
      "metadata": {
        "id": "O3X5g_KgMYdD",
        "colab_type": "code",
        "outputId": "e27f36f6-f484-40a2-ec82-e4d2aae4f408",
        "colab": {
          "base_uri": "https://localhost:8080/",
          "height": 36
        }
      },
      "source": [
        "t = torch.FloatTensor([1,2])\n",
        "print(t.mean())"
      ],
      "execution_count": 0,
      "outputs": [
        {
          "output_type": "stream",
          "text": [
            "tensor(1.5000)\n"
          ],
          "name": "stdout"
        }
      ]
    },
    {
      "cell_type": "code",
      "metadata": {
        "id": "PeXnpSokMe0o",
        "colab_type": "code",
        "outputId": "d804fa21-2e7a-49a0-d7c0-69dab6ebcf67",
        "colab": {
          "base_uri": "https://localhost:8080/",
          "height": 55
        }
      },
      "source": [
        "t = torch.FloatTensor([[1,2],[3,4]])\n",
        "print(t)"
      ],
      "execution_count": 0,
      "outputs": [
        {
          "output_type": "stream",
          "text": [
            "tensor([[1., 2.],\n",
            "        [3., 4.]])\n"
          ],
          "name": "stdout"
        }
      ]
    },
    {
      "cell_type": "code",
      "metadata": {
        "id": "-Crh2VdwMxC_",
        "colab_type": "code",
        "outputId": "ce29fd2c-3af7-4872-daa1-088caca1ca06",
        "colab": {
          "base_uri": "https://localhost:8080/",
          "height": 36
        }
      },
      "source": [
        "print(t.mean())"
      ],
      "execution_count": 0,
      "outputs": [
        {
          "output_type": "stream",
          "text": [
            "tensor(2.5000)\n"
          ],
          "name": "stdout"
        }
      ]
    },
    {
      "cell_type": "code",
      "metadata": {
        "id": "vZeDHT_9M4KI",
        "colab_type": "code",
        "outputId": "d45644b7-ef0a-400c-8562-6732fde57d51",
        "colab": {
          "base_uri": "https://localhost:8080/",
          "height": 36
        }
      },
      "source": [
        "print(t.mean(dim=0))"
      ],
      "execution_count": 0,
      "outputs": [
        {
          "output_type": "stream",
          "text": [
            "tensor([2., 3.])\n"
          ],
          "name": "stdout"
        }
      ]
    },
    {
      "cell_type": "markdown",
      "metadata": {
        "id": "Wj-HZkWjM9Ac",
        "colab_type": "text"
      },
      "source": [
        "dim=0이라는 것은 첫번째 차원을 의미합니다. 행렬에서 첫번째 차원은 '행'을 의미합니다. 그리고 인자로 dim을 준다면 해당 차원을 제거한다는 의미가 됩니다. 다시 말해 행렬에서 '열'만을 남기겠다는 의미가 됩니다. 기존 행렬의 크기는 (2,2)였지만 이를 수행하면 열의 차원만 보존되면서 (1,2)가 됩니다. 이는 (2,)와 같으며 벡터를 의미합니다."
      ]
    },
    {
      "cell_type": "code",
      "metadata": {
        "id": "aeFeJHhFNhdj",
        "colab_type": "code",
        "outputId": "721d953c-d8ce-4833-cb57-986c2d559947",
        "colab": {
          "base_uri": "https://localhost:8080/",
          "height": 36
        }
      },
      "source": [
        "print(t.mean(dim=1))"
      ],
      "execution_count": 0,
      "outputs": [
        {
          "output_type": "stream",
          "text": [
            "tensor([1.5000, 3.5000])\n"
          ],
          "name": "stdout"
        }
      ]
    },
    {
      "cell_type": "markdown",
      "metadata": {
        "id": "SNGjRGBqNu16",
        "colab_type": "text"
      },
      "source": [
        "(2x1)은 결국 1차원이므로 (1x2)와 같이 표현되면서 위와 같이 [1.5, 3.5]로 출력됩니다. 이번에는 dim=-1을 주는 경우를 보겠습니다. 이는 마지막 차원을 제거한다는 의미이고, 결국 열의 차원을 제거한다는 의미와 같습니다. 그러므로 위와 출력 결과가 같습니다."
      ]
    },
    {
      "cell_type": "code",
      "metadata": {
        "id": "0CeELBULOHBD",
        "colab_type": "code",
        "outputId": "6fd21635-5ade-4831-f6b9-f24c15560f1b",
        "colab": {
          "base_uri": "https://localhost:8080/",
          "height": 36
        }
      },
      "source": [
        "print(t.mean(dim=-1))"
      ],
      "execution_count": 0,
      "outputs": [
        {
          "output_type": "stream",
          "text": [
            "tensor([1.5000, 3.5000])\n"
          ],
          "name": "stdout"
        }
      ]
    },
    {
      "cell_type": "code",
      "metadata": {
        "id": "-gt2sfY8OMEz",
        "colab_type": "code",
        "outputId": "fb48a0d4-b133-42c0-e281-73b0a894125d",
        "colab": {
          "base_uri": "https://localhost:8080/",
          "height": 55
        }
      },
      "source": [
        "t = torch.FloatTensor([[1, 2], [3, 4]])\n",
        "print(t)"
      ],
      "execution_count": 0,
      "outputs": [
        {
          "output_type": "stream",
          "text": [
            "tensor([[1., 2.],\n",
            "        [3., 4.]])\n"
          ],
          "name": "stdout"
        }
      ]
    },
    {
      "cell_type": "code",
      "metadata": {
        "id": "aoTXydtOhDcU",
        "colab_type": "code",
        "outputId": "c2f3990a-ade3-4429-afee-2678b6b9b545",
        "colab": {
          "base_uri": "https://localhost:8080/",
          "height": 92
        }
      },
      "source": [
        "print(t.sum()) # 단순히 원소 전체의 덧셈을 수행\n",
        "print(t.sum(dim=0)) # 행을 제거\n",
        "print(t.sum(dim=1)) # 열을 제거\n",
        "print(t.sum(dim=-1)) # 열을 제거"
      ],
      "execution_count": 0,
      "outputs": [
        {
          "output_type": "stream",
          "text": [
            "tensor(10.)\n",
            "tensor([4., 6.])\n",
            "tensor([3., 7.])\n",
            "tensor([3., 7.])\n"
          ],
          "name": "stdout"
        }
      ]
    },
    {
      "cell_type": "code",
      "metadata": {
        "id": "SswyaWuMhyV8",
        "colab_type": "code",
        "outputId": "38f0dc35-b977-48bd-ae7b-22945d0d404e",
        "colab": {
          "base_uri": "https://localhost:8080/",
          "height": 55
        }
      },
      "source": [
        "t = torch.FloatTensor([[1, 2], [3, 4]])\n",
        "print(t)"
      ],
      "execution_count": 0,
      "outputs": [
        {
          "output_type": "stream",
          "text": [
            "tensor([[1., 2.],\n",
            "        [3., 4.]])\n"
          ],
          "name": "stdout"
        }
      ]
    },
    {
      "cell_type": "code",
      "metadata": {
        "id": "6pK25kgSh7Z0",
        "colab_type": "code",
        "outputId": "367e5d04-6d26-4387-f37d-d919b6ac073c",
        "colab": {
          "base_uri": "https://localhost:8080/",
          "height": 36
        }
      },
      "source": [
        "print(t.max()) # Returns one value: max"
      ],
      "execution_count": 0,
      "outputs": [
        {
          "output_type": "stream",
          "text": [
            "tensor(4.)\n"
          ],
          "name": "stdout"
        }
      ]
    },
    {
      "cell_type": "code",
      "metadata": {
        "id": "Hdvkdh2diArZ",
        "colab_type": "code",
        "outputId": "104c4457-a1cd-48f5-9f51-3a51a63e6f25",
        "colab": {
          "base_uri": "https://localhost:8080/",
          "height": 73
        }
      },
      "source": [
        "print(t.max(dim=0)) # Returns two values: max and argmax"
      ],
      "execution_count": 0,
      "outputs": [
        {
          "output_type": "stream",
          "text": [
            "torch.return_types.max(\n",
            "values=tensor([3., 4.]),\n",
            "indices=tensor([1, 1]))\n"
          ],
          "name": "stdout"
        }
      ]
    },
    {
      "cell_type": "markdown",
      "metadata": {
        "id": "EArghnLOig_2",
        "colab_type": "text"
      },
      "source": [
        "만약 두 개를 함께 리턴받는 것이 아니라 max 또는 argmax만 리턴받고 싶다면 다음과 같이 리턴값에도 인덱스를 부여하면 됩니다. 0번 인덱스를 사용하면 max 값만 받아올 수 있고, 1번 인덱스를 사용하면 argmax 값만 받아올 수 있습니다."
      ]
    },
    {
      "cell_type": "code",
      "metadata": {
        "id": "7JUOV6eniGHr",
        "colab_type": "code",
        "outputId": "d0d74c2b-9e52-4f52-bbc3-9af0f90174ef",
        "colab": {
          "base_uri": "https://localhost:8080/",
          "height": 55
        }
      },
      "source": [
        "print('Max: ', t.max(dim=0)[0])\n",
        "print('Argmax: ', t.max(dim=0)[1])"
      ],
      "execution_count": 0,
      "outputs": [
        {
          "output_type": "stream",
          "text": [
            "Max:  tensor([3., 4.])\n",
            "Argmax:  tensor([1, 1])\n"
          ],
          "name": "stdout"
        }
      ]
    },
    {
      "cell_type": "code",
      "metadata": {
        "id": "Lfw4L4RiigDx",
        "colab_type": "code",
        "outputId": "4fc6951b-0b9f-4f1e-b3ff-4f92b68aec05",
        "colab": {
          "base_uri": "https://localhost:8080/",
          "height": 129
        }
      },
      "source": [
        "print(t.max(dim=1))\n",
        "print(t.max(dim=-1))"
      ],
      "execution_count": 0,
      "outputs": [
        {
          "output_type": "stream",
          "text": [
            "torch.return_types.max(\n",
            "values=tensor([2., 4.]),\n",
            "indices=tensor([1, 1]))\n",
            "torch.return_types.max(\n",
            "values=tensor([2., 4.]),\n",
            "indices=tensor([1, 1]))\n"
          ],
          "name": "stdout"
        }
      ]
    },
    {
      "cell_type": "markdown",
      "metadata": {
        "id": "B10AbFy-kMrx",
        "colab_type": "text"
      },
      "source": [
        "# 03. 텐서 조작하기(Tensor Manipulation) 2"
      ]
    },
    {
      "cell_type": "markdown",
      "metadata": {
        "id": "oJaFwO4FkQkT",
        "colab_type": "text"
      },
      "source": [
        "### 뷰(View): 원소의 수를 유지하면서 텐서의 크기 변경"
      ]
    },
    {
      "cell_type": "markdown",
      "metadata": {
        "id": "lxAjKU6gk21K",
        "colab_type": "text"
      },
      "source": [
        "파이토치 텐서의 뷰(View)는 넘파이에서의 Reshape과 같은 역할을 합니다. Reshape라는 이름에서 알 수 있듯이, 텐서의 크기(Shape)를 변경해주는 역할을 합니다."
      ]
    },
    {
      "cell_type": "markdown",
      "metadata": {
        "id": "sTUvUSb-l6oc",
        "colab_type": "text"
      },
      "source": [
        "* View는 기본적으로 변경 전과 변경 후의 텐서 안의 원소의 개수가 유지되어야 합니다.\n",
        "* 파이토치의 View는 사이즈가 -1로 설정되면 다른 차원으로부터 해당 값을 유추합니다."
      ]
    },
    {
      "cell_type": "code",
      "metadata": {
        "id": "T3QitgYClEMc",
        "colab_type": "code",
        "colab": {}
      },
      "source": [
        "# FloatTensor는 list 뿐만 아니라 numpy array로도 정의 가능\n",
        "\n",
        "t = np.array([[[0, 1, 2],\n",
        "               [3, 4, 5]],\n",
        "              [[6, 7, 8],\n",
        "               [9, 10, 11]]])\n",
        "ft = torch.FloatTensor(t)"
      ],
      "execution_count": 0,
      "outputs": []
    },
    {
      "cell_type": "code",
      "metadata": {
        "id": "KY0Zz15klOq8",
        "colab_type": "code",
        "outputId": "23fbdfb4-39a1-4866-a7a8-0a2ff0a235f6",
        "colab": {
          "base_uri": "https://localhost:8080/",
          "height": 36
        }
      },
      "source": [
        "print(ft.shape)"
      ],
      "execution_count": 0,
      "outputs": [
        {
          "output_type": "stream",
          "text": [
            "torch.Size([2, 2, 3])\n"
          ],
          "name": "stdout"
        }
      ]
    },
    {
      "cell_type": "code",
      "metadata": {
        "id": "SXuSxrYxlZ_a",
        "colab_type": "code",
        "outputId": "5262092d-f6f3-4a21-c8b6-50825443c6e5",
        "colab": {
          "base_uri": "https://localhost:8080/",
          "height": 111
        }
      },
      "source": [
        "print(ft.view([-1,3])) # ft라는 텐서를 (?,3)의 크기로 변경\n",
        "print(ft.view([-1,3]).shape)"
      ],
      "execution_count": 0,
      "outputs": [
        {
          "output_type": "stream",
          "text": [
            "tensor([[ 0.,  1.,  2.],\n",
            "        [ 3.,  4.,  5.],\n",
            "        [ 6.,  7.,  8.],\n",
            "        [ 9., 10., 11.]])\n",
            "torch.Size([4, 3])\n"
          ],
          "name": "stdout"
        }
      ]
    },
    {
      "cell_type": "code",
      "metadata": {
        "id": "1Ub2NNr-lpiM",
        "colab_type": "code",
        "outputId": "be62f0eb-e755-4314-c423-bc10a098088b",
        "colab": {
          "base_uri": "https://localhost:8080/",
          "height": 167
        }
      },
      "source": [
        "print(ft.view([-1, 1, 3]))\n",
        "print(ft.view([-1, 1, 3]).shape)"
      ],
      "execution_count": 0,
      "outputs": [
        {
          "output_type": "stream",
          "text": [
            "tensor([[[ 0.,  1.,  2.]],\n",
            "\n",
            "        [[ 3.,  4.,  5.]],\n",
            "\n",
            "        [[ 6.,  7.,  8.]],\n",
            "\n",
            "        [[ 9., 10., 11.]]])\n",
            "torch.Size([4, 1, 3])\n"
          ],
          "name": "stdout"
        }
      ]
    },
    {
      "cell_type": "markdown",
      "metadata": {
        "id": "O4pmqRIlmHad",
        "colab_type": "text"
      },
      "source": [
        "### 스퀴즈(Squeeze): 1인 차원을 제거한다."
      ]
    },
    {
      "cell_type": "code",
      "metadata": {
        "id": "GJv0kilGmUQR",
        "colab_type": "code",
        "outputId": "977ef45b-1e9b-4a0b-d586-4d0375a8da36",
        "colab": {
          "base_uri": "https://localhost:8080/",
          "height": 92
        }
      },
      "source": [
        "ft = torch.FloatTensor([[0], [1], [2]])\n",
        "print(ft)\n",
        "print(ft.shape)"
      ],
      "execution_count": 0,
      "outputs": [
        {
          "output_type": "stream",
          "text": [
            "tensor([[0.],\n",
            "        [1.],\n",
            "        [2.]])\n",
            "torch.Size([3, 1])\n"
          ],
          "name": "stdout"
        }
      ]
    },
    {
      "cell_type": "code",
      "metadata": {
        "id": "qduESJt3mbsC",
        "colab_type": "code",
        "outputId": "1c2cfe99-f450-4624-d2d9-479e7b585402",
        "colab": {
          "base_uri": "https://localhost:8080/",
          "height": 55
        }
      },
      "source": [
        "print(ft.squeeze())\n",
        "print(ft.squeeze().shape)"
      ],
      "execution_count": 0,
      "outputs": [
        {
          "output_type": "stream",
          "text": [
            "tensor([0., 1., 2.])\n",
            "torch.Size([3])\n"
          ],
          "name": "stdout"
        }
      ]
    },
    {
      "cell_type": "markdown",
      "metadata": {
        "id": "CO2AYimnmjGv",
        "colab_type": "text"
      },
      "source": [
        "### 언스퀴즈(Unsqueeze): 특정 위치에 1인 차원을 추가한다."
      ]
    },
    {
      "cell_type": "code",
      "metadata": {
        "id": "qOxloEu_mqRW",
        "colab_type": "code",
        "outputId": "1911fed7-6c3c-45d4-e59f-0109021bf364",
        "colab": {
          "base_uri": "https://localhost:8080/",
          "height": 36
        }
      },
      "source": [
        "ft = torch.Tensor([0,1,2])\n",
        "print(ft.shape)"
      ],
      "execution_count": 0,
      "outputs": [
        {
          "output_type": "stream",
          "text": [
            "torch.Size([3])\n"
          ],
          "name": "stdout"
        }
      ]
    },
    {
      "cell_type": "code",
      "metadata": {
        "id": "tEP8p04imttW",
        "colab_type": "code",
        "outputId": "b04cf9e4-df9e-4f2f-e6b2-8996b45ca7f7",
        "colab": {
          "base_uri": "https://localhost:8080/",
          "height": 55
        }
      },
      "source": [
        "print(ft.unsqueeze(0)) # 인덱스가 0부터 시작하므로 0은 첫번째 차원을 의미한다.\n",
        "print(ft.unsqueeze(0).shape)"
      ],
      "execution_count": 0,
      "outputs": [
        {
          "output_type": "stream",
          "text": [
            "tensor([[0., 1., 2.]])\n",
            "torch.Size([1, 3])\n"
          ],
          "name": "stdout"
        }
      ]
    },
    {
      "cell_type": "code",
      "metadata": {
        "id": "9OOrpT0Bm3NV",
        "colab_type": "code",
        "outputId": "5eb3a81e-b712-4852-b843-a0f01dee941b",
        "colab": {
          "base_uri": "https://localhost:8080/",
          "height": 55
        }
      },
      "source": [
        "print(ft.view(1,-1))\n",
        "print(ft.view(1,-1).shape)"
      ],
      "execution_count": 0,
      "outputs": [
        {
          "output_type": "stream",
          "text": [
            "tensor([[0., 1., 2.]])\n",
            "torch.Size([1, 3])\n"
          ],
          "name": "stdout"
        }
      ]
    },
    {
      "cell_type": "code",
      "metadata": {
        "id": "Zcb8u11Cm_7d",
        "colab_type": "code",
        "outputId": "30780e6c-1682-4f48-a8ee-6a202b93ba04",
        "colab": {
          "base_uri": "https://localhost:8080/",
          "height": 92
        }
      },
      "source": [
        "print(ft.unsqueeze(1))\n",
        "print(ft.unsqueeze(1).shape)"
      ],
      "execution_count": 0,
      "outputs": [
        {
          "output_type": "stream",
          "text": [
            "tensor([[0.],\n",
            "        [1.],\n",
            "        [2.]])\n",
            "torch.Size([3, 1])\n"
          ],
          "name": "stdout"
        }
      ]
    },
    {
      "cell_type": "code",
      "metadata": {
        "id": "RnVMWy0ynD7A",
        "colab_type": "code",
        "outputId": "88548802-8a7d-4441-8f29-d11782a72e88",
        "colab": {
          "base_uri": "https://localhost:8080/",
          "height": 92
        }
      },
      "source": [
        "print(ft.unsqueeze(-1))\n",
        "print(ft.unsqueeze(-1).shape)"
      ],
      "execution_count": 0,
      "outputs": [
        {
          "output_type": "stream",
          "text": [
            "tensor([[0.],\n",
            "        [1.],\n",
            "        [2.]])\n",
            "torch.Size([3, 1])\n"
          ],
          "name": "stdout"
        }
      ]
    },
    {
      "cell_type": "markdown",
      "metadata": {
        "id": "nvuVAVpHnHXn",
        "colab_type": "text"
      },
      "source": [
        "* view(), squeeze(), unsqueeze()는 텐서의 원소 수를 그대로 유지하면서 모양과 차원을 조절합니다."
      ]
    },
    {
      "cell_type": "markdown",
      "metadata": {
        "id": "OjS62gyenPX3",
        "colab_type": "text"
      },
      "source": [
        "### 타입 캐스팅(Type Casting)"
      ]
    },
    {
      "cell_type": "markdown",
      "metadata": {
        "id": "1Nq3kyrancuk",
        "colab_type": "text"
      },
      "source": [
        "<img src=\"https://i.imgur.com/Ivx6xm5.png\">"
      ]
    },
    {
      "cell_type": "markdown",
      "metadata": {
        "id": "ITVItxjJn3A0",
        "colab_type": "text"
      },
      "source": [
        "텐서에는 자료형이라는 것이 있습니다. 각 데이터형별로 정의되어져 있는데, 예를 들어 32비트의 유동 소수점은 torch.FloatTensor를, 64비트의 부호 있는 정수는 torch.LongTensor를 사용합니다. GPU 연산을 위한 자료형도 있습니다. 예를 들어 torch.cuda.FLoatTensor가 그 예입니다.<br><br>\n",
        "그리고 이 자료형을 변환하는 것을 타입 캐스팅이라고 합니다."
      ]
    },
    {
      "cell_type": "code",
      "metadata": {
        "id": "JpcwHS0woKCK",
        "colab_type": "code",
        "outputId": "98d465c6-b4b3-48f7-f06b-46185bd5469c",
        "colab": {
          "base_uri": "https://localhost:8080/",
          "height": 36
        }
      },
      "source": [
        "lt = torch.LongTensor([1,2,3,4])\n",
        "print(lt)"
      ],
      "execution_count": 0,
      "outputs": [
        {
          "output_type": "stream",
          "text": [
            "tensor([1, 2, 3, 4])\n"
          ],
          "name": "stdout"
        }
      ]
    },
    {
      "cell_type": "code",
      "metadata": {
        "id": "kv5911DtoPkZ",
        "colab_type": "code",
        "outputId": "e256c84c-9d9b-463f-e015-5b18684e333c",
        "colab": {
          "base_uri": "https://localhost:8080/",
          "height": 36
        }
      },
      "source": [
        "print(lt.float())"
      ],
      "execution_count": 0,
      "outputs": [
        {
          "output_type": "stream",
          "text": [
            "tensor([1., 2., 3., 4.])\n"
          ],
          "name": "stdout"
        }
      ]
    },
    {
      "cell_type": "code",
      "metadata": {
        "id": "v9gy9KfQoVst",
        "colab_type": "code",
        "outputId": "f41e26a3-733c-45fe-f9d3-d3b5a5f5be95",
        "colab": {
          "base_uri": "https://localhost:8080/",
          "height": 36
        }
      },
      "source": [
        "bt = torch.ByteTensor([True, False, False, True])\n",
        "print(bt)"
      ],
      "execution_count": 0,
      "outputs": [
        {
          "output_type": "stream",
          "text": [
            "tensor([1, 0, 0, 1], dtype=torch.uint8)\n"
          ],
          "name": "stdout"
        }
      ]
    },
    {
      "cell_type": "code",
      "metadata": {
        "id": "jDHwf0HKofNx",
        "colab_type": "code",
        "outputId": "20966a82-b836-440d-83d4-84a537192ff6",
        "colab": {
          "base_uri": "https://localhost:8080/",
          "height": 55
        }
      },
      "source": [
        "print(bt.long())\n",
        "print(bt.float())"
      ],
      "execution_count": 0,
      "outputs": [
        {
          "output_type": "stream",
          "text": [
            "tensor([1, 0, 0, 1])\n",
            "tensor([1., 0., 0., 1.])\n"
          ],
          "name": "stdout"
        }
      ]
    },
    {
      "cell_type": "markdown",
      "metadata": {
        "id": "1PjRHIqUoiKP",
        "colab_type": "text"
      },
      "source": [
        "### 연결하기(concatenate)"
      ]
    },
    {
      "cell_type": "code",
      "metadata": {
        "id": "1IIrpxzlo84l",
        "colab_type": "code",
        "colab": {}
      },
      "source": [
        "x = torch.FloatTensor([[1,2],[3,4]])\n",
        "y = torch.FloatTensor([[5,6],[7,8]])"
      ],
      "execution_count": 0,
      "outputs": []
    },
    {
      "cell_type": "code",
      "metadata": {
        "id": "t5c5o2E7pD_j",
        "colab_type": "code",
        "outputId": "9a8fb785-ab00-448f-b408-b819b8f30924",
        "colab": {
          "base_uri": "https://localhost:8080/",
          "height": 92
        }
      },
      "source": [
        "print(torch.cat([x, y], dim=0))"
      ],
      "execution_count": 0,
      "outputs": [
        {
          "output_type": "stream",
          "text": [
            "tensor([[1., 2.],\n",
            "        [3., 4.],\n",
            "        [5., 6.],\n",
            "        [7., 8.]])\n"
          ],
          "name": "stdout"
        }
      ]
    },
    {
      "cell_type": "code",
      "metadata": {
        "id": "tSymVQ3_pL1D",
        "colab_type": "code",
        "outputId": "6b7353e2-5a3f-476a-de97-c9eaf117bf25",
        "colab": {
          "base_uri": "https://localhost:8080/",
          "height": 55
        }
      },
      "source": [
        "print(torch.cat([x, y], dim=1))"
      ],
      "execution_count": 0,
      "outputs": [
        {
          "output_type": "stream",
          "text": [
            "tensor([[1., 2., 5., 6.],\n",
            "        [3., 4., 7., 8.]])\n"
          ],
          "name": "stdout"
        }
      ]
    },
    {
      "cell_type": "markdown",
      "metadata": {
        "id": "14PXcrXxpNpd",
        "colab_type": "text"
      },
      "source": [
        "### 스택킹(Stacking)"
      ]
    },
    {
      "cell_type": "code",
      "metadata": {
        "id": "hFPgtg5kpTl0",
        "colab_type": "code",
        "colab": {}
      },
      "source": [
        "x = torch.FloatTensor([1,4])\n",
        "y = torch.FloatTensor([2,5])\n",
        "z = torch.FloatTensor([3,6])"
      ],
      "execution_count": 0,
      "outputs": []
    },
    {
      "cell_type": "code",
      "metadata": {
        "id": "CFkdvDBbpZ16",
        "colab_type": "code",
        "outputId": "f038b656-20a4-4dfb-d5c6-6cb08da94053",
        "colab": {
          "base_uri": "https://localhost:8080/",
          "height": 73
        }
      },
      "source": [
        "print(torch.stack([x, y, z]))"
      ],
      "execution_count": 0,
      "outputs": [
        {
          "output_type": "stream",
          "text": [
            "tensor([[1., 4.],\n",
            "        [2., 5.],\n",
            "        [3., 6.]])\n"
          ],
          "name": "stdout"
        }
      ]
    },
    {
      "cell_type": "code",
      "metadata": {
        "id": "ahS2ze5opczU",
        "colab_type": "code",
        "outputId": "99b25f18-f756-45e0-e65a-a7f4ed549800",
        "colab": {
          "base_uri": "https://localhost:8080/",
          "height": 73
        }
      },
      "source": [
        "# torch.cat: 여러 행렬을 한 번에 연결 가능\n",
        "\n",
        "print(torch.cat([x.unsqueeze(0), y.unsqueeze(0), z.unsqueeze(0)], dim=0))"
      ],
      "execution_count": 0,
      "outputs": [
        {
          "output_type": "stream",
          "text": [
            "tensor([[1., 4.],\n",
            "        [2., 5.],\n",
            "        [3., 6.]])\n"
          ],
          "name": "stdout"
        }
      ]
    },
    {
      "cell_type": "code",
      "metadata": {
        "id": "2GchiKDwpq3f",
        "colab_type": "code",
        "outputId": "bdbdc2f3-acb1-44f1-81ee-8f84476a7675",
        "colab": {
          "base_uri": "https://localhost:8080/",
          "height": 55
        }
      },
      "source": [
        "print(torch.stack([x, y, z], dim=1))"
      ],
      "execution_count": 0,
      "outputs": [
        {
          "output_type": "stream",
          "text": [
            "tensor([[1., 2., 3.],\n",
            "        [4., 5., 6.]])\n"
          ],
          "name": "stdout"
        }
      ]
    },
    {
      "cell_type": "markdown",
      "metadata": {
        "id": "UrHaqCv2qVPl",
        "colab_type": "text"
      },
      "source": [
        "### ones_like와 zeros_like: 0으로 채워진 텐서와 1로 채워진 텐서"
      ]
    },
    {
      "cell_type": "code",
      "metadata": {
        "id": "KvHwvbCZqxeu",
        "colab_type": "code",
        "outputId": "b0d13327-1d0c-49e2-d447-a3f24af23c3e",
        "colab": {
          "base_uri": "https://localhost:8080/",
          "height": 55
        }
      },
      "source": [
        "x = torch.FloatTensor([[0,1,2],[2,1,0]])\n",
        "print(x)"
      ],
      "execution_count": 0,
      "outputs": [
        {
          "output_type": "stream",
          "text": [
            "tensor([[0., 1., 2.],\n",
            "        [2., 1., 0.]])\n"
          ],
          "name": "stdout"
        }
      ]
    },
    {
      "cell_type": "code",
      "metadata": {
        "id": "Xzme2mrDq2lq",
        "colab_type": "code",
        "outputId": "76faf475-4e8a-49e7-85ca-0ed88a7316da",
        "colab": {
          "base_uri": "https://localhost:8080/",
          "height": 55
        }
      },
      "source": [
        "print(torch.ones_like(x)) # 입력 텐서와 크기를 동일하게 하면서 값을 1로 채우기"
      ],
      "execution_count": 0,
      "outputs": [
        {
          "output_type": "stream",
          "text": [
            "tensor([[1., 1., 1.],\n",
            "        [1., 1., 1.]])\n"
          ],
          "name": "stdout"
        }
      ]
    },
    {
      "cell_type": "code",
      "metadata": {
        "id": "8Ca7U56YrAGW",
        "colab_type": "code",
        "outputId": "ac43fa78-098e-4e6f-8d5c-18fcf0b42777",
        "colab": {
          "base_uri": "https://localhost:8080/",
          "height": 55
        }
      },
      "source": [
        "print(torch.zeros_like(x)) # 입력 텐서와 크기를 동일하게 하면서 값을 0으로 채우기"
      ],
      "execution_count": 0,
      "outputs": [
        {
          "output_type": "stream",
          "text": [
            "tensor([[0., 0., 0.],\n",
            "        [0., 0., 0.]])\n"
          ],
          "name": "stdout"
        }
      ]
    },
    {
      "cell_type": "markdown",
      "metadata": {
        "id": "T5MtvBmxrCEI",
        "colab_type": "text"
      },
      "source": [
        "### In-place Operation(덮어쓰기 연산)"
      ]
    },
    {
      "cell_type": "code",
      "metadata": {
        "id": "2M111krTrHnx",
        "colab_type": "code",
        "colab": {}
      },
      "source": [
        "x = torch.FloatTensor([[1,2],[3,4]])"
      ],
      "execution_count": 0,
      "outputs": []
    },
    {
      "cell_type": "code",
      "metadata": {
        "id": "7o2LqpEJrLMj",
        "colab_type": "code",
        "outputId": "533f68c8-c103-4491-8697-0043ac57ef7f",
        "colab": {
          "base_uri": "https://localhost:8080/",
          "height": 92
        }
      },
      "source": [
        "print(x.mul(2.)) # 곱하기 2를 수행한 결과를 출력\n",
        "print(x) # 기존의 값 출력"
      ],
      "execution_count": 0,
      "outputs": [
        {
          "output_type": "stream",
          "text": [
            "tensor([[2., 4.],\n",
            "        [6., 8.]])\n",
            "tensor([[1., 2.],\n",
            "        [3., 4.]])\n"
          ],
          "name": "stdout"
        }
      ]
    },
    {
      "cell_type": "markdown",
      "metadata": {
        "id": "WJchmLpNrWk0",
        "colab_type": "text"
      },
      "source": [
        "곱하기 2를 수행했지만 이를 x에다가 다시 저장하지 않았으니, 곱하기 연산을 하더라도 기존의 값 x는 변하지 않는 것이 당연합니다.<br><br>\n",
        "그런데 연산 뒤에 _를 붙이면 기존의 값을 덮어쓰기 합니다."
      ]
    },
    {
      "cell_type": "code",
      "metadata": {
        "id": "EhA55B6wro50",
        "colab_type": "code",
        "outputId": "e8aa2f18-99ab-4d7e-ea71-8f26c129ffb9",
        "colab": {
          "base_uri": "https://localhost:8080/",
          "height": 92
        }
      },
      "source": [
        "print(x.mul_(2,)) # 곱하기 2를 수행한 결과를 변수 x에 값을 저장하면서 결과를 출력\n",
        "print(x)"
      ],
      "execution_count": 0,
      "outputs": [
        {
          "output_type": "stream",
          "text": [
            "tensor([[2., 4.],\n",
            "        [6., 8.]])\n",
            "tensor([[2., 4.],\n",
            "        [6., 8.]])\n"
          ],
          "name": "stdout"
        }
      ]
    },
    {
      "cell_type": "markdown",
      "metadata": {
        "id": "fyeTr-Xjvq_w",
        "colab_type": "text"
      },
      "source": [
        "# 04. 파이썬 클래스(class)"
      ]
    },
    {
      "cell_type": "code",
      "metadata": {
        "id": "5nYHPFItvHx8",
        "colab_type": "code",
        "colab": {}
      },
      "source": [
        "result = 0"
      ],
      "execution_count": 0,
      "outputs": []
    },
    {
      "cell_type": "code",
      "metadata": {
        "id": "-ptCod3evNFR",
        "colab_type": "code",
        "colab": {}
      },
      "source": [
        "# 함수(function)로 덧셈기 구현하기\n",
        "\n",
        "def add(num):\n",
        "    global result\n",
        "    result += num\n",
        "    return result"
      ],
      "execution_count": 0,
      "outputs": []
    },
    {
      "cell_type": "code",
      "metadata": {
        "id": "6C7k-ZrBvTdM",
        "colab_type": "code",
        "outputId": "25928dd7-3dc5-4ec9-c740-57b876147a5c",
        "colab": {
          "base_uri": "https://localhost:8080/",
          "height": 53
        }
      },
      "source": [
        "print(add(3))\n",
        "print(add(4))"
      ],
      "execution_count": 0,
      "outputs": [
        {
          "output_type": "stream",
          "text": [
            "3\n",
            "7\n"
          ],
          "name": "stdout"
        }
      ]
    },
    {
      "cell_type": "code",
      "metadata": {
        "id": "AtlWxa3ovV4Q",
        "colab_type": "code",
        "outputId": "63634211-1a88-4b64-cc2b-95a1a803d2c4",
        "colab": {
          "base_uri": "https://localhost:8080/",
          "height": 89
        }
      },
      "source": [
        "# 함수(function)로 두 개의 덧셈기 구현하기\n",
        "\n",
        "result1 = 0\n",
        "result2 = 0\n",
        "\n",
        "def add1(num):\n",
        "    global result1\n",
        "    result1 += num\n",
        "    return result1\n",
        "\n",
        "def add2(num):\n",
        "    global result2\n",
        "    result2 += num\n",
        "    return result2\n",
        "\n",
        "print(add1(3))\n",
        "print(add1(4))\n",
        "print(add2(3))\n",
        "print(add2(7))"
      ],
      "execution_count": 0,
      "outputs": [
        {
          "output_type": "stream",
          "text": [
            "3\n",
            "7\n",
            "3\n",
            "10\n"
          ],
          "name": "stdout"
        }
      ]
    },
    {
      "cell_type": "code",
      "metadata": {
        "id": "OBLmpL2ev3fg",
        "colab_type": "code",
        "colab": {}
      },
      "source": [
        "# 클래스(class)로 덧셈기 구현하기\n",
        "\n",
        "class Calculator:\n",
        "    def __init__(self): # 객체 생성 시 호출될 때 실행되는 초기화 함수. 이를 생성자라고 한다.\n",
        "        self.result = 0\n",
        "\n",
        "    def add(self, num): # 객체 생성 후 사용할 수 있는 함수\n",
        "        self.result += num\n",
        "        return self.result"
      ],
      "execution_count": 0,
      "outputs": []
    },
    {
      "cell_type": "code",
      "metadata": {
        "id": "NJtrkN6BwNgT",
        "colab_type": "code",
        "colab": {}
      },
      "source": [
        "cal1 = Calculator()"
      ],
      "execution_count": 0,
      "outputs": []
    },
    {
      "cell_type": "code",
      "metadata": {
        "id": "E95ICi43wQn7",
        "colab_type": "code",
        "colab": {}
      },
      "source": [
        "cal2 = Calculator()"
      ],
      "execution_count": 0,
      "outputs": []
    },
    {
      "cell_type": "code",
      "metadata": {
        "id": "kYoVHWc_wWCs",
        "colab_type": "code",
        "outputId": "e13d1901-291e-4d62-f7d9-bd3da4696881",
        "colab": {
          "base_uri": "https://localhost:8080/",
          "height": 89
        }
      },
      "source": [
        "print(cal1.add(3))\n",
        "print(cal1.add(4))\n",
        "print(cal2.add(3))\n",
        "print(cal2.add(7))"
      ],
      "execution_count": 0,
      "outputs": [
        {
          "output_type": "stream",
          "text": [
            "3\n",
            "7\n",
            "3\n",
            "10\n"
          ],
          "name": "stdout"
        }
      ]
    }
  ]
}