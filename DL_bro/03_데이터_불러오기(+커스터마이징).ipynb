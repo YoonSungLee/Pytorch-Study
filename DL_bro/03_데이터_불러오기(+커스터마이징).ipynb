{
  "nbformat": 4,
  "nbformat_minor": 0,
  "metadata": {
    "colab": {
      "name": "03. 데이터 불러오기(+커스터마이징).ipynb",
      "provenance": [],
      "collapsed_sections": [],
      "authorship_tag": "ABX9TyOZ0RfLRf3l85Iks3PUHgPH"
    },
    "kernelspec": {
      "name": "python3",
      "display_name": "Python 3"
    },
    "widgets": {
      "application/vnd.jupyter.widget-state+json": {
        "6e61c92e985b4d26b513e1b7b8c2f249": {
          "model_module": "@jupyter-widgets/controls",
          "model_name": "HBoxModel",
          "state": {
            "_view_name": "HBoxView",
            "_dom_classes": [],
            "_model_name": "HBoxModel",
            "_view_module": "@jupyter-widgets/controls",
            "_model_module_version": "1.5.0",
            "_view_count": null,
            "_view_module_version": "1.5.0",
            "box_style": "",
            "layout": "IPY_MODEL_9e1d82a3e38a4e78a7e27b140b98540e",
            "_model_module": "@jupyter-widgets/controls",
            "children": [
              "IPY_MODEL_73fb0b4426d64d0db115a2bbdd2bcdc1",
              "IPY_MODEL_9c43e88c766d4d1baa0d0003186d0102"
            ]
          }
        },
        "9e1d82a3e38a4e78a7e27b140b98540e": {
          "model_module": "@jupyter-widgets/base",
          "model_name": "LayoutModel",
          "state": {
            "_view_name": "LayoutView",
            "grid_template_rows": null,
            "right": null,
            "justify_content": null,
            "_view_module": "@jupyter-widgets/base",
            "overflow": null,
            "_model_module_version": "1.2.0",
            "_view_count": null,
            "flex_flow": null,
            "width": null,
            "min_width": null,
            "border": null,
            "align_items": null,
            "bottom": null,
            "_model_module": "@jupyter-widgets/base",
            "top": null,
            "grid_column": null,
            "overflow_y": null,
            "overflow_x": null,
            "grid_auto_flow": null,
            "grid_area": null,
            "grid_template_columns": null,
            "flex": null,
            "_model_name": "LayoutModel",
            "justify_items": null,
            "grid_row": null,
            "max_height": null,
            "align_content": null,
            "visibility": null,
            "align_self": null,
            "height": null,
            "min_height": null,
            "padding": null,
            "grid_auto_rows": null,
            "grid_gap": null,
            "max_width": null,
            "order": null,
            "_view_module_version": "1.2.0",
            "grid_template_areas": null,
            "object_position": null,
            "object_fit": null,
            "grid_auto_columns": null,
            "margin": null,
            "display": null,
            "left": null
          }
        },
        "73fb0b4426d64d0db115a2bbdd2bcdc1": {
          "model_module": "@jupyter-widgets/controls",
          "model_name": "FloatProgressModel",
          "state": {
            "_view_name": "ProgressView",
            "style": "IPY_MODEL_a3cb6dd2497e49ec96c2e1b71e00579d",
            "_dom_classes": [],
            "description": "",
            "_model_name": "FloatProgressModel",
            "bar_style": "info",
            "max": 1,
            "_view_module": "@jupyter-widgets/controls",
            "_model_module_version": "1.5.0",
            "value": 1,
            "_view_count": null,
            "_view_module_version": "1.5.0",
            "orientation": "horizontal",
            "min": 0,
            "description_tooltip": null,
            "_model_module": "@jupyter-widgets/controls",
            "layout": "IPY_MODEL_8a8e1d0cad124da3a1a4f91f335fa559"
          }
        },
        "9c43e88c766d4d1baa0d0003186d0102": {
          "model_module": "@jupyter-widgets/controls",
          "model_name": "HTMLModel",
          "state": {
            "_view_name": "HTMLView",
            "style": "IPY_MODEL_97f91ba98c844b4da8087e191017212f",
            "_dom_classes": [],
            "description": "",
            "_model_name": "HTMLModel",
            "placeholder": "​",
            "_view_module": "@jupyter-widgets/controls",
            "_model_module_version": "1.5.0",
            "value": " 170500096/? [00:20&lt;00:00, 81425421.14it/s]",
            "_view_count": null,
            "_view_module_version": "1.5.0",
            "description_tooltip": null,
            "_model_module": "@jupyter-widgets/controls",
            "layout": "IPY_MODEL_f5a08824e60341dd930e154447f7cdbd"
          }
        },
        "a3cb6dd2497e49ec96c2e1b71e00579d": {
          "model_module": "@jupyter-widgets/controls",
          "model_name": "ProgressStyleModel",
          "state": {
            "_view_name": "StyleView",
            "_model_name": "ProgressStyleModel",
            "description_width": "initial",
            "_view_module": "@jupyter-widgets/base",
            "_model_module_version": "1.5.0",
            "_view_count": null,
            "_view_module_version": "1.2.0",
            "bar_color": null,
            "_model_module": "@jupyter-widgets/controls"
          }
        },
        "8a8e1d0cad124da3a1a4f91f335fa559": {
          "model_module": "@jupyter-widgets/base",
          "model_name": "LayoutModel",
          "state": {
            "_view_name": "LayoutView",
            "grid_template_rows": null,
            "right": null,
            "justify_content": null,
            "_view_module": "@jupyter-widgets/base",
            "overflow": null,
            "_model_module_version": "1.2.0",
            "_view_count": null,
            "flex_flow": null,
            "width": null,
            "min_width": null,
            "border": null,
            "align_items": null,
            "bottom": null,
            "_model_module": "@jupyter-widgets/base",
            "top": null,
            "grid_column": null,
            "overflow_y": null,
            "overflow_x": null,
            "grid_auto_flow": null,
            "grid_area": null,
            "grid_template_columns": null,
            "flex": null,
            "_model_name": "LayoutModel",
            "justify_items": null,
            "grid_row": null,
            "max_height": null,
            "align_content": null,
            "visibility": null,
            "align_self": null,
            "height": null,
            "min_height": null,
            "padding": null,
            "grid_auto_rows": null,
            "grid_gap": null,
            "max_width": null,
            "order": null,
            "_view_module_version": "1.2.0",
            "grid_template_areas": null,
            "object_position": null,
            "object_fit": null,
            "grid_auto_columns": null,
            "margin": null,
            "display": null,
            "left": null
          }
        },
        "97f91ba98c844b4da8087e191017212f": {
          "model_module": "@jupyter-widgets/controls",
          "model_name": "DescriptionStyleModel",
          "state": {
            "_view_name": "StyleView",
            "_model_name": "DescriptionStyleModel",
            "description_width": "",
            "_view_module": "@jupyter-widgets/base",
            "_model_module_version": "1.5.0",
            "_view_count": null,
            "_view_module_version": "1.2.0",
            "_model_module": "@jupyter-widgets/controls"
          }
        },
        "f5a08824e60341dd930e154447f7cdbd": {
          "model_module": "@jupyter-widgets/base",
          "model_name": "LayoutModel",
          "state": {
            "_view_name": "LayoutView",
            "grid_template_rows": null,
            "right": null,
            "justify_content": null,
            "_view_module": "@jupyter-widgets/base",
            "overflow": null,
            "_model_module_version": "1.2.0",
            "_view_count": null,
            "flex_flow": null,
            "width": null,
            "min_width": null,
            "border": null,
            "align_items": null,
            "bottom": null,
            "_model_module": "@jupyter-widgets/base",
            "top": null,
            "grid_column": null,
            "overflow_y": null,
            "overflow_x": null,
            "grid_auto_flow": null,
            "grid_area": null,
            "grid_template_columns": null,
            "flex": null,
            "_model_name": "LayoutModel",
            "justify_items": null,
            "grid_row": null,
            "max_height": null,
            "align_content": null,
            "visibility": null,
            "align_self": null,
            "height": null,
            "min_height": null,
            "padding": null,
            "grid_auto_rows": null,
            "grid_gap": null,
            "max_width": null,
            "order": null,
            "_view_module_version": "1.2.0",
            "grid_template_areas": null,
            "object_position": null,
            "object_fit": null,
            "grid_auto_columns": null,
            "margin": null,
            "display": null,
            "left": null
          }
        }
      }
    }
  },
  "cells": [
    {
      "cell_type": "markdown",
      "metadata": {
        "id": "hZiBE_Bidys_",
        "colab_type": "text"
      },
      "source": [
        "https://www.youtube.com/watch?v=8PnxJ3s3Cwo"
      ]
    },
    {
      "cell_type": "code",
      "metadata": {
        "id": "6wrZ5ENpeFGN",
        "colab_type": "code",
        "colab": {}
      },
      "source": [
        "import torch\n",
        "import torchvision\n",
        "import torchvision.transforms as tr\n",
        "from torch.utils.data import DataLoader, Dataset\n",
        "import numpy as np"
      ],
      "execution_count": null,
      "outputs": []
    },
    {
      "cell_type": "markdown",
      "metadata": {
        "id": "rQywM9BoeYQm",
        "colab_type": "text"
      },
      "source": [
        "### 1. 파이토치 제공 데이터 사용"
      ]
    },
    {
      "cell_type": "code",
      "metadata": {
        "id": "woPuPagBe1rr",
        "colab_type": "code",
        "colab": {}
      },
      "source": [
        "transf = tr.Compose([tr.Resize(8), tr.ToTensor()])\n",
        "# Transforms on PIL Image\n",
        "# Pad, Grayscale, RandomCrop, Normalize ..\n",
        "# Transforms on torch.*Tensor - tensor image\n",
        "# torchvision.transforms.ToPILImage(mode=None)...\n",
        "# ..."
      ],
      "execution_count": null,
      "outputs": []
    },
    {
      "cell_type": "code",
      "metadata": {
        "id": "FdRDglQCegUb",
        "colab_type": "code",
        "colab": {
          "base_uri": "https://localhost:8080/",
          "height": 122,
          "referenced_widgets": [
            "6e61c92e985b4d26b513e1b7b8c2f249",
            "9e1d82a3e38a4e78a7e27b140b98540e",
            "73fb0b4426d64d0db115a2bbdd2bcdc1",
            "9c43e88c766d4d1baa0d0003186d0102",
            "a3cb6dd2497e49ec96c2e1b71e00579d",
            "8a8e1d0cad124da3a1a4f91f335fa559",
            "97f91ba98c844b4da8087e191017212f",
            "f5a08824e60341dd930e154447f7cdbd"
          ]
        },
        "outputId": "ce092255-f7e1-47df-8c40-2edc98519f32"
      },
      "source": [
        "trainset = torchvision.datasets.CIFAR10(root='./data', train=True, download=True, transform=transf)\n",
        "testset = torchvision.datasets.CIFAR10(root='./data', train=False, download=True, transform=transf)"
      ],
      "execution_count": null,
      "outputs": [
        {
          "output_type": "stream",
          "text": [
            "Downloading https://www.cs.toronto.edu/~kriz/cifar-10-python.tar.gz to ./data/cifar-10-python.tar.gz\n"
          ],
          "name": "stdout"
        },
        {
          "output_type": "display_data",
          "data": {
            "application/vnd.jupyter.widget-view+json": {
              "model_id": "6e61c92e985b4d26b513e1b7b8c2f249",
              "version_minor": 0,
              "version_major": 2
            },
            "text/plain": [
              "HBox(children=(FloatProgress(value=1.0, bar_style='info', max=1.0), HTML(value='')))"
            ]
          },
          "metadata": {
            "tags": []
          }
        },
        {
          "output_type": "stream",
          "text": [
            "Extracting ./data/cifar-10-python.tar.gz to ./data\n",
            "Files already downloaded and verified\n"
          ],
          "name": "stdout"
        }
      ]
    },
    {
      "cell_type": "code",
      "metadata": {
        "id": "Ja5wuVJqfZhu",
        "colab_type": "code",
        "colab": {
          "base_uri": "https://localhost:8080/",
          "height": 34
        },
        "outputId": "3064db09-a1b3-4b14-db6e-6af196342634"
      },
      "source": [
        "trainset[0][0].size()"
      ],
      "execution_count": null,
      "outputs": [
        {
          "output_type": "execute_result",
          "data": {
            "text/plain": [
              "torch.Size([3, 8, 8])"
            ]
          },
          "metadata": {
            "tags": []
          },
          "execution_count": 4
        }
      ]
    },
    {
      "cell_type": "code",
      "metadata": {
        "id": "mJ3JdAJKffcH",
        "colab_type": "code",
        "colab": {}
      },
      "source": [
        "trainloader = DataLoader(trainset, batch_size=50, shuffle=True, num_workers=2)\n",
        "testloader = DataLoader(testset, batch_size=50, shuffle=True, num_workers=2)"
      ],
      "execution_count": null,
      "outputs": []
    },
    {
      "cell_type": "code",
      "metadata": {
        "id": "LUOveySBf-OF",
        "colab_type": "code",
        "colab": {
          "base_uri": "https://localhost:8080/",
          "height": 34
        },
        "outputId": "be6066f3-504d-4d83-dd20-8974bd7b1a94"
      },
      "source": [
        "len(trainloader)"
      ],
      "execution_count": null,
      "outputs": [
        {
          "output_type": "execute_result",
          "data": {
            "text/plain": [
              "1000"
            ]
          },
          "metadata": {
            "tags": []
          },
          "execution_count": 7
        }
      ]
    },
    {
      "cell_type": "code",
      "metadata": {
        "id": "GUdoUujHgFqw",
        "colab_type": "code",
        "colab": {}
      },
      "source": [
        "# iter: 하나씩 값을 불러옴\n",
        "\n",
        "dataiter = iter(trainloader)\n",
        "images, labels = dataiter.next()"
      ],
      "execution_count": null,
      "outputs": []
    },
    {
      "cell_type": "code",
      "metadata": {
        "id": "ZqoOCiyAgP3V",
        "colab_type": "code",
        "colab": {
          "base_uri": "https://localhost:8080/",
          "height": 34
        },
        "outputId": "4da3eff6-1036-4a52-9604-31faf7bab77b"
      },
      "source": [
        "# batch size: 50\n",
        "# channel: 3\n",
        "# height: 8\n",
        "# width: 8\n",
        "\n",
        "images.size()"
      ],
      "execution_count": null,
      "outputs": [
        {
          "output_type": "execute_result",
          "data": {
            "text/plain": [
              "torch.Size([50, 3, 8, 8])"
            ]
          },
          "metadata": {
            "tags": []
          },
          "execution_count": 9
        }
      ]
    },
    {
      "cell_type": "markdown",
      "metadata": {
        "id": "NGymT5X2ecaJ",
        "colab_type": "text"
      },
      "source": [
        "### 2. 같은 클래스 별 폴더 이미지 데이터 이용"
      ]
    },
    {
      "cell_type": "markdown",
      "metadata": {
        "id": "QhWvciOmj5_E",
        "colab_type": "text"
      },
      "source": [
        "폴더 정리를 못하는 경우에는 사용 불가\n",
        "\n",
        "1. 다른 작업과 공용으로 사용\n",
        "2. 폴더가 아닌 SQL 같은 곳에서 넘어오는 경우"
      ]
    },
    {
      "cell_type": "code",
      "metadata": {
        "id": "DMRWX0J0gc1E",
        "colab_type": "code",
        "colab": {}
      },
      "source": [
        "# ./class/tiger     ./class/lion\n",
        "transf = tr.Compose([tr.Resize(16), tr.ToTensor()])\n",
        "trainset = torchvision.datasets.ImageFolder(root='./class', transform=transf)\n",
        "trainloader = DataLoader(trainset, batch_size=10, shuffle=False, num_workers=2)\n",
        "print(len(trainloader))"
      ],
      "execution_count": null,
      "outputs": []
    },
    {
      "cell_type": "code",
      "metadata": {
        "id": "Ni2UPdgTgc8i",
        "colab_type": "code",
        "colab": {}
      },
      "source": [
        "trainset[0][0].size()"
      ],
      "execution_count": null,
      "outputs": []
    },
    {
      "cell_type": "markdown",
      "metadata": {
        "id": "HwfmB8AKeetI",
        "colab_type": "text"
      },
      "source": [
        "### 3. 개인 데이터 사용(2 types)"
      ]
    },
    {
      "cell_type": "code",
      "metadata": {
        "id": "4O-E3SmeefRb",
        "colab_type": "code",
        "colab": {
          "base_uri": "https://localhost:8080/",
          "height": 34
        },
        "outputId": "aa014403-f476-434b-b25e-3c56d277ddbf"
      },
      "source": [
        "# import preprocessing\n",
        "\n",
        "train_images = np.random.randint(256, size=(20, 32, 32, 3))\n",
        "train_labels = np.random.randint(2, size=(20,1))\n",
        "\n",
        "# preprocessing......\n",
        "# train_images, train_labels = preprocessing(train_images, train_labels)\n",
        "\n",
        "print(train_images.shape, train_labels.shape)"
      ],
      "execution_count": null,
      "outputs": [
        {
          "output_type": "stream",
          "text": [
            "(20, 32, 32, 3) (20, 1)\n"
          ],
          "name": "stdout"
        }
      ]
    },
    {
      "cell_type": "code",
      "metadata": {
        "id": "aTs-4PLvh1iO",
        "colab_type": "code",
        "colab": {}
      },
      "source": [
        "class TensorData(Dataset):\n",
        "\n",
        "    def __init__(self, x_data, y_data):\n",
        "        self.x_data = torch.FloatTensor(x_data)\n",
        "        self.x_data = self.x_data.permute(0,3,1,2)  ###### 이미지 개수, 채널 수, 이미지 너비, 높이\n",
        "        self.y_data = torch.LongTensor(y_data)\n",
        "        self.len = self.y_data.shape[0]\n",
        "\n",
        "    def __getitem__(self, index):\n",
        "\n",
        "        return self.x_data[index], self.y_data[index]\n",
        "\n",
        "    def __len__(self):\n",
        "        return self.len"
      ],
      "execution_count": null,
      "outputs": []
    },
    {
      "cell_type": "code",
      "metadata": {
        "id": "iaKdrSdliz5y",
        "colab_type": "code",
        "colab": {}
      },
      "source": [
        "train_data = TensorData(train_images, train_labels)\n",
        "train_loader = DataLoader(train_data, batch_size=10, shuffle=True)"
      ],
      "execution_count": null,
      "outputs": []
    },
    {
      "cell_type": "code",
      "metadata": {
        "id": "C2rU9NRCjlb9",
        "colab_type": "code",
        "colab": {
          "base_uri": "https://localhost:8080/",
          "height": 34
        },
        "outputId": "1c29c7f5-989a-492d-af88-6a2874284df7"
      },
      "source": [
        "train_data[0][0].size()"
      ],
      "execution_count": null,
      "outputs": [
        {
          "output_type": "execute_result",
          "data": {
            "text/plain": [
              "torch.Size([3, 32, 32])"
            ]
          },
          "metadata": {
            "tags": []
          },
          "execution_count": 16
        }
      ]
    },
    {
      "cell_type": "code",
      "metadata": {
        "id": "OYb2R4HWjnjq",
        "colab_type": "code",
        "colab": {}
      },
      "source": [
        "dataiter = iter(train_loader)\n",
        "images, labels = dataiter.next()"
      ],
      "execution_count": null,
      "outputs": []
    },
    {
      "cell_type": "code",
      "metadata": {
        "id": "T8rqLnWXjtJ4",
        "colab_type": "code",
        "colab": {
          "base_uri": "https://localhost:8080/",
          "height": 34
        },
        "outputId": "115a0538-f0d9-4384-e17d-fc16d5b6223c"
      },
      "source": [
        "images.size()"
      ],
      "execution_count": null,
      "outputs": [
        {
          "output_type": "execute_result",
          "data": {
            "text/plain": [
              "torch.Size([10, 3, 32, 32])"
            ]
          },
          "metadata": {
            "tags": []
          },
          "execution_count": 18
        }
      ]
    },
    {
      "cell_type": "markdown",
      "metadata": {
        "id": "22eR-iQWjuND",
        "colab_type": "text"
      },
      "source": [
        "```python\n",
        "from torch.utils.data import Dataset\n",
        "\n",
        "class MyDataset(Dataset):\n",
        "\n",
        "    def __init__(self):\n",
        "        ...\n",
        "    def __getitem__(self, index):\n",
        "        ...\n",
        "    def __len__(self):\n",
        "        ...\n",
        "```"
      ]
    },
    {
      "cell_type": "code",
      "metadata": {
        "id": "xsArIOWIkylQ",
        "colab_type": "code",
        "colab": {}
      },
      "source": [
        "class MyDataset(Dataset):\n",
        "\n",
        "    def __init__(self, x_data, y_data, transform=None):\n",
        "\n",
        "        self.x_data = x_data\n",
        "        self.y_data = y_data\n",
        "        self.transform = transform\n",
        "        self.len = len(y_data)\n",
        "\n",
        "    def __getitem__(self, index):\n",
        "        sample = self.x_data[index], self.y_data[index]\n",
        "\n",
        "        if self.transform:\n",
        "            sample = self.transform(sample)\n",
        "\n",
        "        return sample\n",
        "\n",
        "    def __len__(self):\n",
        "        return self.len\n",
        "\n",
        "class ToTensor:\n",
        "    def __call__(self, sample):\n",
        "        inputs, labels = sample\n",
        "        inputs = torch.FloatTensor(inputs)\n",
        "        inputs = inputs.permute(2,0,1)\n",
        "        return inputs, torch.LongTensor(labels)\n",
        "\n",
        "class LinearTensor:\n",
        "\n",
        "    def __init__(self, slope=1, bias=0):\n",
        "        self.slope=slope\n",
        "        self.bias=bias\n",
        "\n",
        "    def __call__(self, sample):\n",
        "        inputs, labels = sample\n",
        "        inputs = self.slope*inputs + self.bias\n",
        "\n",
        "        return inputs, labels"
      ],
      "execution_count": null,
      "outputs": []
    },
    {
      "cell_type": "code",
      "metadata": {
        "id": "zwg0GBBBl8nB",
        "colab_type": "code",
        "colab": {}
      },
      "source": [
        "trans = tr.Compose([ToTensor(), LinearTensor(2,5)])\n",
        "ds1 = MyDataset(train_images, train_labels, transform=trans)\n",
        "train_loader1 = DataLoader(ds1, batch_size=10, shuffle=True)"
      ],
      "execution_count": null,
      "outputs": []
    },
    {
      "cell_type": "code",
      "metadata": {
        "id": "IJ58yNYHms63",
        "colab_type": "code",
        "colab": {
          "base_uri": "https://localhost:8080/",
          "height": 34
        },
        "outputId": "e253c4da-811f-444b-8913-8a8076477f63"
      },
      "source": [
        "first_data = ds1[0]\n",
        "features, labels = first_data\n",
        "print(type(features), type(labels))"
      ],
      "execution_count": null,
      "outputs": [
        {
          "output_type": "stream",
          "text": [
            "<class 'torch.Tensor'> <class 'torch.Tensor'>\n"
          ],
          "name": "stdout"
        }
      ]
    },
    {
      "cell_type": "code",
      "metadata": {
        "id": "B18sKizgm3SU",
        "colab_type": "code",
        "colab": {}
      },
      "source": [
        "dataiter1 = iter(train_loader1)\n",
        "images1, labels1 = dataiter1.next()"
      ],
      "execution_count": null,
      "outputs": []
    },
    {
      "cell_type": "code",
      "metadata": {
        "id": "ZpqGVJ0Im9aV",
        "colab_type": "code",
        "colab": {
          "base_uri": "https://localhost:8080/",
          "height": 1000
        },
        "outputId": "3a976e62-ab53-489c-cfe6-8240583edab9"
      },
      "source": [
        "images1"
      ],
      "execution_count": null,
      "outputs": [
        {
          "output_type": "execute_result",
          "data": {
            "text/plain": [
              "tensor([[[[251., 101., 351.,  ..., 465.,  13., 287.],\n",
              "          [341., 271., 341.,  ..., 361., 327., 345.],\n",
              "          [ 51., 421.,   9.,  ..., 291., 405.,  71.],\n",
              "          ...,\n",
              "          [285., 405., 337.,  ..., 217., 143.,  49.],\n",
              "          [ 41., 437., 405.,  ..., 183., 129., 341.],\n",
              "          [405.,  19., 143.,  ..., 419., 297., 349.]],\n",
              "\n",
              "         [[199., 187., 377.,  ..., 443., 267., 389.],\n",
              "          [275., 401., 445.,  ..., 409., 515., 111.],\n",
              "          [227., 187., 123.,  ..., 187., 323.,  71.],\n",
              "          ...,\n",
              "          [ 15., 103., 325.,  ..., 237., 335., 303.],\n",
              "          [141., 231.,   9.,  ..., 149.,   5., 349.],\n",
              "          [ 95., 227., 159.,  ...,  45.,  39., 201.]],\n",
              "\n",
              "         [[343.,  51., 251.,  ..., 141., 303., 125.],\n",
              "          [447.,  45., 221.,  ...,  19., 431.,  51.],\n",
              "          [323., 139., 255.,  ..., 223., 347., 475.],\n",
              "          ...,\n",
              "          [ 77., 373., 217.,  ..., 137., 269., 301.],\n",
              "          [ 73., 465., 103.,  ...,  85.,  61., 229.],\n",
              "          [457.,  69., 409.,  ..., 127., 441., 205.]]],\n",
              "\n",
              "\n",
              "        [[[327., 197., 277.,  ..., 175.,  39., 289.],\n",
              "          [219., 215., 283.,  ..., 473., 435., 173.],\n",
              "          [101., 259., 141.,  ..., 167., 259., 315.],\n",
              "          ...,\n",
              "          [377., 491., 427.,  ..., 411.,  69., 407.],\n",
              "          [491., 187., 297.,  ..., 183., 325., 183.],\n",
              "          [ 51., 243.,  79.,  ..., 263., 437., 139.]],\n",
              "\n",
              "         [[143., 237., 103.,  ..., 419., 489., 263.],\n",
              "          [181., 229.,  97.,  ..., 217., 271., 345.],\n",
              "          [371., 233., 447.,  ..., 499., 365., 133.],\n",
              "          ...,\n",
              "          [271., 327., 103.,  ..., 277., 365., 239.],\n",
              "          [473., 151., 309.,  ..., 461.,  83., 355.],\n",
              "          [499., 297., 353.,  ..., 305., 159.,  37.]],\n",
              "\n",
              "         [[215.,  59., 461.,  ..., 305., 317., 223.],\n",
              "          [415., 169., 437.,  ..., 511., 195., 315.],\n",
              "          [435., 125., 257.,  ..., 185., 147., 333.],\n",
              "          ...,\n",
              "          [269.,  19., 409.,  ..., 263.,  59., 191.],\n",
              "          [175.,  53., 209.,  ..., 447., 153., 281.],\n",
              "          [155., 475., 123.,  ..., 165.,  69., 443.]]],\n",
              "\n",
              "\n",
              "        [[[ 29., 261., 179.,  ..., 379., 453., 413.],\n",
              "          [419., 507., 199.,  ..., 277., 395., 151.],\n",
              "          [455.,  43.,  99.,  ..., 359., 273., 229.],\n",
              "          ...,\n",
              "          [  7., 341., 263.,  ..., 237., 223., 461.],\n",
              "          [243., 455., 415.,  ...,  47., 387.,  55.],\n",
              "          [457., 299.,  25.,  ..., 447., 129.,  23.]],\n",
              "\n",
              "         [[291., 483., 147.,  ..., 221., 475., 471.],\n",
              "          [ 59., 355., 433.,  ..., 477., 347., 285.],\n",
              "          [121., 163., 425.,  ..., 487., 145.,  75.],\n",
              "          ...,\n",
              "          [277., 169., 175.,  ..., 431., 433., 405.],\n",
              "          [459., 397., 185.,  ...,  55., 205., 389.],\n",
              "          [331.,  57., 221.,  ..., 153., 341., 117.]],\n",
              "\n",
              "         [[373.,  83., 387.,  ..., 197., 327., 309.],\n",
              "          [131., 153., 243.,  ..., 117.,  61., 409.],\n",
              "          [203., 349., 317.,  ...,  55., 341., 387.],\n",
              "          ...,\n",
              "          [201., 155.,  43.,  ..., 439., 133., 217.],\n",
              "          [ 21.,  69., 171.,  ...,  13., 417.,  47.],\n",
              "          [ 83., 349., 421.,  ...,  33., 233., 139.]]],\n",
              "\n",
              "\n",
              "        ...,\n",
              "\n",
              "\n",
              "        [[[513., 113.,  85.,  ..., 153., 165., 339.],\n",
              "          [145.,  65., 419.,  ..., 201., 143., 129.],\n",
              "          [425., 335., 469.,  ..., 289., 311., 165.],\n",
              "          ...,\n",
              "          [319., 131., 513.,  ..., 159., 473.,  75.],\n",
              "          [163., 221., 231.,  ..., 153., 255., 163.],\n",
              "          [307., 413., 397.,  ..., 173.,  27., 163.]],\n",
              "\n",
              "         [[335., 407., 297.,  ..., 511., 385.,  83.],\n",
              "          [183., 213., 395.,  ..., 249., 145., 103.],\n",
              "          [115., 171., 445.,  ..., 209., 297., 127.],\n",
              "          ...,\n",
              "          [447., 157., 321.,  ..., 247., 369., 201.],\n",
              "          [ 27.,  75., 169.,  ...,  87., 115., 491.],\n",
              "          [283., 279., 357.,  ..., 231., 415., 241.]],\n",
              "\n",
              "         [[361., 497., 263.,  ..., 477.,  45., 167.],\n",
              "          [453., 137., 219.,  ..., 381.,  73.,  47.],\n",
              "          [345., 203., 469.,  ..., 299.,  31., 439.],\n",
              "          ...,\n",
              "          [441.,  63., 327.,  ..., 425., 217., 401.],\n",
              "          [173., 231., 513.,  ...,  47., 439.,  19.],\n",
              "          [329., 139.,  73.,  ..., 185.,  13., 421.]]],\n",
              "\n",
              "\n",
              "        [[[119.,  63., 141.,  ...,  83., 335., 363.],\n",
              "          [263., 183., 209.,  ..., 211.,  61., 273.],\n",
              "          [297., 295., 467.,  ..., 311.,  23., 253.],\n",
              "          ...,\n",
              "          [221., 481., 319.,  ..., 483., 165., 381.],\n",
              "          [291., 475., 447.,  ...,  49., 149., 513.],\n",
              "          [105., 359., 417.,  ...,  61.,  15., 367.]],\n",
              "\n",
              "         [[261., 331., 381.,  ..., 403., 187., 397.],\n",
              "          [235., 409.,  11.,  ..., 191., 401.,  21.],\n",
              "          [445.,  27.,  41.,  ..., 273., 395., 209.],\n",
              "          ...,\n",
              "          [179., 211., 437.,  ..., 391., 103., 209.],\n",
              "          [309., 459., 217.,  ...,  15.,  49., 155.],\n",
              "          [313.,  69., 465.,  ..., 275.,  29., 333.]],\n",
              "\n",
              "         [[403., 399., 327.,  ..., 303., 301., 433.],\n",
              "          [407.,  25.,  27.,  ...,  19., 467., 287.],\n",
              "          [121., 335., 355.,  ..., 439., 363., 125.],\n",
              "          ...,\n",
              "          [117., 201., 409.,  ...,  59., 427., 429.],\n",
              "          [477., 503., 415.,  ...,  95., 477., 451.],\n",
              "          [ 57., 471., 279.,  ..., 235., 183., 481.]]],\n",
              "\n",
              "\n",
              "        [[[237., 117.,  25.,  ..., 469., 441., 217.],\n",
              "          [245., 363., 445.,  ..., 185.,  61., 225.],\n",
              "          [107., 461.,  75.,  ..., 403., 243.,  63.],\n",
              "          ...,\n",
              "          [117., 279., 483.,  ..., 227.,  71., 233.],\n",
              "          [329., 271., 241.,  ..., 389., 501., 387.],\n",
              "          [121.,  85., 265.,  ..., 461., 323., 379.]],\n",
              "\n",
              "         [[453., 309., 235.,  ..., 317., 277., 431.],\n",
              "          [273., 383., 325.,  ..., 169., 423., 135.],\n",
              "          [391.,  75., 209.,  ..., 365., 489., 387.],\n",
              "          ...,\n",
              "          [119., 407., 277.,  ..., 171., 501.,  79.],\n",
              "          [223., 401., 485.,  ..., 217., 161., 515.],\n",
              "          [205., 433., 285.,  ..., 109.,  55., 353.]],\n",
              "\n",
              "         [[503., 209.,  51.,  ...,  95., 257., 141.],\n",
              "          [ 45., 405., 315.,  ...,  87., 269., 245.],\n",
              "          [405., 445., 335.,  ...,  69., 191., 445.],\n",
              "          ...,\n",
              "          [313., 201., 351.,  ..., 415.,  51., 395.],\n",
              "          [147., 321.,  93.,  ..., 331., 231., 443.],\n",
              "          [217.,  37., 375.,  ..., 395.,  79., 289.]]]])"
            ]
          },
          "metadata": {
            "tags": []
          },
          "execution_count": 25
        }
      ]
    },
    {
      "cell_type": "code",
      "metadata": {
        "id": "CrKsOm8nnAOR",
        "colab_type": "code",
        "colab": {}
      },
      "source": [
        "class MyDataset(Dataset):\n",
        "\n",
        "    def __init__(self, x_data, y_data, transform=None):\n",
        "\n",
        "        self.x_data = x_data\n",
        "        self.y_data = y_data\n",
        "        self.transform = transform\n",
        "        self.len = len(y_data)\n",
        "\n",
        "    def __getitem__(self, index):\n",
        "        sample = self.x_data[index], self.y_data[index]\n",
        "\n",
        "        if self.transform:\n",
        "            sample = self.transform(sample)\n",
        "\n",
        "        return sample\n",
        "\n",
        "    def __len__(self):\n",
        "        return self.len\n",
        "\n",
        "class MyTransform:\n",
        "\n",
        "    def __call__(self, sample):\n",
        "        inputs, labels = sample\n",
        "        inputs = torch.FloatTensor(inputs)\n",
        "        inputs = inputs.permute(2,0,1)\n",
        "        labels = torch.FloatTensor(labels)\n",
        "\n",
        "        transf = tr.Compose([tr.ToPILImage(), tr.Resize(128), tr.ToTensor(),\n",
        "                             tr.Normalize((0.5,0.5,0.5),(0.5,0.5,0.5))])\n",
        "        final_output = transf(inputs)\n",
        "\n",
        "        return final_output, labels"
      ],
      "execution_count": null,
      "outputs": []
    },
    {
      "cell_type": "code",
      "metadata": {
        "id": "vvobMF71oLgF",
        "colab_type": "code",
        "colab": {}
      },
      "source": [
        "ds2 = MyDataset(train_images, train_labels, transform=MyTransform())\n",
        "train_loader2 = DataLoader(ds2, batch_size=10, shuffle=True)"
      ],
      "execution_count": null,
      "outputs": []
    },
    {
      "cell_type": "code",
      "metadata": {
        "id": "sj40wFTLoVUP",
        "colab_type": "code",
        "colab": {
          "base_uri": "https://localhost:8080/",
          "height": 34
        },
        "outputId": "233e1959-fbe3-4664-d495-b62e4c4e60af"
      },
      "source": [
        "first_data = ds2[0]\n",
        "features, labels = first_data\n",
        "print(type(features), type(labels))"
      ],
      "execution_count": null,
      "outputs": [
        {
          "output_type": "stream",
          "text": [
            "<class 'torch.Tensor'> <class 'torch.Tensor'>\n"
          ],
          "name": "stdout"
        }
      ]
    },
    {
      "cell_type": "code",
      "metadata": {
        "id": "pULYItGEoc4D",
        "colab_type": "code",
        "colab": {}
      },
      "source": [
        "dataiter2 = iter(train_loader2)\n",
        "images2, labels2 = dataiter2.next()"
      ],
      "execution_count": null,
      "outputs": []
    },
    {
      "cell_type": "code",
      "metadata": {
        "id": "yM0ssTibos3U",
        "colab_type": "code",
        "colab": {
          "base_uri": "https://localhost:8080/",
          "height": 34
        },
        "outputId": "e3d758d2-fec8-41a8-ad1c-9baaba8e3b68"
      },
      "source": [
        "images2.size()"
      ],
      "execution_count": null,
      "outputs": [
        {
          "output_type": "execute_result",
          "data": {
            "text/plain": [
              "torch.Size([10, 3, 128, 128])"
            ]
          },
          "metadata": {
            "tags": []
          },
          "execution_count": 33
        }
      ]
    },
    {
      "cell_type": "code",
      "metadata": {
        "id": "LUI7biu4ouCd",
        "colab_type": "code",
        "colab": {
          "base_uri": "https://localhost:8080/",
          "height": 1000
        },
        "outputId": "2ca4dab2-66ac-4e7e-d415-f4d6c3b2266d"
      },
      "source": [
        "images2"
      ],
      "execution_count": null,
      "outputs": [
        {
          "output_type": "execute_result",
          "data": {
            "text/plain": [
              "tensor([[[[ 0.2078,  0.2078,  0.1137,  ...,  0.2706,  0.3961,  0.3961],\n",
              "          [ 0.2078,  0.2078,  0.1137,  ...,  0.2706,  0.3961,  0.3961],\n",
              "          [ 0.0588,  0.0588, -0.0039,  ...,  0.2392,  0.3490,  0.3490],\n",
              "          ...,\n",
              "          [ 0.1765,  0.1765,  0.1294,  ...,  0.1294,  0.1294,  0.1294],\n",
              "          [ 0.1216,  0.1216,  0.0902,  ...,  0.2157,  0.2471,  0.2471],\n",
              "          [ 0.1216,  0.1216,  0.0902,  ...,  0.2157,  0.2471,  0.2471]],\n",
              "\n",
              "         [[ 0.0431,  0.0431, -0.0353,  ...,  0.0431,  0.0431,  0.0431],\n",
              "          [ 0.0431,  0.0431, -0.0353,  ...,  0.0431,  0.0431,  0.0431],\n",
              "          [-0.0275, -0.0275, -0.0824,  ...,  0.0980,  0.1137,  0.1137],\n",
              "          ...,\n",
              "          [ 0.8196,  0.8196,  0.6706,  ..., -0.5216, -0.5529, -0.5529],\n",
              "          [ 0.8980,  0.8980,  0.7333,  ..., -0.6549, -0.6784, -0.6784],\n",
              "          [ 0.8980,  0.8980,  0.7333,  ..., -0.6549, -0.6784, -0.6784]],\n",
              "\n",
              "         [[-0.6706, -0.6706, -0.5137,  ...,  0.7882,  0.7961,  0.7961],\n",
              "          [-0.6706, -0.6706, -0.5137,  ...,  0.7882,  0.7961,  0.7961],\n",
              "          [-0.4902, -0.4902, -0.3804,  ...,  0.7882,  0.7961,  0.7961],\n",
              "          ...,\n",
              "          [-0.3725, -0.3725, -0.3882,  ..., -0.7176, -0.8196, -0.8196],\n",
              "          [-0.5373, -0.5373, -0.5373,  ..., -0.7098, -0.8118, -0.8118],\n",
              "          [-0.5373, -0.5373, -0.5373,  ..., -0.7098, -0.8118, -0.8118]]],\n",
              "\n",
              "\n",
              "        [[[ 0.1373,  0.1373,  0.0824,  ..., -0.8824, -0.9137, -0.9137],\n",
              "          [ 0.1373,  0.1373,  0.0824,  ..., -0.8824, -0.9137, -0.9137],\n",
              "          [ 0.0980,  0.0980,  0.0588,  ..., -0.6706, -0.6784, -0.6784],\n",
              "          ...,\n",
              "          [ 0.5765,  0.5765,  0.4745,  ...,  0.4353,  0.5765,  0.5765],\n",
              "          [ 0.6000,  0.6000,  0.4902,  ...,  0.4824,  0.6471,  0.6471],\n",
              "          [ 0.6000,  0.6000,  0.4902,  ...,  0.4824,  0.6471,  0.6471]],\n",
              "\n",
              "         [[ 0.3569,  0.3569,  0.3020,  ...,  0.6078,  0.5608,  0.5608],\n",
              "          [ 0.3569,  0.3569,  0.3020,  ...,  0.6078,  0.5608,  0.5608],\n",
              "          [ 0.2627,  0.2627,  0.2314,  ...,  0.4431,  0.3961,  0.3961],\n",
              "          ...,\n",
              "          [ 0.8588,  0.8588,  0.7725,  ..., -0.2157, -0.1294, -0.1294],\n",
              "          [ 0.9059,  0.9059,  0.8275,  ..., -0.2392, -0.1608, -0.1608],\n",
              "          [ 0.9059,  0.9059,  0.8275,  ..., -0.2392, -0.1608, -0.1608]],\n",
              "\n",
              "         [[ 0.0353,  0.0353,  0.1294,  ..., -0.0196, -0.1373, -0.1373],\n",
              "          [ 0.0353,  0.0353,  0.1294,  ..., -0.0196, -0.1373, -0.1373],\n",
              "          [ 0.0824,  0.0824,  0.1451,  ...,  0.0431, -0.0667, -0.0667],\n",
              "          ...,\n",
              "          [ 0.6471,  0.6471,  0.6627,  ...,  0.6706,  0.8745,  0.8745],\n",
              "          [ 0.6157,  0.6157,  0.6392,  ...,  0.7020,  0.9059,  0.9059],\n",
              "          [ 0.6157,  0.6157,  0.6392,  ...,  0.7020,  0.9059,  0.9059]]],\n",
              "\n",
              "\n",
              "        [[[-0.7333, -0.7333, -0.7490,  ..., -0.5451, -0.5922, -0.5922],\n",
              "          [-0.7333, -0.7333, -0.7490,  ..., -0.5451, -0.5922, -0.5922],\n",
              "          [-0.5216, -0.5216, -0.5608,  ..., -0.5608, -0.6235, -0.6235],\n",
              "          ...,\n",
              "          [-0.3176, -0.3176, -0.3333,  ...,  0.4824,  0.5294,  0.5294],\n",
              "          [-0.2549, -0.2549, -0.2784,  ...,  0.5529,  0.6078,  0.6078],\n",
              "          [-0.2549, -0.2549, -0.2784,  ...,  0.5529,  0.6078,  0.6078]],\n",
              "\n",
              "         [[-0.3961, -0.3961, -0.2706,  ..., -0.3569, -0.3412, -0.3412],\n",
              "          [-0.3961, -0.3961, -0.2706,  ..., -0.3569, -0.3412, -0.3412],\n",
              "          [-0.3176, -0.3176, -0.2000,  ..., -0.4275, -0.4196, -0.4196],\n",
              "          ...,\n",
              "          [ 0.8588,  0.8588,  0.6784,  ..., -0.7176, -0.7882, -0.7882],\n",
              "          [ 0.9059,  0.9059,  0.7098,  ..., -0.7098, -0.7725, -0.7725],\n",
              "          [ 0.9059,  0.9059,  0.7098,  ..., -0.7098, -0.7725, -0.7725]],\n",
              "\n",
              "         [[-0.2627, -0.2627, -0.1373,  ..., -0.0510, -0.0980, -0.0980],\n",
              "          [-0.2627, -0.2627, -0.1373,  ..., -0.0510, -0.0980, -0.0980],\n",
              "          [-0.3490, -0.3490, -0.2078,  ..., -0.0588, -0.1059, -0.1059],\n",
              "          ...,\n",
              "          [ 0.1137,  0.1137,  0.0745,  ...,  0.3255,  0.4510,  0.4510],\n",
              "          [ 0.1686,  0.1686,  0.1294,  ...,  0.3412,  0.4745,  0.4745],\n",
              "          [ 0.1686,  0.1686,  0.1294,  ...,  0.3412,  0.4745,  0.4745]]],\n",
              "\n",
              "\n",
              "        ...,\n",
              "\n",
              "\n",
              "        [[[-0.0745, -0.0745, -0.1137,  ...,  0.7569,  0.7569,  0.7569],\n",
              "          [-0.0745, -0.0745, -0.1137,  ...,  0.7569,  0.7569,  0.7569],\n",
              "          [-0.0667, -0.0667, -0.0902,  ...,  0.5922,  0.5843,  0.5843],\n",
              "          ...,\n",
              "          [ 0.2941,  0.2941,  0.2000,  ...,  0.2392,  0.1765,  0.1765],\n",
              "          [ 0.3255,  0.3255,  0.2235,  ...,  0.2549,  0.1765,  0.1765],\n",
              "          [ 0.3255,  0.3255,  0.2235,  ...,  0.2549,  0.1765,  0.1765]],\n",
              "\n",
              "         [[-0.2078, -0.2078, -0.1451,  ..., -0.0196, -0.1451, -0.1451],\n",
              "          [-0.2078, -0.2078, -0.1451,  ..., -0.0196, -0.1451, -0.1451],\n",
              "          [-0.2235, -0.2235, -0.1686,  ...,  0.0667, -0.0275, -0.0275],\n",
              "          ...,\n",
              "          [ 0.0745,  0.0745, -0.0275,  ..., -0.2392, -0.3255, -0.3255],\n",
              "          [ 0.1451,  0.1451,  0.0275,  ..., -0.2706, -0.3569, -0.3569],\n",
              "          [ 0.1451,  0.1451,  0.0275,  ..., -0.2706, -0.3569, -0.3569]],\n",
              "\n",
              "         [[ 0.0902,  0.0902,  0.1608,  ..., -0.4588, -0.5686, -0.5686],\n",
              "          [ 0.0902,  0.0902,  0.1608,  ..., -0.4588, -0.5686, -0.5686],\n",
              "          [ 0.0118,  0.0118,  0.0745,  ..., -0.4196, -0.5216, -0.5216],\n",
              "          ...,\n",
              "          [-0.4510, -0.4510, -0.3804,  ...,  0.4745,  0.4667,  0.4667],\n",
              "          [-0.6549, -0.6549, -0.5529,  ...,  0.6157,  0.6000,  0.6000],\n",
              "          [-0.6549, -0.6549, -0.5529,  ...,  0.6157,  0.6000,  0.6000]]],\n",
              "\n",
              "\n",
              "        [[[-0.6157, -0.6157, -0.5529,  ..., -0.6627, -0.7333, -0.7333],\n",
              "          [-0.6157, -0.6157, -0.5529,  ..., -0.6627, -0.7333, -0.7333],\n",
              "          [-0.4275, -0.4275, -0.3882,  ..., -0.6549, -0.7176, -0.7176],\n",
              "          ...,\n",
              "          [-0.0902, -0.0902, -0.1294,  ...,  0.0745,  0.1529,  0.1529],\n",
              "          [-0.0431, -0.0431, -0.1137,  ...,  0.1686,  0.2706,  0.2706],\n",
              "          [-0.0431, -0.0431, -0.1137,  ...,  0.1686,  0.2706,  0.2706]],\n",
              "\n",
              "         [[ 0.3412,  0.3412,  0.2471,  ...,  0.9294,  0.9451,  0.9451],\n",
              "          [ 0.3412,  0.3412,  0.2471,  ...,  0.9294,  0.9451,  0.9451],\n",
              "          [ 0.1765,  0.1765,  0.0980,  ...,  0.9216,  0.9373,  0.9373],\n",
              "          ...,\n",
              "          [-0.6078, -0.6078, -0.6235,  ...,  0.7804,  0.9137,  0.9137],\n",
              "          [-0.5608, -0.5608, -0.6078,  ...,  0.7647,  0.9137,  0.9137],\n",
              "          [-0.5608, -0.5608, -0.6078,  ...,  0.7647,  0.9137,  0.9137]],\n",
              "\n",
              "         [[-0.5608, -0.5608, -0.4745,  ..., -0.0196, -0.1216, -0.1216],\n",
              "          [-0.5608, -0.5608, -0.4745,  ..., -0.0196, -0.1216, -0.1216],\n",
              "          [-0.4431, -0.4431, -0.3804,  ..., -0.0745, -0.1686, -0.1686],\n",
              "          ...,\n",
              "          [ 0.6784,  0.6784,  0.6863,  ...,  0.5529,  0.6627,  0.6627],\n",
              "          [ 0.8431,  0.8431,  0.8588,  ...,  0.7412,  0.8980,  0.8980],\n",
              "          [ 0.8431,  0.8431,  0.8588,  ...,  0.7412,  0.8980,  0.8980]]],\n",
              "\n",
              "\n",
              "        [[[-0.3647, -0.3647, -0.4118,  ..., -0.8980, -0.9529, -0.9529],\n",
              "          [-0.3647, -0.3647, -0.4118,  ..., -0.8980, -0.9529, -0.9529],\n",
              "          [-0.3647, -0.3647, -0.4118,  ..., -0.7804, -0.8431, -0.8431],\n",
              "          ...,\n",
              "          [-0.0275, -0.0275, -0.0980,  ...,  0.4431,  0.5686,  0.5686],\n",
              "          [-0.0039, -0.0039, -0.0667,  ...,  0.5216,  0.6941,  0.6941],\n",
              "          [-0.0039, -0.0039, -0.0667,  ...,  0.5216,  0.6941,  0.6941]],\n",
              "\n",
              "         [[-0.8588, -0.8588, -0.6235,  ..., -0.0667, -0.2078, -0.2078],\n",
              "          [-0.8588, -0.8588, -0.6235,  ..., -0.0667, -0.2078, -0.2078],\n",
              "          [-0.8745, -0.8745, -0.6471,  ..., -0.0039, -0.0980, -0.0980],\n",
              "          ...,\n",
              "          [-0.4118, -0.4118, -0.4196,  ..., -0.6235, -0.8431, -0.8431],\n",
              "          [-0.5137, -0.5137, -0.5137,  ..., -0.7412, -0.9922, -0.9922],\n",
              "          [-0.5137, -0.5137, -0.5137,  ..., -0.7412, -0.9922, -0.9922]],\n",
              "\n",
              "         [[ 0.7804,  0.7804,  0.6863,  ..., -0.0118,  0.0039,  0.0039],\n",
              "          [ 0.7804,  0.7804,  0.6863,  ..., -0.0118,  0.0039,  0.0039],\n",
              "          [ 0.5843,  0.5843,  0.5294,  ..., -0.0431, -0.0275, -0.0275],\n",
              "          ...,\n",
              "          [ 0.3490,  0.3490,  0.2392,  ..., -0.2000, -0.1294, -0.1294],\n",
              "          [ 0.4824,  0.4824,  0.3333,  ..., -0.1843, -0.0980, -0.0980],\n",
              "          [ 0.4824,  0.4824,  0.3333,  ..., -0.1843, -0.0980, -0.0980]]]])"
            ]
          },
          "metadata": {
            "tags": []
          },
          "execution_count": 34
        }
      ]
    }
  ]
}