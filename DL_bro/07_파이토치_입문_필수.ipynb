{
  "nbformat": 4,
  "nbformat_minor": 0,
  "metadata": {
    "colab": {
      "name": "07. 파이토치 입문 필수.ipynb",
      "provenance": [],
      "collapsed_sections": [],
      "authorship_tag": "ABX9TyPNt5KLupducA3Fkye/pPnK"
    },
    "kernelspec": {
      "name": "python3",
      "display_name": "Python 3"
    },
    "accelerator": "GPU"
  },
  "cells": [
    {
      "cell_type": "markdown",
      "metadata": {
        "id": "X8bajz00fHK0",
        "colab_type": "text"
      },
      "source": [
        "https://www.youtube.com/watch?v=hQ2jNX0X7K0"
      ]
    },
    {
      "cell_type": "markdown",
      "metadata": {
        "id": "yy0xuzXBfI6C",
        "colab_type": "text"
      },
      "source": [
        "모듈을 나누는 기준<br>\n",
        "<br>\n",
        "1. Data\n",
        "2. Model\n",
        "3. Train\n",
        "4. Evaluation\n",
        "5. log file"
      ]
    },
    {
      "cell_type": "code",
      "metadata": {
        "id": "ghQtMmEUgTr7",
        "colab_type": "code",
        "colab": {
          "base_uri": "https://localhost:8080/",
          "height": 246
        },
        "outputId": "35691509-cdec-47ad-8aba-bfa2898ad8f8"
      },
      "source": [
        "# https://github.com/lukemelas/EfficientNet-PyTorch\n",
        "\n",
        "!pip install --upgrade efficientnet-pytorch"
      ],
      "execution_count": 1,
      "outputs": [
        {
          "output_type": "stream",
          "text": [
            "Collecting efficientnet-pytorch\n",
            "  Downloading https://files.pythonhosted.org/packages/b8/cb/0309a6e3d404862ae4bc017f89645cf150ac94c14c88ef81d215c8e52925/efficientnet_pytorch-0.6.3.tar.gz\n",
            "Requirement already satisfied, skipping upgrade: torch in /usr/local/lib/python3.6/dist-packages (from efficientnet-pytorch) (1.6.0+cu101)\n",
            "Requirement already satisfied, skipping upgrade: future in /usr/local/lib/python3.6/dist-packages (from torch->efficientnet-pytorch) (0.16.0)\n",
            "Requirement already satisfied, skipping upgrade: numpy in /usr/local/lib/python3.6/dist-packages (from torch->efficientnet-pytorch) (1.18.5)\n",
            "Building wheels for collected packages: efficientnet-pytorch\n",
            "  Building wheel for efficientnet-pytorch (setup.py) ... \u001b[?25l\u001b[?25hdone\n",
            "  Created wheel for efficientnet-pytorch: filename=efficientnet_pytorch-0.6.3-cp36-none-any.whl size=12422 sha256=96f3b635c5921eabeadc8f71fcc0682df588c87961adcd839717c23f8547b7e4\n",
            "  Stored in directory: /root/.cache/pip/wheels/42/1e/a9/2a578ba9ad04e776e80bf0f70d8a7f4c29ec0718b92d8f6ccd\n",
            "Successfully built efficientnet-pytorch\n",
            "Installing collected packages: efficientnet-pytorch\n",
            "Successfully installed efficientnet-pytorch-0.6.3\n"
          ],
          "name": "stdout"
        }
      ]
    },
    {
      "cell_type": "code",
      "metadata": {
        "id": "ye5bJ4gywSQP",
        "colab_type": "code",
        "colab": {
          "base_uri": "https://localhost:8080/",
          "height": 124
        },
        "outputId": "b2d48e3b-8508-4e41-f1b2-89144f0d4f0d"
      },
      "source": [
        "from google.colab import drive\n",
        "drive.mount('/content/gdrive')"
      ],
      "execution_count": 2,
      "outputs": [
        {
          "output_type": "stream",
          "text": [
            "Go to this URL in a browser: https://accounts.google.com/o/oauth2/auth?client_id=947318989803-6bn6qk8qdgf4n4g3pfee6491hc0brc4i.apps.googleusercontent.com&redirect_uri=urn%3aietf%3awg%3aoauth%3a2.0%3aoob&response_type=code&scope=email%20https%3a%2f%2fwww.googleapis.com%2fauth%2fdocs.test%20https%3a%2f%2fwww.googleapis.com%2fauth%2fdrive%20https%3a%2f%2fwww.googleapis.com%2fauth%2fdrive.photos.readonly%20https%3a%2f%2fwww.googleapis.com%2fauth%2fpeopleapi.readonly\n",
            "\n",
            "Enter your authorization code:\n",
            "··········\n",
            "Mounted at /content/gdrive\n"
          ],
          "name": "stdout"
        }
      ]
    },
    {
      "cell_type": "code",
      "metadata": {
        "id": "CTaISG9RwmNc",
        "colab_type": "code",
        "colab": {
          "base_uri": "https://localhost:8080/",
          "height": 34
        },
        "outputId": "d81253b3-b315-4a92-a8a3-319172b9c307"
      },
      "source": [
        "cd /content/gdrive/My Drive/Pytorch/DL bro/classification"
      ],
      "execution_count": 3,
      "outputs": [
        {
          "output_type": "stream",
          "text": [
            "/content/gdrive/My Drive/Pytorch/DL bro/classification\n"
          ],
          "name": "stdout"
        }
      ]
    },
    {
      "cell_type": "code",
      "metadata": {
        "id": "uK4EbuJvw1kk",
        "colab_type": "code",
        "colab": {
          "base_uri": "https://localhost:8080/",
          "height": 383
        },
        "outputId": "6838bb32-a580-45ec-e037-02c52a5ea9b9"
      },
      "source": [
        "!python3 main.py --dataset CIFAR10 --batch_size 100 --epochs 5 --model_name resnet18"
      ],
      "execution_count": 4,
      "outputs": [
        {
          "output_type": "stream",
          "text": [
            "Namespace(batch_size=100, classes=10, dataset='CIFAR10', efficientnet='b0', epochs=5, interval=1, learning_rate=0.001, model_name='resnet18', pretrained_weights=None)\n",
            "CIFAR10\n",
            "Files already downloaded and verified\n",
            "Files already downloaded and verified\n",
            "Completed reading the dataset\n",
            "Completed loading the model\n",
            "cuda:0 is available.\n",
            "Start!\n",
            "[1] loss: 1.360\n",
            "Save model parameters - [1] loss: 1.360\n",
            "[2] loss: 0.957\n",
            "Save model parameters - [2] loss: 0.957\n",
            "[3] loss: 0.785\n",
            "Save model parameters - [3] loss: 0.785\n",
            "[4] loss: 0.666\n",
            "Save model parameters - [4] loss: 0.666\n",
            "[5] loss: 0.562\n",
            "Save model parameters - [5] loss: 0.562\n",
            "Train Accuracy: 84 %\n",
            "Test Accuracy: 73 %\n",
            "Completed training the model\n"
          ],
          "name": "stdout"
        }
      ]
    },
    {
      "cell_type": "code",
      "metadata": {
        "id": "lx4hj4_axSvz",
        "colab_type": "code",
        "colab": {}
      },
      "source": [
        "# --pretrained_weights /content/gdrive/My Drive/image_classification/savemodel/trained_model1.pth"
      ],
      "execution_count": null,
      "outputs": []
    }
  ]
}