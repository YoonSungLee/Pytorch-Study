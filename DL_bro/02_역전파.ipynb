{
  "nbformat": 4,
  "nbformat_minor": 0,
  "metadata": {
    "colab": {
      "name": "02. 역전파.ipynb",
      "provenance": [],
      "collapsed_sections": [],
      "authorship_tag": "ABX9TyMgRYQjxl+XrR3WgLDEwV9y"
    },
    "kernelspec": {
      "name": "python3",
      "display_name": "Python 3"
    },
    "accelerator": "GPU"
  },
  "cells": [
    {
      "cell_type": "markdown",
      "metadata": {
        "id": "-Q07cejqb54k",
        "colab_type": "text"
      },
      "source": [
        "https://www.youtube.com/watch?v=_4gEHlsvSZ8"
      ]
    },
    {
      "cell_type": "code",
      "metadata": {
        "id": "tqZmIm94cFwU",
        "colab_type": "code",
        "colab": {}
      },
      "source": [
        "import torch"
      ],
      "execution_count": null,
      "outputs": []
    },
    {
      "cell_type": "code",
      "metadata": {
        "id": "LLo4K_fAcLHP",
        "colab_type": "code",
        "colab": {
          "base_uri": "https://localhost:8080/",
          "height": 54
        },
        "outputId": "6d47842f-ef47-41ef-9571-95488835c075"
      },
      "source": [
        "# 변수 선언(+데이터 입력)\n",
        "\n",
        "x = torch.ones(2,2, requires_grad=True)\n",
        "print(x)"
      ],
      "execution_count": null,
      "outputs": [
        {
          "output_type": "stream",
          "text": [
            "tensor([[1., 1.],\n",
            "        [1., 1.]], requires_grad=True)\n"
          ],
          "name": "stdout"
        }
      ]
    },
    {
      "cell_type": "code",
      "metadata": {
        "id": "ttY0cNekcV2r",
        "colab_type": "code",
        "colab": {
          "base_uri": "https://localhost:8080/",
          "height": 54
        },
        "outputId": "dcb17ac8-06bc-41d6-c0e0-b2211b13e00e"
      },
      "source": [
        "# 모델 내 연산 예측값 산출\n",
        "\n",
        "y = x+1\n",
        "print(y)"
      ],
      "execution_count": null,
      "outputs": [
        {
          "output_type": "stream",
          "text": [
            "tensor([[2., 2.],\n",
            "        [2., 2.]], grad_fn=<AddBackward0>)\n"
          ],
          "name": "stdout"
        }
      ]
    },
    {
      "cell_type": "code",
      "metadata": {
        "id": "8u-sRjJPcXgx",
        "colab_type": "code",
        "colab": {}
      },
      "source": [
        "# 손실함수 계산\n",
        "\n",
        "z = 2*y**2\n",
        "res = z.mean()"
      ],
      "execution_count": null,
      "outputs": []
    },
    {
      "cell_type": "code",
      "metadata": {
        "id": "cMRTzUEGcc85",
        "colab_type": "code",
        "colab": {
          "base_uri": "https://localhost:8080/",
          "height": 36
        },
        "outputId": "268fda10-c723-40bc-c349-8e9d6edcaa11"
      },
      "source": [
        "# 손실 산출\n",
        "# 스칼라값 --> 미분의 대상\n",
        "\n",
        "print(res)"
      ],
      "execution_count": null,
      "outputs": [
        {
          "output_type": "stream",
          "text": [
            "tensor(8., grad_fn=<MeanBackward0>)\n"
          ],
          "name": "stdout"
        }
      ]
    },
    {
      "cell_type": "code",
      "metadata": {
        "id": "n0vBRohKcd87",
        "colab_type": "code",
        "colab": {}
      },
      "source": [
        "# d(res)/d(x_i) = x_i + 1\n",
        "# res = (z_1 + .. + z_4)/4\n",
        "# z_i = 2*y_i**2\n",
        "# z_i = 2*(x_i+1)**2\n",
        "\n",
        "res.backward()"
      ],
      "execution_count": null,
      "outputs": []
    },
    {
      "cell_type": "code",
      "metadata": {
        "id": "6TjdyOPBdGui",
        "colab_type": "code",
        "colab": {
          "base_uri": "https://localhost:8080/",
          "height": 54
        },
        "outputId": "75a31ba1-8d9c-4efa-a1e0-ee132571623b"
      },
      "source": [
        "print(x.grad)"
      ],
      "execution_count": null,
      "outputs": [
        {
          "output_type": "stream",
          "text": [
            "tensor([[2., 2.],\n",
            "        [2., 2.]])\n"
          ],
          "name": "stdout"
        }
      ]
    },
    {
      "cell_type": "markdown",
      "metadata": {
        "id": "Kb9NwZn5dIPA",
        "colab_type": "text"
      },
      "source": [
        "```python\n",
        "import torch.nn as nn\n",
        "import torch.nn.functional as F\n",
        "```"
      ]
    }
  ]
}