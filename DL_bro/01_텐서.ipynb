{
  "nbformat": 4,
  "nbformat_minor": 0,
  "metadata": {
    "colab": {
      "name": "01. 텐서",
      "provenance": [],
      "collapsed_sections": [],
      "authorship_tag": "ABX9TyN6fwOpO+3Yx0IXP7h5KZNl"
    },
    "kernelspec": {
      "name": "python3",
      "display_name": "Python 3"
    },
    "accelerator": "GPU"
  },
  "cells": [
    {
      "cell_type": "markdown",
      "metadata": {
        "id": "cvAgTswcs9v2",
        "colab_type": "text"
      },
      "source": [
        "https://www.youtube.com/watch?v=6SF_qAd99Yg&list=PLHOsBEAyYj3xf4i20sCA5o8MgVW5sIiHD&index=8"
      ]
    },
    {
      "cell_type": "markdown",
      "metadata": {
        "id": "Lo76PxYMqQBV",
        "colab_type": "text"
      },
      "source": [
        "Torch: The torch package contains data structures for multi-dimensional tensors and mathmatical operations over these are defined."
      ]
    },
    {
      "cell_type": "code",
      "metadata": {
        "id": "Z0IPwCOGqqEN",
        "colab_type": "code",
        "colab": {}
      },
      "source": [
        "import torch\n",
        "import numpy as np"
      ],
      "execution_count": null,
      "outputs": []
    },
    {
      "cell_type": "code",
      "metadata": {
        "id": "b526XgHaqspy",
        "colab_type": "code",
        "colab": {
          "base_uri": "https://localhost:8080/",
          "height": 110
        },
        "outputId": "a68109d9-f8bd-486c-9ff8-2affdba080da"
      },
      "source": [
        "# 초기화되지 않은 행렬\n",
        "# 초기화되지 않은 행렬이 선언되었지만, 사용하기 전에는 명확히 알려진 값을 포함하고 있지는 않습니다.\n",
        "# 초기화되지 않은 행렬이 생성되면 그 시점에 할당된 메모리에 존재하던 값들이 초기값으로 나타납니다.\n",
        "\n",
        "x = torch.empty(5,4)\n",
        "print(x)"
      ],
      "execution_count": null,
      "outputs": [
        {
          "output_type": "stream",
          "text": [
            "tensor([[3.0385e-36, 0.0000e+00, 7.0065e-44, 6.7262e-44],\n",
            "        [6.3058e-44, 6.7262e-44, 7.7071e-44, 6.3058e-44],\n",
            "        [6.7262e-44, 7.2868e-44, 1.1771e-43, 6.8664e-44],\n",
            "        [6.8664e-44, 8.1275e-44, 7.4269e-44, 7.0065e-44],\n",
            "        [8.1275e-44, 7.0065e-44, 6.8664e-44, 6.4460e-44]])\n"
          ],
          "name": "stdout"
        }
      ]
    },
    {
      "cell_type": "code",
      "metadata": {
        "id": "dh9xA9B3q5Ah",
        "colab_type": "code",
        "colab": {
          "base_uri": "https://localhost:8080/",
          "height": 73
        },
        "outputId": "cbdaaac3-82ce-4d64-de78-a927f32f257d"
      },
      "source": [
        "torch.ones(3,3)"
      ],
      "execution_count": null,
      "outputs": [
        {
          "output_type": "execute_result",
          "data": {
            "text/plain": [
              "tensor([[1., 1., 1.],\n",
              "        [1., 1., 1.],\n",
              "        [1., 1., 1.]])"
            ]
          },
          "metadata": {
            "tags": []
          },
          "execution_count": 3
        }
      ]
    },
    {
      "cell_type": "code",
      "metadata": {
        "id": "IJS28avnq6w7",
        "colab_type": "code",
        "colab": {
          "base_uri": "https://localhost:8080/",
          "height": 36
        },
        "outputId": "ecc1859c-c446-48a6-e6cd-b8b014a135b7"
      },
      "source": [
        "torch.zeros(2)"
      ],
      "execution_count": null,
      "outputs": [
        {
          "output_type": "execute_result",
          "data": {
            "text/plain": [
              "tensor([0., 0.])"
            ]
          },
          "metadata": {
            "tags": []
          },
          "execution_count": 4
        }
      ]
    },
    {
      "cell_type": "code",
      "metadata": {
        "id": "2kiZAICyq7_k",
        "colab_type": "code",
        "colab": {
          "base_uri": "https://localhost:8080/",
          "height": 110
        },
        "outputId": "f2569691-1654-48e6-f416-12e267612834"
      },
      "source": [
        "torch.rand(5,6)"
      ],
      "execution_count": null,
      "outputs": [
        {
          "output_type": "execute_result",
          "data": {
            "text/plain": [
              "tensor([[0.6061, 0.8155, 0.0737, 0.4744, 0.7857, 0.7375],\n",
              "        [0.1471, 0.3474, 0.2176, 0.1270, 0.8699, 0.2114],\n",
              "        [0.6249, 0.2532, 0.0316, 0.7477, 0.0340, 0.4295],\n",
              "        [0.5087, 0.7457, 0.3260, 0.1277, 0.5064, 0.1635],\n",
              "        [0.5393, 0.4153, 0.8092, 0.4624, 0.8972, 0.2098]])"
            ]
          },
          "metadata": {
            "tags": []
          },
          "execution_count": 5
        }
      ]
    },
    {
      "cell_type": "code",
      "metadata": {
        "id": "OLJRA-8icnjr",
        "colab_type": "code",
        "colab": {
          "base_uri": "https://localhost:8080/",
          "height": 34
        },
        "outputId": "1d61beec-ac82-4c3a-a128-e06c2c9cb6c3"
      },
      "source": [
        "x = torch.tensor([5.5, 3])\n",
        "print(x)"
      ],
      "execution_count": null,
      "outputs": [
        {
          "output_type": "stream",
          "text": [
            "tensor([5.5000, 3.0000])\n"
          ],
          "name": "stdout"
        }
      ]
    },
    {
      "cell_type": "code",
      "metadata": {
        "id": "2tvRn2Zfc8eY",
        "colab_type": "code",
        "colab": {
          "base_uri": "https://localhost:8080/",
          "height": 193
        },
        "outputId": "890ded8c-c2f4-4d0d-f92d-05d9a3b9d289"
      },
      "source": [
        "# new_* 메소드는 크기를 받습니다.\n",
        "x = x.new_ones(5, 3, dtype=torch.double)\n",
        "print(x)\n",
        "\n",
        "# dtype을 오버라이드(Override) 합니다.\n",
        "# 결과는 동일한 크기를 갖습니다.\n",
        "x = torch.randn_like(x, dtype=torch.float)\n",
        "print(x)"
      ],
      "execution_count": null,
      "outputs": [
        {
          "output_type": "stream",
          "text": [
            "tensor([[1., 1., 1.],\n",
            "        [1., 1., 1.],\n",
            "        [1., 1., 1.],\n",
            "        [1., 1., 1.],\n",
            "        [1., 1., 1.]], dtype=torch.float64)\n",
            "tensor([[-0.2706, -1.2276, -0.3935],\n",
            "        [ 0.1082, -0.9616, -1.3237],\n",
            "        [-0.1914, -0.1603, -0.4873],\n",
            "        [ 0.5816, -0.2920, -2.2715],\n",
            "        [-0.3993, -1.4270, -0.1794]])\n"
          ],
          "name": "stdout"
        }
      ]
    },
    {
      "cell_type": "code",
      "metadata": {
        "id": "tSpqgYxCq875",
        "colab_type": "code",
        "colab": {}
      },
      "source": [
        "l = [13, 4]\n",
        "r = np.array([4,56,7])"
      ],
      "execution_count": null,
      "outputs": []
    },
    {
      "cell_type": "code",
      "metadata": {
        "id": "Fl_CsqvQrDOM",
        "colab_type": "code",
        "colab": {
          "base_uri": "https://localhost:8080/",
          "height": 36
        },
        "outputId": "bb22f32f-7a3e-44ab-d601-8042b93b741e"
      },
      "source": [
        "torch.tensor(l)"
      ],
      "execution_count": null,
      "outputs": [
        {
          "output_type": "execute_result",
          "data": {
            "text/plain": [
              "tensor([13,  4])"
            ]
          },
          "metadata": {
            "tags": []
          },
          "execution_count": 7
        }
      ]
    },
    {
      "cell_type": "code",
      "metadata": {
        "id": "ldj1Q5SfrGx8",
        "colab_type": "code",
        "colab": {
          "base_uri": "https://localhost:8080/",
          "height": 36
        },
        "outputId": "f31cb5a6-d368-411b-e2a5-c4fdb77edf71"
      },
      "source": [
        "torch.tensor(r)"
      ],
      "execution_count": null,
      "outputs": [
        {
          "output_type": "execute_result",
          "data": {
            "text/plain": [
              "tensor([ 4, 56,  7])"
            ]
          },
          "metadata": {
            "tags": []
          },
          "execution_count": 8
        }
      ]
    },
    {
      "cell_type": "code",
      "metadata": {
        "id": "C0OdMfOgrH9a",
        "colab_type": "code",
        "colab": {
          "base_uri": "https://localhost:8080/",
          "height": 36
        },
        "outputId": "712ef601-59bb-4d68-e31a-008d75ccfe82"
      },
      "source": [
        "# 행렬의 크기를 구합니다.\n",
        "\n",
        "x.size()"
      ],
      "execution_count": null,
      "outputs": [
        {
          "output_type": "execute_result",
          "data": {
            "text/plain": [
              "torch.Size([5, 4])"
            ]
          },
          "metadata": {
            "tags": []
          },
          "execution_count": 9
        }
      ]
    },
    {
      "cell_type": "code",
      "metadata": {
        "id": "_GKwJiqcrKRm",
        "colab_type": "code",
        "colab": {
          "base_uri": "https://localhost:8080/",
          "height": 36
        },
        "outputId": "9c8b7238-ba22-4624-906d-0f019514936e"
      },
      "source": [
        "type(x)"
      ],
      "execution_count": null,
      "outputs": [
        {
          "output_type": "execute_result",
          "data": {
            "text/plain": [
              "torch.Tensor"
            ]
          },
          "metadata": {
            "tags": []
          },
          "execution_count": 10
        }
      ]
    },
    {
      "cell_type": "code",
      "metadata": {
        "id": "VsGLEGSUrLhz",
        "colab_type": "code",
        "colab": {
          "base_uri": "https://localhost:8080/",
          "height": 91
        },
        "outputId": "c8911994-864d-4cf9-f157-76ffea88b94a"
      },
      "source": [
        "x = torch.rand(2,2)\n",
        "y = torch.rand(2,2)\n",
        "print(x)\n",
        "print(y)"
      ],
      "execution_count": null,
      "outputs": [
        {
          "output_type": "stream",
          "text": [
            "tensor([[0.0184, 0.1998],\n",
            "        [0.5841, 0.6475]])\n",
            "tensor([[0.4414, 0.4748],\n",
            "        [0.9902, 0.8730]])\n"
          ],
          "name": "stdout"
        }
      ]
    },
    {
      "cell_type": "code",
      "metadata": {
        "id": "g3WhMFh6rSH8",
        "colab_type": "code",
        "colab": {
          "base_uri": "https://localhost:8080/",
          "height": 54
        },
        "outputId": "4c92a78a-8d10-4e42-b8dd-2d70c1755058"
      },
      "source": [
        "x+y"
      ],
      "execution_count": null,
      "outputs": [
        {
          "output_type": "execute_result",
          "data": {
            "text/plain": [
              "tensor([[0.4598, 0.6746],\n",
              "        [1.5743, 1.5205]])"
            ]
          },
          "metadata": {
            "tags": []
          },
          "execution_count": 12
        }
      ]
    },
    {
      "cell_type": "code",
      "metadata": {
        "id": "SmlTiJMZrTKM",
        "colab_type": "code",
        "colab": {
          "base_uri": "https://localhost:8080/",
          "height": 54
        },
        "outputId": "0a7a0b9b-4a15-4767-a69f-850772fd03a9"
      },
      "source": [
        "torch.add(x,y)\n",
        "\n",
        "# result = torch.empty(2,2)\n",
        "# torch.add(x, y, out=result)\n",
        "# print(result)"
      ],
      "execution_count": null,
      "outputs": [
        {
          "output_type": "execute_result",
          "data": {
            "text/plain": [
              "tensor([[0.4598, 0.6746],\n",
              "        [1.5743, 1.5205]])"
            ]
          },
          "metadata": {
            "tags": []
          },
          "execution_count": 13
        }
      ]
    },
    {
      "cell_type": "code",
      "metadata": {
        "id": "VV91X6FjrU12",
        "colab_type": "code",
        "colab": {
          "base_uri": "https://localhost:8080/",
          "height": 54
        },
        "outputId": "78f51698-e56a-497b-f6fe-2e80a0d0be70"
      },
      "source": [
        "y.add(x)"
      ],
      "execution_count": null,
      "outputs": [
        {
          "output_type": "execute_result",
          "data": {
            "text/plain": [
              "tensor([[0.4598, 0.6746],\n",
              "        [1.5743, 1.5205]])"
            ]
          },
          "metadata": {
            "tags": []
          },
          "execution_count": 14
        }
      ]
    },
    {
      "cell_type": "code",
      "metadata": {
        "id": "mcJRtlm5rW3S",
        "colab_type": "code",
        "colab": {
          "base_uri": "https://localhost:8080/",
          "height": 54
        },
        "outputId": "f34b0c81-4b59-405f-af09-862cabdcb1b0"
      },
      "source": [
        "y"
      ],
      "execution_count": null,
      "outputs": [
        {
          "output_type": "execute_result",
          "data": {
            "text/plain": [
              "tensor([[0.4414, 0.4748],\n",
              "        [0.9902, 0.8730]])"
            ]
          },
          "metadata": {
            "tags": []
          },
          "execution_count": 15
        }
      ]
    },
    {
      "cell_type": "code",
      "metadata": {
        "id": "owEZ-QCLra2p",
        "colab_type": "code",
        "colab": {
          "base_uri": "https://localhost:8080/",
          "height": 54
        },
        "outputId": "ca1db265-1b1e-488b-9107-1ab68473e9fa"
      },
      "source": [
        "# inplace\n",
        "y.add_(x)"
      ],
      "execution_count": null,
      "outputs": [
        {
          "output_type": "execute_result",
          "data": {
            "text/plain": [
              "tensor([[0.4598, 0.6746],\n",
              "        [1.5743, 1.5205]])"
            ]
          },
          "metadata": {
            "tags": []
          },
          "execution_count": 16
        }
      ]
    },
    {
      "cell_type": "code",
      "metadata": {
        "id": "Y7MqBDVArgRU",
        "colab_type": "code",
        "colab": {
          "base_uri": "https://localhost:8080/",
          "height": 54
        },
        "outputId": "cbbaf745-0408-4ed0-b252-75b2c2d499f6"
      },
      "source": [
        "y"
      ],
      "execution_count": null,
      "outputs": [
        {
          "output_type": "execute_result",
          "data": {
            "text/plain": [
              "tensor([[0.4598, 0.6746],\n",
              "        [1.5743, 1.5205]])"
            ]
          },
          "metadata": {
            "tags": []
          },
          "execution_count": 17
        }
      ]
    },
    {
      "cell_type": "code",
      "metadata": {
        "id": "JmMi78-srhDV",
        "colab_type": "code",
        "colab": {
          "base_uri": "https://localhost:8080/",
          "height": 36
        },
        "outputId": "e79ecec8-8cee-43ea-e163-285232acaff9"
      },
      "source": [
        "y[1,1]"
      ],
      "execution_count": null,
      "outputs": [
        {
          "output_type": "execute_result",
          "data": {
            "text/plain": [
              "tensor(1.5205)"
            ]
          },
          "metadata": {
            "tags": []
          },
          "execution_count": 18
        }
      ]
    },
    {
      "cell_type": "code",
      "metadata": {
        "id": "Hc6dwnUmrm9M",
        "colab_type": "code",
        "colab": {
          "base_uri": "https://localhost:8080/",
          "height": 36
        },
        "outputId": "ccb2cde4-a16b-4c23-bbe0-14f210ebc8b4"
      },
      "source": [
        "y[:,1]"
      ],
      "execution_count": null,
      "outputs": [
        {
          "output_type": "execute_result",
          "data": {
            "text/plain": [
              "tensor([0.6746, 1.5205])"
            ]
          },
          "metadata": {
            "tags": []
          },
          "execution_count": 19
        }
      ]
    },
    {
      "cell_type": "code",
      "metadata": {
        "id": "bE8GnUsSrrka",
        "colab_type": "code",
        "colab": {
          "base_uri": "https://localhost:8080/",
          "height": 166
        },
        "outputId": "584506c5-03fc-4a34-fa3b-5034ad908494"
      },
      "source": [
        "x = torch.rand(8,8)\n",
        "print(x)"
      ],
      "execution_count": null,
      "outputs": [
        {
          "output_type": "stream",
          "text": [
            "tensor([[0.6018, 0.2783, 0.1883, 0.8415, 0.6378, 0.3750, 0.1103, 0.1255],\n",
            "        [0.8538, 0.1470, 0.4886, 0.0238, 0.0717, 0.1030, 0.6597, 0.3500],\n",
            "        [0.4697, 0.1387, 0.2017, 0.7390, 0.8171, 0.1438, 0.5371, 0.6990],\n",
            "        [0.0663, 0.4046, 0.4679, 0.4184, 0.4038, 0.3543, 0.5853, 0.4183],\n",
            "        [0.3572, 0.2230, 0.5528, 0.7249, 0.0312, 0.1232, 0.1271, 0.1474],\n",
            "        [0.0807, 0.7435, 0.6491, 0.4645, 0.4985, 0.4636, 0.2207, 0.0242],\n",
            "        [0.0794, 0.0462, 0.2328, 0.9415, 0.5259, 0.7106, 0.1616, 0.4948],\n",
            "        [0.6360, 0.9328, 0.6457, 0.5409, 0.0269, 0.0303, 0.3782, 0.8244]])\n"
          ],
          "name": "stdout"
        }
      ]
    },
    {
      "cell_type": "code",
      "metadata": {
        "id": "9QfN4R-srwfV",
        "colab_type": "code",
        "colab": {
          "base_uri": "https://localhost:8080/",
          "height": 166
        },
        "outputId": "e2242c6e-d231-48bb-fc3f-76800fe9fcd0"
      },
      "source": [
        "# FC를 위해 flatten할 때 사용\n",
        "\n",
        "x.view(64)"
      ],
      "execution_count": null,
      "outputs": [
        {
          "output_type": "execute_result",
          "data": {
            "text/plain": [
              "tensor([0.6018, 0.2783, 0.1883, 0.8415, 0.6378, 0.3750, 0.1103, 0.1255, 0.8538,\n",
              "        0.1470, 0.4886, 0.0238, 0.0717, 0.1030, 0.6597, 0.3500, 0.4697, 0.1387,\n",
              "        0.2017, 0.7390, 0.8171, 0.1438, 0.5371, 0.6990, 0.0663, 0.4046, 0.4679,\n",
              "        0.4184, 0.4038, 0.3543, 0.5853, 0.4183, 0.3572, 0.2230, 0.5528, 0.7249,\n",
              "        0.0312, 0.1232, 0.1271, 0.1474, 0.0807, 0.7435, 0.6491, 0.4645, 0.4985,\n",
              "        0.4636, 0.2207, 0.0242, 0.0794, 0.0462, 0.2328, 0.9415, 0.5259, 0.7106,\n",
              "        0.1616, 0.4948, 0.6360, 0.9328, 0.6457, 0.5409, 0.0269, 0.0303, 0.3782,\n",
              "        0.8244])"
            ]
          },
          "metadata": {
            "tags": []
          },
          "execution_count": 22
        }
      ]
    },
    {
      "cell_type": "code",
      "metadata": {
        "id": "Y5ihYO7kr1dk",
        "colab_type": "code",
        "colab": {
          "base_uri": "https://localhost:8080/",
          "height": 166
        },
        "outputId": "4bcb28b0-ea21-4429-f830-8eb58b10e0c9"
      },
      "source": [
        "x.view(4,16)"
      ],
      "execution_count": null,
      "outputs": [
        {
          "output_type": "execute_result",
          "data": {
            "text/plain": [
              "tensor([[0.6018, 0.2783, 0.1883, 0.8415, 0.6378, 0.3750, 0.1103, 0.1255, 0.8538,\n",
              "         0.1470, 0.4886, 0.0238, 0.0717, 0.1030, 0.6597, 0.3500],\n",
              "        [0.4697, 0.1387, 0.2017, 0.7390, 0.8171, 0.1438, 0.5371, 0.6990, 0.0663,\n",
              "         0.4046, 0.4679, 0.4184, 0.4038, 0.3543, 0.5853, 0.4183],\n",
              "        [0.3572, 0.2230, 0.5528, 0.7249, 0.0312, 0.1232, 0.1271, 0.1474, 0.0807,\n",
              "         0.7435, 0.6491, 0.4645, 0.4985, 0.4636, 0.2207, 0.0242],\n",
              "        [0.0794, 0.0462, 0.2328, 0.9415, 0.5259, 0.7106, 0.1616, 0.4948, 0.6360,\n",
              "         0.9328, 0.6457, 0.5409, 0.0269, 0.0303, 0.3782, 0.8244]])"
            ]
          },
          "metadata": {
            "tags": []
          },
          "execution_count": 23
        }
      ]
    },
    {
      "cell_type": "code",
      "metadata": {
        "id": "WY4WA69Pr9Vj",
        "colab_type": "code",
        "colab": {
          "base_uri": "https://localhost:8080/",
          "height": 166
        },
        "outputId": "0d9d2fd1-22b5-4ff9-ac80-f5853b57cb11"
      },
      "source": [
        "# -1은 다른 차원들을 사용하여 유추합니다.\n",
        "\n",
        "x.view(-1,16)   # x.view(4,16)"
      ],
      "execution_count": null,
      "outputs": [
        {
          "output_type": "execute_result",
          "data": {
            "text/plain": [
              "tensor([[0.6018, 0.2783, 0.1883, 0.8415, 0.6378, 0.3750, 0.1103, 0.1255, 0.8538,\n",
              "         0.1470, 0.4886, 0.0238, 0.0717, 0.1030, 0.6597, 0.3500],\n",
              "        [0.4697, 0.1387, 0.2017, 0.7390, 0.8171, 0.1438, 0.5371, 0.6990, 0.0663,\n",
              "         0.4046, 0.4679, 0.4184, 0.4038, 0.3543, 0.5853, 0.4183],\n",
              "        [0.3572, 0.2230, 0.5528, 0.7249, 0.0312, 0.1232, 0.1271, 0.1474, 0.0807,\n",
              "         0.7435, 0.6491, 0.4645, 0.4985, 0.4636, 0.2207, 0.0242],\n",
              "        [0.0794, 0.0462, 0.2328, 0.9415, 0.5259, 0.7106, 0.1616, 0.4948, 0.6360,\n",
              "         0.9328, 0.6457, 0.5409, 0.0269, 0.0303, 0.3782, 0.8244]])"
            ]
          },
          "metadata": {
            "tags": []
          },
          "execution_count": 24
        }
      ]
    },
    {
      "cell_type": "code",
      "metadata": {
        "id": "G9VGRw3SsFuQ",
        "colab_type": "code",
        "colab": {
          "base_uri": "https://localhost:8080/",
          "height": 314
        },
        "outputId": "ef089f09-4653-422c-8825-c67a2e8ac608"
      },
      "source": [
        "y = x.numpy()\n",
        "print(y)"
      ],
      "execution_count": null,
      "outputs": [
        {
          "output_type": "stream",
          "text": [
            "[[0.60182726 0.27829528 0.1882745  0.84149855 0.6378488  0.37497723\n",
            "  0.11029363 0.12548852]\n",
            " [0.85382235 0.14696938 0.48864686 0.02377862 0.07170737 0.10304266\n",
            "  0.65971243 0.35001433]\n",
            " [0.46969217 0.13868755 0.20168775 0.7390265  0.8171414  0.14379883\n",
            "  0.5370778  0.69901276]\n",
            " [0.06625515 0.40461153 0.46792483 0.4184081  0.40379602 0.35428375\n",
            "  0.58525914 0.4183035 ]\n",
            " [0.3571959  0.22303194 0.5528485  0.7249411  0.0311718  0.1232397\n",
            "  0.12706196 0.14743721]\n",
            " [0.08073962 0.743536   0.6491111  0.4645167  0.49845618 0.46364462\n",
            "  0.22066247 0.02424347]\n",
            " [0.07941866 0.04623216 0.23281187 0.9415215  0.525852   0.71062475\n",
            "  0.16161138 0.49478924]\n",
            " [0.6360462  0.9327562  0.6456862  0.54092425 0.02688831 0.03025752\n",
            "  0.3781693  0.82441324]]\n"
          ],
          "name": "stdout"
        }
      ]
    },
    {
      "cell_type": "code",
      "metadata": {
        "id": "vFAeLZcGsUN9",
        "colab_type": "code",
        "colab": {
          "base_uri": "https://localhost:8080/",
          "height": 36
        },
        "outputId": "bf37ebf1-3123-4a03-c29a-b31cbbc3db88"
      },
      "source": [
        "type(y)"
      ],
      "execution_count": null,
      "outputs": [
        {
          "output_type": "execute_result",
          "data": {
            "text/plain": [
              "numpy.ndarray"
            ]
          },
          "metadata": {
            "tags": []
          },
          "execution_count": 26
        }
      ]
    },
    {
      "cell_type": "code",
      "metadata": {
        "id": "O0LaQQ29sUvi",
        "colab_type": "code",
        "colab": {}
      },
      "source": [
        "x = torch.ones(1)"
      ],
      "execution_count": null,
      "outputs": []
    },
    {
      "cell_type": "code",
      "metadata": {
        "id": "pKTCgctdsbNA",
        "colab_type": "code",
        "colab": {
          "base_uri": "https://localhost:8080/",
          "height": 36
        },
        "outputId": "c8c73d3c-1fff-4ac4-f010-1039b3ad266e"
      },
      "source": [
        "x"
      ],
      "execution_count": null,
      "outputs": [
        {
          "output_type": "execute_result",
          "data": {
            "text/plain": [
              "tensor([1.])"
            ]
          },
          "metadata": {
            "tags": []
          },
          "execution_count": 28
        }
      ]
    },
    {
      "cell_type": "code",
      "metadata": {
        "id": "LzJ7qwFosbpx",
        "colab_type": "code",
        "colab": {
          "base_uri": "https://localhost:8080/",
          "height": 36
        },
        "outputId": "a6962c13-65e8-41f5-da97-52a97ac216e4"
      },
      "source": [
        "# 만약 tensor에 하나의 값만 존재한다면, .item()을 사용하면 숫자 값을 얻을 수 있습니다.\n",
        "# DL: loss 값을 뽑아낼 때 사용\n",
        "\n",
        "x.item()"
      ],
      "execution_count": null,
      "outputs": [
        {
          "output_type": "execute_result",
          "data": {
            "text/plain": [
              "1.0"
            ]
          },
          "metadata": {
            "tags": []
          },
          "execution_count": 29
        }
      ]
    },
    {
      "cell_type": "code",
      "metadata": {
        "id": "OPO6D5_XeIyX",
        "colab_type": "code",
        "colab": {
          "base_uri": "https://localhost:8080/",
          "height": 52
        },
        "outputId": "c459fd08-f493-46a7-8112-a5e640e4373a"
      },
      "source": [
        "# Numpy 배열을 Torch Tensor로 변환하기\n",
        "# Numpy 배열을 변경하면 Torch Tensor의 값도 자동 변경\n",
        "\n",
        "import numpy as np\n",
        "a = np.ones(5)\n",
        "b = torch.from_numpy(a)\n",
        "np.add(a, 1, out=a)\n",
        "print(a)\n",
        "print(b)"
      ],
      "execution_count": null,
      "outputs": [
        {
          "output_type": "stream",
          "text": [
            "[2. 2. 2. 2. 2.]\n",
            "tensor([2., 2., 2., 2., 2.], dtype=torch.float64)\n"
          ],
          "name": "stdout"
        }
      ]
    },
    {
      "cell_type": "code",
      "metadata": {
        "id": "v6yvDHk1eSmJ",
        "colab_type": "code",
        "colab": {
          "base_uri": "https://localhost:8080/",
          "height": 193
        },
        "outputId": "97d01fb0-c5be-447e-a0d1-c9ed518f4d01"
      },
      "source": [
        "# CUDA Tensor\n",
        "\n",
        "# 이 코드는 CUDA가 사용 가능한 환경에서만 실행합니다.\n",
        "# ``torch.device``를 사용하여 tensor를 GPU 안팎으로 이동해보겠습니다.\n",
        "if torch.cuda.is_available():\n",
        "    device = torch.device('cuda')           # CUDA 장치 객체(device object)로\n",
        "    y = torch.ones_like(x, device=device)   # GPU 상에 직접적으로 tensor를 사용하거나\n",
        "    x = x.to(device)                        # ``.to('cuda')``를 사용하면 됩니다.\n",
        "    z = x + y\n",
        "    print(z)\n",
        "    print(z.to('cpu', torch.double))        # ``.to``는 dtype도 함께 변경합니다."
      ],
      "execution_count": null,
      "outputs": [
        {
          "output_type": "stream",
          "text": [
            "tensor([[ 0.7294, -0.2276,  0.6065],\n",
            "        [ 1.1082,  0.0384, -0.3237],\n",
            "        [ 0.8086,  0.8397,  0.5127],\n",
            "        [ 1.5816,  0.7080, -1.2715],\n",
            "        [ 0.6007, -0.4270,  0.8206]], device='cuda:0')\n",
            "tensor([[ 0.7294, -0.2276,  0.6065],\n",
            "        [ 1.1082,  0.0384, -0.3237],\n",
            "        [ 0.8086,  0.8397,  0.5127],\n",
            "        [ 1.5816,  0.7080, -1.2715],\n",
            "        [ 0.6007, -0.4270,  0.8206]], dtype=torch.float64)\n"
          ],
          "name": "stdout"
        }
      ]
    }
  ]
}