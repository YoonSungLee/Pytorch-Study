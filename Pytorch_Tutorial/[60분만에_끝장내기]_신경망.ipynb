{
  "nbformat": 4,
  "nbformat_minor": 0,
  "metadata": {
    "colab": {
      "name": "[60분만에 끝장내기] 신경망.ipynb",
      "provenance": [],
      "collapsed_sections": [],
      "authorship_tag": "ABX9TyM4Vh+hmsw+rtL1dSk+WMqI"
    },
    "kernelspec": {
      "name": "python3",
      "display_name": "Python 3"
    },
    "accelerator": "GPU"
  },
  "cells": [
    {
      "cell_type": "markdown",
      "metadata": {
        "id": "ThUoUINcsE1o",
        "colab_type": "text"
      },
      "source": [
        "### 신경망 정의하기"
      ]
    },
    {
      "cell_type": "code",
      "metadata": {
        "id": "92Oy8DVohxOW",
        "colab_type": "code",
        "colab": {}
      },
      "source": [
        "import torch\n",
        "import torch.nn as nn\n",
        "import torch.nn.functional as F\n",
        "\n",
        "class Net(nn.Module):\n",
        "\n",
        "    def __init__(self):\n",
        "        super(Net, self).__init__()\n",
        "        # 1 input image channel, 6 output channels, 3x3 square convolution\n",
        "        # kernel\n",
        "        self.conv1 = nn.Conv2d(1, 6, 3)\n",
        "        self.conv2 = nn.Conv2d(6, 16, 3)\n",
        "        # an affine operation: y = Wx + b\n",
        "        self.fc1 = nn.Linear(16*6*6, 120)   # 6x6 from iamge dimension\n",
        "        self.fc2 = nn.Linear(120, 84)\n",
        "        self.fc3 = nn.Linear(84, 10)\n",
        "\n",
        "    def forward(self, x):\n",
        "        # (B, 1, 32, 32)\n",
        "        # Max pooling over a (2, 2) window\n",
        "        x = F.max_pool2d(F.relu(self.conv1(x)), (2,2))\n",
        "        # (B, 6, 15, 15)\n",
        "        # If the size is a square you can only specify a single number\n",
        "        x = F.max_pool2d(F.relu(self.conv2(x)), (2,2))\n",
        "        # (B, 16, 6, 6)\n",
        "        x = x.view(-1, self.num_flat_features(x))\n",
        "        # (B, 16*6*6)\n",
        "        x = F.relu(self.fc1(x))\n",
        "        # (B, 120)\n",
        "        x = F.relu(self.fc2(x))\n",
        "        # (B, 84)\n",
        "        x = self.fc3(x)\n",
        "        # (B, 10)\n",
        "        return x\n",
        "    \n",
        "    def num_flat_features(self, x):\n",
        "        size = x.size()[1:]     # all dimensions except the batch dimension\n",
        "        num_features = 1\n",
        "        for s in size:\n",
        "            num_features *= s\n",
        "        return num_features"
      ],
      "execution_count": 1,
      "outputs": []
    },
    {
      "cell_type": "code",
      "metadata": {
        "id": "7_xMVYXYnYT9",
        "colab_type": "code",
        "colab": {
          "base_uri": "https://localhost:8080/",
          "height": 147
        },
        "outputId": "760491c4-b493-4289-965a-ca83478af504"
      },
      "source": [
        "net = Net()\n",
        "print(net)"
      ],
      "execution_count": 2,
      "outputs": [
        {
          "output_type": "stream",
          "text": [
            "Net(\n",
            "  (conv1): Conv2d(1, 6, kernel_size=(3, 3), stride=(1, 1))\n",
            "  (conv2): Conv2d(6, 16, kernel_size=(3, 3), stride=(1, 1))\n",
            "  (fc1): Linear(in_features=576, out_features=120, bias=True)\n",
            "  (fc2): Linear(in_features=120, out_features=84, bias=True)\n",
            "  (fc3): Linear(in_features=84, out_features=10, bias=True)\n",
            ")\n"
          ],
          "name": "stdout"
        }
      ]
    },
    {
      "cell_type": "code",
      "metadata": {
        "id": "9eR5gzKbnZkT",
        "colab_type": "code",
        "colab": {
          "base_uri": "https://localhost:8080/",
          "height": 54
        },
        "outputId": "b6e29dd1-41e9-465d-e181-e26fcc71d804"
      },
      "source": [
        "params = list(net.parameters())\n",
        "print(len(params))\n",
        "print(params[0].size()) # conv1's .weight"
      ],
      "execution_count": 3,
      "outputs": [
        {
          "output_type": "stream",
          "text": [
            "10\n",
            "torch.Size([6, 1, 3, 3])\n"
          ],
          "name": "stdout"
        }
      ]
    },
    {
      "cell_type": "code",
      "metadata": {
        "id": "hX_a0Fa3rK07",
        "colab_type": "code",
        "colab": {
          "base_uri": "https://localhost:8080/",
          "height": 54
        },
        "outputId": "f29f3ee4-774c-4259-eb41-c3c8dc19a135"
      },
      "source": [
        "input = torch.randn(1, 1, 32, 32)\n",
        "out = net(input)\n",
        "print(out)"
      ],
      "execution_count": 5,
      "outputs": [
        {
          "output_type": "stream",
          "text": [
            "tensor([[ 0.1097,  0.0318, -0.1109, -0.0298, -0.0020,  0.0077,  0.0568, -0.0282,\n",
            "         -0.0757,  0.0598]], grad_fn=<AddmmBackward>)\n"
          ],
          "name": "stdout"
        }
      ]
    },
    {
      "cell_type": "markdown",
      "metadata": {
        "id": "wf-uqzWYrqXm",
        "colab_type": "text"
      },
      "source": [
        "`torch.nn`은 미니-배치(mini-batch)만 지원합니다. `torch.nn` 패키지 전체는 하나의 샘플이 아닌, 샘플들의 미니-배치만을 입력으로 받습니다.<br>\n",
        "예를 들어, `nnConv2D`는 nSamples x nChannels x Height x Width 의 4차원 Tensor를 입력으로 합니다.<br>\n",
        "만약 하나의 샘플만 있다면, `input.unsqueeze(0)`을 사용해서 가짜 차원을 추가합니다."
      ]
    },
    {
      "cell_type": "code",
      "metadata": {
        "id": "OxeTvkrnrRju",
        "colab_type": "code",
        "colab": {}
      },
      "source": [
        "net.zero_grad()\n",
        "out.backward(torch.randn(1, 10))"
      ],
      "execution_count": 6,
      "outputs": []
    },
    {
      "cell_type": "markdown",
      "metadata": {
        "id": "Finz9-gzrdJY",
        "colab_type": "text"
      },
      "source": [
        "### 손실 함수(Loss Function)"
      ]
    },
    {
      "cell_type": "code",
      "metadata": {
        "id": "g7yf5qU7sItb",
        "colab_type": "code",
        "colab": {
          "base_uri": "https://localhost:8080/",
          "height": 36
        },
        "outputId": "974582d7-4ae0-4f53-d39e-7d8ef9f12c84"
      },
      "source": [
        "output = net(input)\n",
        "target = torch.randn(10)    # a dummy target, for example\n",
        "target = target.view(1, -1) # make it the same shape as output\n",
        "criterion = nn.MSELoss()\n",
        "\n",
        "loss = criterion(output, target)\n",
        "print(loss)"
      ],
      "execution_count": 7,
      "outputs": [
        {
          "output_type": "stream",
          "text": [
            "tensor(0.3502, grad_fn=<MseLossBackward>)\n"
          ],
          "name": "stdout"
        }
      ]
    },
    {
      "cell_type": "code",
      "metadata": {
        "id": "8cVTKL9BsZ3c",
        "colab_type": "code",
        "colab": {
          "base_uri": "https://localhost:8080/",
          "height": 73
        },
        "outputId": "773c31e7-1f40-499b-81d1-2892d2f288b0"
      },
      "source": [
        "print(loss.grad_fn)     # MSELoss\n",
        "print(loss.grad_fn.next_functions[0][0])    # Linear\n",
        "print(loss.grad_fn.next_functions[0][0].next_functions[0][0])   # ReLU"
      ],
      "execution_count": 8,
      "outputs": [
        {
          "output_type": "stream",
          "text": [
            "<MseLossBackward object at 0x7f7b718b4240>\n",
            "<AddmmBackward object at 0x7f7b718b49e8>\n",
            "<AccumulateGrad object at 0x7f7b718b4240>\n"
          ],
          "name": "stdout"
        }
      ]
    },
    {
      "cell_type": "markdown",
      "metadata": {
        "id": "pRlZEmBxspkB",
        "colab_type": "text"
      },
      "source": [
        "### 역전파(Backprop)"
      ]
    },
    {
      "cell_type": "code",
      "metadata": {
        "id": "kVgJNiVwsufF",
        "colab_type": "code",
        "colab": {
          "base_uri": "https://localhost:8080/",
          "height": 91
        },
        "outputId": "b6db014e-69aa-4259-9f1b-bce1f9e85f35"
      },
      "source": [
        "net.zero_grad()     # zeros the gradient buffers of all parameters\n",
        "\n",
        "print('conv1.bias.grad before backward')\n",
        "print(net.conv1.bias.grad)\n",
        "\n",
        "loss.backward()\n",
        "\n",
        "print('conv1.bias.grad after backward')\n",
        "print(net.conv1.bias.grad)"
      ],
      "execution_count": 10,
      "outputs": [
        {
          "output_type": "stream",
          "text": [
            "conv1.bias.grad before backward\n",
            "tensor([0., 0., 0., 0., 0., 0.])\n",
            "conv1.bias.grad after backward\n",
            "tensor([-0.0014,  0.0033,  0.0033,  0.0039,  0.0094, -0.0059])\n"
          ],
          "name": "stdout"
        }
      ]
    },
    {
      "cell_type": "markdown",
      "metadata": {
        "id": "6SkYqHaXs9O7",
        "colab_type": "text"
      },
      "source": [
        "### 가중치 갱신"
      ]
    },
    {
      "cell_type": "code",
      "metadata": {
        "id": "h_p9eFUWtCGM",
        "colab_type": "code",
        "colab": {}
      },
      "source": [
        "learning_rate = 0.01\n",
        "for f in net.parameters():\n",
        "    f.data.sub_(f.grad.data * learning_rate)"
      ],
      "execution_count": 11,
      "outputs": []
    },
    {
      "cell_type": "code",
      "metadata": {
        "id": "xzsHal2otHh3",
        "colab_type": "code",
        "colab": {}
      },
      "source": [
        "import torch.optim as optim\n",
        "\n",
        "# Optimizer를 생성합니다.\n",
        "optimizer = optim.SGD(net.parameters(), lr=0.01)\n",
        "\n",
        "# 학습 과정(training loop)에서는 다음과 같습니다:\n",
        "optimizer.zero_grad()   # zero the gradienet buffers\n",
        "output = net(input)\n",
        "loss = criterion(output, target)\n",
        "loss.backward()\n",
        "optimizer.step()        # Dose the update"
      ],
      "execution_count": 12,
      "outputs": []
    }
  ]
}